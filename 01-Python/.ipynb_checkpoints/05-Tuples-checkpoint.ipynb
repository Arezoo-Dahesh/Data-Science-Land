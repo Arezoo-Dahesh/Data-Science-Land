{
 "cells": [
  {
   "cell_type": "markdown",
   "id": "4b00af99",
   "metadata": {},
   "source": [
    "### Tuples items:\n",
    "- Ordered\n",
    "- Unchangeable\n",
    "- Allow duplicate values"
   ]
  },
  {
   "cell_type": "code",
   "execution_count": 1,
   "id": "5d4ad282",
   "metadata": {},
   "outputs": [],
   "source": [
    "# 1\n",
    "cities = (\"Isfahan\", \"Tehran\", \"Shiraz\", \"Rasht\", \"Semnan\", \"Ahvaz\")\n",
    "ages = (18, 30, 19, 25, 29, 30)\n",
    "is_student = (True, False, False, True)\n",
    "student_1 = (\"Aram\", 25, True, \"Booshehr\", 19.5)"
   ]
  },
  {
   "cell_type": "code",
   "execution_count": 2,
   "id": "25ef95d0",
   "metadata": {},
   "outputs": [
    {
     "name": "stdout",
     "output_type": "stream",
     "text": [
      "('line', 'bar', 'pie', 'histogram', 'scatter')\n"
     ]
    }
   ],
   "source": [
    "# 2\n",
    "chart_type = tuple((\"line\", \"bar\", \"pie\", \"histogram\", \"scatter\"))\n",
    "# chart_type = tuple([\"line\", \"bar\", \"pie\", \"histogram\", \"scatter\"])\n",
    "print(chart_type)"
   ]
  },
  {
   "cell_type": "code",
   "execution_count": 3,
   "id": "8f695790",
   "metadata": {},
   "outputs": [
    {
     "name": "stdout",
     "output_type": "stream",
     "text": [
      "Pink\n",
      "<class 'str'>\n"
     ]
    }
   ],
   "source": [
    "tuple_1 = (\"Pink\")\n",
    "print(tuple_1)\n",
    "print(type(tuple_1))"
   ]
  },
  {
   "cell_type": "code",
   "execution_count": 4,
   "id": "c9e7d996",
   "metadata": {},
   "outputs": [
    {
     "name": "stdout",
     "output_type": "stream",
     "text": [
      "('Pink',)\n",
      "<class 'tuple'>\n"
     ]
    }
   ],
   "source": [
    "tuple_2 = (\"Pink\",)\n",
    "print(tuple_2)\n",
    "print(type(tuple_2))"
   ]
  },
  {
   "cell_type": "code",
   "execution_count": 5,
   "id": "a61e7039",
   "metadata": {},
   "outputs": [],
   "source": [
    "# empty tuple\n",
    "\n",
    "# tuple_1 = ()\n",
    "# tuple_2 = tuple()"
   ]
  },
  {
   "cell_type": "markdown",
   "id": "4a208eab",
   "metadata": {},
   "source": [
    "## `Length`"
   ]
  },
  {
   "cell_type": "code",
   "execution_count": 6,
   "id": "30a730f8",
   "metadata": {},
   "outputs": [
    {
     "data": {
      "text/plain": [
       "6"
      ]
     },
     "execution_count": 6,
     "metadata": {},
     "output_type": "execute_result"
    }
   ],
   "source": [
    "len(cities)"
   ]
  },
  {
   "cell_type": "code",
   "execution_count": 7,
   "id": "4a6861fc",
   "metadata": {},
   "outputs": [
    {
     "data": {
      "text/plain": [
       "4"
      ]
     },
     "execution_count": 7,
     "metadata": {},
     "output_type": "execute_result"
    }
   ],
   "source": [
    "len(is_student)"
   ]
  },
  {
   "cell_type": "code",
   "execution_count": 8,
   "id": "c680c442",
   "metadata": {},
   "outputs": [
    {
     "data": {
      "text/plain": [
       "5"
      ]
     },
     "execution_count": 8,
     "metadata": {},
     "output_type": "execute_result"
    }
   ],
   "source": [
    "len(student_1)"
   ]
  },
  {
   "cell_type": "markdown",
   "id": "738690c4",
   "metadata": {},
   "source": [
    "## `type()`"
   ]
  },
  {
   "cell_type": "code",
   "execution_count": 9,
   "id": "2516fec8",
   "metadata": {},
   "outputs": [
    {
     "name": "stdout",
     "output_type": "stream",
     "text": [
      "type(cities) is <class 'tuple'>\n",
      "type(ages) is <class 'tuple'>\n",
      "type(is_student) is <class 'tuple'>\n",
      "type(student_1) is <class 'tuple'>\n",
      "type(chart_type) is <class 'tuple'>\n"
     ]
    }
   ],
   "source": [
    "print(\"type(cities) is\", type(cities))\n",
    "print(\"type(ages) is\", type(ages))\n",
    "print(\"type(is_student) is\", type(is_student))\n",
    "print(\"type(student_1) is\", type(student_1))\n",
    "print(\"type(chart_type) is\", type(chart_type))"
   ]
  },
  {
   "cell_type": "markdown",
   "id": "ac8a9e3b",
   "metadata": {},
   "source": [
    "----------------------------------------"
   ]
  },
  {
   "cell_type": "markdown",
   "id": "5669b767",
   "metadata": {},
   "source": [
    "## 1. Tuple items are `ordered`"
   ]
  },
  {
   "cell_type": "code",
   "execution_count": 10,
   "id": "9fef2ab2",
   "metadata": {},
   "outputs": [
    {
     "name": "stdout",
     "output_type": "stream",
     "text": [
      "('Isfahan', 'Tehran', 'Shiraz', 'Rasht', 'Semnan', 'Ahvaz')\n"
     ]
    }
   ],
   "source": [
    "print(cities)"
   ]
  },
  {
   "cell_type": "code",
   "execution_count": 11,
   "id": "9d738bc2",
   "metadata": {},
   "outputs": [
    {
     "data": {
      "text/plain": [
       "'Isfahan'"
      ]
     },
     "execution_count": 11,
     "metadata": {},
     "output_type": "execute_result"
    }
   ],
   "source": [
    "cities[0]"
   ]
  },
  {
   "cell_type": "code",
   "execution_count": 12,
   "id": "e481d2a9",
   "metadata": {},
   "outputs": [
    {
     "data": {
      "text/plain": [
       "'Tehran'"
      ]
     },
     "execution_count": 12,
     "metadata": {},
     "output_type": "execute_result"
    }
   ],
   "source": [
    "cities[1]"
   ]
  },
  {
   "cell_type": "code",
   "execution_count": 13,
   "id": "ec4f07eb",
   "metadata": {},
   "outputs": [
    {
     "data": {
      "text/plain": [
       "'Ahvaz'"
      ]
     },
     "execution_count": 13,
     "metadata": {},
     "output_type": "execute_result"
    }
   ],
   "source": [
    "cities[-1]"
   ]
  },
  {
   "cell_type": "code",
   "execution_count": 14,
   "id": "312e61ff",
   "metadata": {},
   "outputs": [
    {
     "data": {
      "text/plain": [
       "('Tehran', 'Shiraz', 'Rasht')"
      ]
     },
     "execution_count": 14,
     "metadata": {},
     "output_type": "execute_result"
    }
   ],
   "source": [
    "cities[1:4]"
   ]
  },
  {
   "cell_type": "code",
   "execution_count": 15,
   "id": "e27e3ba8",
   "metadata": {},
   "outputs": [
    {
     "data": {
      "text/plain": [
       "('Rasht', 'Semnan', 'Ahvaz')"
      ]
     },
     "execution_count": 15,
     "metadata": {},
     "output_type": "execute_result"
    }
   ],
   "source": [
    "cities[3:]"
   ]
  },
  {
   "cell_type": "code",
   "execution_count": 16,
   "id": "5c73f921",
   "metadata": {},
   "outputs": [
    {
     "data": {
      "text/plain": [
       "('Isfahan', 'Tehran', 'Shiraz')"
      ]
     },
     "execution_count": 16,
     "metadata": {},
     "output_type": "execute_result"
    }
   ],
   "source": [
    "cities[:3]"
   ]
  },
  {
   "cell_type": "code",
   "execution_count": 17,
   "id": "7da5e2d1",
   "metadata": {},
   "outputs": [
    {
     "data": {
      "text/plain": [
       "('Tehran', 'Shiraz', 'Rasht', 'Semnan')"
      ]
     },
     "execution_count": 17,
     "metadata": {},
     "output_type": "execute_result"
    }
   ],
   "source": [
    "cities[-5:-1]"
   ]
  },
  {
   "cell_type": "code",
   "execution_count": 18,
   "id": "f5249e89",
   "metadata": {},
   "outputs": [
    {
     "data": {
      "text/plain": [
       "('Tehran', 'Shiraz', 'Rasht', 'Semnan', 'Ahvaz')"
      ]
     },
     "execution_count": 18,
     "metadata": {},
     "output_type": "execute_result"
    }
   ],
   "source": [
    "cities[-5:]"
   ]
  },
  {
   "cell_type": "code",
   "execution_count": 19,
   "id": "1ed154b1",
   "metadata": {},
   "outputs": [
    {
     "data": {
      "text/plain": [
       "('Isfahan', 'Tehran', 'Shiraz', 'Rasht')"
      ]
     },
     "execution_count": 19,
     "metadata": {},
     "output_type": "execute_result"
    }
   ],
   "source": [
    "cities[:-2]"
   ]
  },
  {
   "cell_type": "code",
   "execution_count": 20,
   "id": "1202f5a0",
   "metadata": {},
   "outputs": [
    {
     "data": {
      "text/plain": [
       "('Isfahan', 'Tehran', 'Shiraz', 'Rasht', 'Semnan', 'Ahvaz')"
      ]
     },
     "execution_count": 20,
     "metadata": {},
     "output_type": "execute_result"
    }
   ],
   "source": [
    "cities[:]"
   ]
  },
  {
   "cell_type": "code",
   "execution_count": 21,
   "id": "845123c0",
   "metadata": {},
   "outputs": [
    {
     "data": {
      "text/plain": [
       "('Isfahan', 'Shiraz', 'Semnan')"
      ]
     },
     "execution_count": 21,
     "metadata": {},
     "output_type": "execute_result"
    }
   ],
   "source": [
    "cities[::2]"
   ]
  },
  {
   "cell_type": "code",
   "execution_count": 22,
   "id": "d3a84625",
   "metadata": {},
   "outputs": [
    {
     "data": {
      "text/plain": [
       "('Ahvaz', 'Semnan', 'Rasht', 'Shiraz', 'Tehran', 'Isfahan')"
      ]
     },
     "execution_count": 22,
     "metadata": {},
     "output_type": "execute_result"
    }
   ],
   "source": [
    "cities[::-1]"
   ]
  },
  {
   "cell_type": "markdown",
   "id": "588abbbd",
   "metadata": {},
   "source": [
    "## 2. `Duplicate values` can be in tuple"
   ]
  },
  {
   "cell_type": "code",
   "execution_count": 23,
   "id": "7be8cd3f",
   "metadata": {},
   "outputs": [
    {
     "name": "stdout",
     "output_type": "stream",
     "text": [
      "(18, 30, 19, 25, 29, 30)\n"
     ]
    }
   ],
   "source": [
    "print(ages)"
   ]
  },
  {
   "cell_type": "code",
   "execution_count": 24,
   "id": "98d51290",
   "metadata": {},
   "outputs": [
    {
     "data": {
      "text/plain": [
       "30"
      ]
     },
     "execution_count": 24,
     "metadata": {},
     "output_type": "execute_result"
    }
   ],
   "source": [
    "ages[1]"
   ]
  },
  {
   "cell_type": "code",
   "execution_count": 25,
   "id": "3b115dcd",
   "metadata": {},
   "outputs": [
    {
     "data": {
      "text/plain": [
       "30"
      ]
     },
     "execution_count": 25,
     "metadata": {},
     "output_type": "execute_result"
    }
   ],
   "source": [
    "ages[5]"
   ]
  },
  {
   "cell_type": "markdown",
   "id": "4d79b777",
   "metadata": {},
   "source": [
    "## 3. Tuple items are `not changeable` \n",
    "But there is a solution"
   ]
  },
  {
   "cell_type": "markdown",
   "id": "66887a8f",
   "metadata": {},
   "source": [
    "## `Change items`"
   ]
  },
  {
   "cell_type": "code",
   "execution_count": 26,
   "id": "ce43303f",
   "metadata": {},
   "outputs": [
    {
     "name": "stdout",
     "output_type": "stream",
     "text": [
      "('line', 'bar', 'pie', 'histogram', 'scatter')\n"
     ]
    }
   ],
   "source": [
    "print(chart_type)"
   ]
  },
  {
   "cell_type": "code",
   "execution_count": 27,
   "id": "03deb75f",
   "metadata": {},
   "outputs": [
    {
     "data": {
      "text/plain": [
       "['line', 'bar', 'pie', 'histogram', 'scatter']"
      ]
     },
     "execution_count": 27,
     "metadata": {},
     "output_type": "execute_result"
    }
   ],
   "source": [
    "chart_type_list = list(chart_type)\n",
    "chart_type_list"
   ]
  },
  {
   "cell_type": "code",
   "execution_count": 28,
   "id": "61a51a04",
   "metadata": {},
   "outputs": [],
   "source": [
    "# xxx\n",
    "chart_type_2 = chart_type_list\n",
    "\n",
    "# 1\n",
    "chart_type_3 = chart_type_list.copy()\n",
    "\n",
    "# 2\n",
    "chart_type_4 = list(chart_type_list)"
   ]
  },
  {
   "cell_type": "code",
   "execution_count": 29,
   "id": "7b9068f1",
   "metadata": {},
   "outputs": [
    {
     "name": "stdout",
     "output_type": "stream",
     "text": [
      "chart_type_list[-1] is scatter\n",
      "------------------------------\n",
      "New chart_type -> ('line', 'bar', 'pie', 'histogram', 'box')\n"
     ]
    }
   ],
   "source": [
    "print('chart_type_list[-1] is', chart_type_list[-1])\n",
    "print(\"-\"*30)\n",
    "chart_type_list[-1] = \"box\"\n",
    "\n",
    "chart_type = tuple(chart_type_list)\n",
    "print('New chart_type ->', chart_type)"
   ]
  },
  {
   "cell_type": "code",
   "execution_count": 30,
   "id": "1977246c",
   "metadata": {},
   "outputs": [
    {
     "name": "stdout",
     "output_type": "stream",
     "text": [
      "chart_type_list:\n",
      "['line', 'bar', 'pie', 'histogram', 'scatter']\n",
      "------------------------------\n",
      "chart_type_list[1:3]:\n",
      "['bar', 'pie']\n",
      "------------------------------\n",
      "new chart_type:\n",
      "('line', 'area', 'bubble chart', 'histogram', 'scatter')\n"
     ]
    }
   ],
   "source": [
    "chart_type_list = chart_type_3.copy()\n",
    "print('chart_type_list:')\n",
    "print(chart_type_list)\n",
    "print(\"-\"*30)\n",
    "\n",
    "print('chart_type_list[1:3]:')\n",
    "print(chart_type_list[1:3])\n",
    "print(\"-\"*30)\n",
    "\n",
    "chart_type_list[1:3] = ['area', 'bubble chart']\n",
    "print('new chart_type:')\n",
    "chart_type = tuple(chart_type_list)\n",
    "print(chart_type)"
   ]
  },
  {
   "cell_type": "code",
   "execution_count": 31,
   "id": "611bede1",
   "metadata": {},
   "outputs": [
    {
     "name": "stdout",
     "output_type": "stream",
     "text": [
      "chart_type_list:\n",
      "['line', 'bar', 'pie', 'histogram', 'scatter']\n",
      "len(chart_type_list) =>  5\n",
      "------------------------------\n",
      "chart_type_list[2:3]:\n",
      "['pie']\n",
      "------------------------------\n",
      "new chart_type:\n",
      "('line', 'bar', 'area', 'bubble chart', 'histogram', 'scatter')\n"
     ]
    }
   ],
   "source": [
    "chart_type_list = chart_type_3.copy()\n",
    "print('chart_type_list:')\n",
    "print(chart_type_list)\n",
    "print('len(chart_type_list) => ', len(chart_type_list))\n",
    "print(\"-\"*30)\n",
    "\n",
    "print('chart_type_list[2:3]:')\n",
    "print(chart_type_list[2:3])\n",
    "print(\"-\"*30)\n",
    "\n",
    "chart_type_list[2:3] = ['area', 'bubble chart']\n",
    "print('new chart_type:')\n",
    "chart_type = tuple(chart_type_list)\n",
    "print(chart_type)"
   ]
  },
  {
   "cell_type": "code",
   "execution_count": 32,
   "id": "2a1b1ccb",
   "metadata": {},
   "outputs": [
    {
     "name": "stdout",
     "output_type": "stream",
     "text": [
      "chart_type_list:\n",
      "['line', 'bar', 'pie', 'histogram', 'scatter']\n",
      "len(chart_type_list) =>  5\n",
      "------------------------------\n",
      "chart_type_list[1:3]:\n",
      "['bar', 'pie']\n",
      "------------------------------\n",
      "new chart_type:\n",
      "('line', 'area', 'histogram', 'scatter')\n",
      "len(chart_type) =>  4\n"
     ]
    }
   ],
   "source": [
    "chart_type_list = chart_type_3.copy()\n",
    "print('chart_type_list:')\n",
    "print(chart_type_list)\n",
    "print('len(chart_type_list) => ', len(chart_type_list))\n",
    "print(\"-\"*30)\n",
    "\n",
    "print('chart_type_list[1:3]:')\n",
    "print(chart_type_list[1:3])\n",
    "print(\"-\"*30)\n",
    "\n",
    "chart_type_list[1:3] = ['area']\n",
    "print('new chart_type:')\n",
    "chart_type = tuple(chart_type_list)\n",
    "print(chart_type)\n",
    "print('len(chart_type) => ', len(chart_type))"
   ]
  },
  {
   "cell_type": "markdown",
   "id": "aeed0a06",
   "metadata": {},
   "source": [
    "## `Add items`"
   ]
  },
  {
   "cell_type": "markdown",
   "id": "2e5ade89",
   "metadata": {},
   "source": [
    "The first solution"
   ]
  },
  {
   "cell_type": "code",
   "execution_count": 33,
   "id": "78400d43",
   "metadata": {},
   "outputs": [
    {
     "name": "stdout",
     "output_type": "stream",
     "text": [
      "chart_type_list:\n",
      "['line', 'bar', 'pie', 'histogram', 'scatter']\n",
      "------------------------------\n",
      "new chart_type:\n",
      "('line', 'doughnut', 'bar', 'pie', 'histogram', 'scatter')\n"
     ]
    }
   ],
   "source": [
    "# insert()\n",
    "# type(chart_type_3) -> list\n",
    "\n",
    "chart_type_list = chart_type_3.copy()\n",
    "print('chart_type_list:')\n",
    "print(chart_type_list)\n",
    "print(\"-\"*30)\n",
    "\n",
    "chart_type_list.insert(1, 'doughnut')\n",
    "print('new chart_type:')\n",
    "chart_type = tuple(chart_type_list)\n",
    "print(chart_type)"
   ]
  },
  {
   "cell_type": "code",
   "execution_count": 34,
   "id": "bfb731d7",
   "metadata": {},
   "outputs": [
    {
     "name": "stdout",
     "output_type": "stream",
     "text": [
      "chart_type_list:\n",
      "['line', 'bar', 'pie', 'histogram', 'scatter']\n",
      "------------------------------\n",
      "new chart_type:\n",
      "('line', 'bar', 'pie', 'histogram', 'scatter', 'doughnut')\n"
     ]
    }
   ],
   "source": [
    "# append()\n",
    "# type(chart_type_3) -> list\n",
    "\n",
    "chart_type_list = chart_type_3.copy()\n",
    "print('chart_type_list:')\n",
    "print(chart_type_list)\n",
    "print(\"-\"*30)\n",
    "\n",
    "chart_type_list.append('doughnut')\n",
    "print('new chart_type:')\n",
    "chart_type = tuple(chart_type_list)\n",
    "print(chart_type)"
   ]
  },
  {
   "cell_type": "code",
   "execution_count": 35,
   "id": "94694cda",
   "metadata": {},
   "outputs": [
    {
     "ename": "AttributeError",
     "evalue": "'tuple' object has no attribute 'extend'",
     "output_type": "error",
     "traceback": [
      "\u001b[1;31m---------------------------------------------------------------------------\u001b[0m",
      "\u001b[1;31mAttributeError\u001b[0m                            Traceback (most recent call last)",
      "\u001b[1;32m~\\AppData\\Local\\Temp\\ipykernel_21204\\846285697.py\u001b[0m in \u001b[0;36m<module>\u001b[1;34m\u001b[0m\n\u001b[0;32m      2\u001b[0m \u001b[0mcolors_2\u001b[0m \u001b[1;33m=\u001b[0m \u001b[1;33m(\u001b[0m\u001b[1;34m'Blue'\u001b[0m\u001b[1;33m,\u001b[0m \u001b[1;34m'Green'\u001b[0m\u001b[1;33m,\u001b[0m \u001b[1;34m'Orange'\u001b[0m\u001b[1;33m)\u001b[0m\u001b[1;33m\u001b[0m\u001b[1;33m\u001b[0m\u001b[0m\n\u001b[0;32m      3\u001b[0m \u001b[1;33m\u001b[0m\u001b[0m\n\u001b[1;32m----> 4\u001b[1;33m \u001b[0mcolors_1\u001b[0m\u001b[1;33m.\u001b[0m\u001b[0mextend\u001b[0m\u001b[1;33m(\u001b[0m\u001b[0mcolors_2\u001b[0m\u001b[1;33m)\u001b[0m\u001b[1;33m\u001b[0m\u001b[1;33m\u001b[0m\u001b[0m\n\u001b[0m\u001b[0;32m      5\u001b[0m \u001b[0mprint\u001b[0m\u001b[1;33m(\u001b[0m\u001b[0mcolors_1\u001b[0m\u001b[1;33m)\u001b[0m\u001b[1;33m\u001b[0m\u001b[1;33m\u001b[0m\u001b[0m\n",
      "\u001b[1;31mAttributeError\u001b[0m: 'tuple' object has no attribute 'extend'"
     ]
    }
   ],
   "source": [
    "colors_1 = ('Pink', 'Purple', 'Red')\n",
    "colors_2 = ('Blue', 'Green', 'Orange')\n",
    "\n",
    "colors_1.extend(colors_2)\n",
    "print(colors_1)"
   ]
  },
  {
   "cell_type": "code",
   "execution_count": 36,
   "id": "348fb1f3",
   "metadata": {},
   "outputs": [
    {
     "name": "stdout",
     "output_type": "stream",
     "text": [
      "['Pink', 'Purple', 'Red', 'Blue', 'Green', 'Orange']\n"
     ]
    }
   ],
   "source": [
    "colors_1 = ('Pink', 'Purple', 'Red')\n",
    "colors_2 = ('Blue', 'Green', 'Orange')\n",
    "\n",
    "# ****************\n",
    "colors_1 = list(colors_1)\n",
    "# ****************\n",
    "\n",
    "colors_1.extend(colors_2)\n",
    "print(colors_1)"
   ]
  },
  {
   "cell_type": "code",
   "execution_count": 37,
   "id": "df0d5856",
   "metadata": {
    "scrolled": true
   },
   "outputs": [
    {
     "name": "stdout",
     "output_type": "stream",
     "text": [
      "('Pink', 'Purple', 'Red', 'Blue', 'Green', 'Orange')\n",
      "<class 'tuple'>\n"
     ]
    }
   ],
   "source": [
    "colors_1 = tuple(colors_1)\n",
    "print(colors_1)\n",
    "print(type(colors_1))"
   ]
  },
  {
   "cell_type": "markdown",
   "id": "ecb9d7e0",
   "metadata": {},
   "source": [
    "The second solution"
   ]
  },
  {
   "cell_type": "code",
   "execution_count": 38,
   "id": "20397c86",
   "metadata": {},
   "outputs": [
    {
     "name": "stdout",
     "output_type": "stream",
     "text": [
      "('Pink', 'Purple', 'Red', 'Orange')\n"
     ]
    }
   ],
   "source": [
    "colors_1 = ('Pink', 'Purple', 'Red')\n",
    "color = ('Orange',)\n",
    "colors_1 = colors_1 + color\n",
    "\n",
    "# Or\n",
    "# colors_1 += color\n",
    "\n",
    "print(colors_1)"
   ]
  },
  {
   "cell_type": "code",
   "execution_count": 39,
   "id": "f4a18513",
   "metadata": {},
   "outputs": [
    {
     "name": "stdout",
     "output_type": "stream",
     "text": [
      "('Pink', 'Purple', 'Red', 'Blue', 'Green', 'Orange')\n"
     ]
    }
   ],
   "source": [
    "colors_1 = ('Pink', 'Purple', 'Red')\n",
    "colors_2 = ('Blue', 'Green', 'Orange')\n",
    "\n",
    "colors_3 = colors_1 + colors_2 \n",
    "print(colors_3)"
   ]
  },
  {
   "cell_type": "code",
   "execution_count": 40,
   "id": "5cdf0465",
   "metadata": {},
   "outputs": [
    {
     "name": "stdout",
     "output_type": "stream",
     "text": [
      "('Ali', 'Zahra', 'Pavaneh', 18, 50, 30, 27)\n"
     ]
    }
   ],
   "source": [
    "names = ('Ali', 'Zahra', 'Pavaneh')\n",
    "grades = (18, 50, 30, 27)\n",
    "\n",
    "result = names + grades \n",
    "print(result)"
   ]
  },
  {
   "cell_type": "markdown",
   "id": "49229317",
   "metadata": {},
   "source": [
    "## `Remove items`"
   ]
  },
  {
   "cell_type": "code",
   "execution_count": 41,
   "id": "cb704170",
   "metadata": {},
   "outputs": [
    {
     "name": "stdout",
     "output_type": "stream",
     "text": [
      "('Pink', 'Purple', 'Red', 'Blue', 'Orange', 'Green')\n"
     ]
    }
   ],
   "source": [
    "colors_1 = ('Pink', 'Purple', 'Red', 'Blue', 'Orange', 'Green')\n",
    "print(colors_1)"
   ]
  },
  {
   "cell_type": "code",
   "execution_count": 42,
   "id": "9b97bab7",
   "metadata": {},
   "outputs": [
    {
     "name": "stdout",
     "output_type": "stream",
     "text": [
      "colors_1 -> ('Pink', 'Purple', 'Red', 'Blue', 'Green')\n"
     ]
    }
   ],
   "source": [
    "colors_1_list = list(colors_1)\n",
    "# ------------------------------\n",
    "\n",
    "colors_1_list.remove('Orange')\n",
    "colors_1 = tuple(colors_1_list)\n",
    "print('colors_1 ->', colors_1)"
   ]
  },
  {
   "cell_type": "code",
   "execution_count": 43,
   "id": "82d67e9c",
   "metadata": {},
   "outputs": [
    {
     "name": "stdout",
     "output_type": "stream",
     "text": [
      "colors_1 -> ('Pink', 'Red', 'Blue', 'Green')\n",
      "------------------------------\n",
      "tmp -> Purple\n"
     ]
    }
   ],
   "source": [
    "# with index\n",
    "tmp = colors_1_list.pop(1)\n",
    "\n",
    "colors_1 = tuple(colors_1_list)\n",
    "print('colors_1 ->', colors_1)\n",
    "print(\"-\"*30)\n",
    "print('tmp ->', tmp)"
   ]
  },
  {
   "cell_type": "code",
   "execution_count": 44,
   "id": "8faf06c9",
   "metadata": {},
   "outputs": [
    {
     "name": "stdout",
     "output_type": "stream",
     "text": [
      "colors_1 -> ('Pink', 'Red', 'Blue')\n",
      "------------------------------\n",
      "tmp -> Green\n"
     ]
    }
   ],
   "source": [
    "# without index\n",
    "tmp = colors_1_list.pop()\n",
    "\n",
    "colors_1 = tuple(colors_1_list)\n",
    "print('colors_1 ->', colors_1)\n",
    "print(\"-\"*30)\n",
    "print('tmp ->', tmp)"
   ]
  },
  {
   "cell_type": "code",
   "execution_count": 45,
   "id": "32fd0599",
   "metadata": {},
   "outputs": [
    {
     "name": "stdout",
     "output_type": "stream",
     "text": [
      "('Pink', 'Blue')\n"
     ]
    }
   ],
   "source": [
    "del colors_1_list[1]\n",
    "\n",
    "colors_1 = tuple(colors_1_list)\n",
    "print(colors_1)"
   ]
  },
  {
   "cell_type": "code",
   "execution_count": 46,
   "id": "804506c9",
   "metadata": {},
   "outputs": [
    {
     "ename": "NameError",
     "evalue": "name 'colors_1_list' is not defined",
     "output_type": "error",
     "traceback": [
      "\u001b[1;31m---------------------------------------------------------------------------\u001b[0m",
      "\u001b[1;31mNameError\u001b[0m                                 Traceback (most recent call last)",
      "\u001b[1;32m~\\AppData\\Local\\Temp\\ipykernel_21204\\1117583362.py\u001b[0m in \u001b[0;36m<module>\u001b[1;34m\u001b[0m\n\u001b[0;32m      3\u001b[0m \u001b[1;32mdel\u001b[0m \u001b[0mcolors_1_list\u001b[0m\u001b[1;33m\u001b[0m\u001b[1;33m\u001b[0m\u001b[0m\n\u001b[0;32m      4\u001b[0m \u001b[1;33m\u001b[0m\u001b[0m\n\u001b[1;32m----> 5\u001b[1;33m \u001b[0mprint\u001b[0m\u001b[1;33m(\u001b[0m\u001b[0mcolors_1_list\u001b[0m\u001b[1;33m)\u001b[0m\u001b[1;33m\u001b[0m\u001b[1;33m\u001b[0m\u001b[0m\n\u001b[0m",
      "\u001b[1;31mNameError\u001b[0m: name 'colors_1_list' is not defined"
     ]
    }
   ],
   "source": [
    "# type(colors_1_list) -> list\n",
    "\n",
    "del colors_1_list\n",
    "\n",
    "print(colors_1_list)"
   ]
  },
  {
   "cell_type": "code",
   "execution_count": 47,
   "id": "83542e40",
   "metadata": {},
   "outputs": [
    {
     "ename": "NameError",
     "evalue": "name 'colors_1' is not defined",
     "output_type": "error",
     "traceback": [
      "\u001b[1;31m---------------------------------------------------------------------------\u001b[0m",
      "\u001b[1;31mNameError\u001b[0m                                 Traceback (most recent call last)",
      "\u001b[1;32m~\\AppData\\Local\\Temp\\ipykernel_21204\\1688495799.py\u001b[0m in \u001b[0;36m<module>\u001b[1;34m\u001b[0m\n\u001b[0;32m      3\u001b[0m \u001b[1;32mdel\u001b[0m \u001b[0mcolors_1\u001b[0m\u001b[1;33m\u001b[0m\u001b[1;33m\u001b[0m\u001b[0m\n\u001b[0;32m      4\u001b[0m \u001b[1;33m\u001b[0m\u001b[0m\n\u001b[1;32m----> 5\u001b[1;33m \u001b[0mprint\u001b[0m\u001b[1;33m(\u001b[0m\u001b[0mcolors_1\u001b[0m\u001b[1;33m)\u001b[0m\u001b[1;33m\u001b[0m\u001b[1;33m\u001b[0m\u001b[0m\n\u001b[0m",
      "\u001b[1;31mNameError\u001b[0m: name 'colors_1' is not defined"
     ]
    }
   ],
   "source": [
    "# type(colors_1) -> tuple\n",
    "\n",
    "del colors_1\n",
    "\n",
    "print(colors_1)"
   ]
  },
  {
   "cell_type": "code",
   "execution_count": 48,
   "id": "55dc136b",
   "metadata": {},
   "outputs": [
    {
     "name": "stdout",
     "output_type": "stream",
     "text": [
      "('Pink', 'Purple', 'Red', 'Blue', 'Orange', 'Green')\n"
     ]
    }
   ],
   "source": [
    "colors_1 = ('Pink', 'Purple', 'Red', 'Blue', 'Orange', 'Green')\n",
    "print(colors_1)"
   ]
  },
  {
   "cell_type": "code",
   "execution_count": 49,
   "id": "5af637da",
   "metadata": {},
   "outputs": [
    {
     "name": "stdout",
     "output_type": "stream",
     "text": [
      "colors_1 -> ()\n"
     ]
    }
   ],
   "source": [
    "colors_1_list = list(colors_1)\n",
    "colors_1_list.clear()\n",
    "\n",
    "\n",
    "colors_1 = tuple(colors_1_list)\n",
    "print('colors_1 ->', colors_1)"
   ]
  },
  {
   "cell_type": "markdown",
   "id": "e6dff062",
   "metadata": {},
   "source": [
    "------------------------------------------------------------------------"
   ]
  },
  {
   "cell_type": "markdown",
   "id": "27d7cc74",
   "metadata": {},
   "source": [
    "## `Check item in tuple`"
   ]
  },
  {
   "cell_type": "code",
   "execution_count": 50,
   "id": "bf805040",
   "metadata": {},
   "outputs": [
    {
     "name": "stdout",
     "output_type": "stream",
     "text": [
      "(18, 30, 19, 25, 29, 30)\n"
     ]
    }
   ],
   "source": [
    "print(ages)"
   ]
  },
  {
   "cell_type": "code",
   "execution_count": 51,
   "id": "e3f93ee7",
   "metadata": {},
   "outputs": [
    {
     "data": {
      "text/plain": [
       "True"
      ]
     },
     "execution_count": 51,
     "metadata": {},
     "output_type": "execute_result"
    }
   ],
   "source": [
    "18 in ages"
   ]
  },
  {
   "cell_type": "code",
   "execution_count": 52,
   "id": "2dbe9ee9",
   "metadata": {},
   "outputs": [
    {
     "name": "stdout",
     "output_type": "stream",
     "text": [
      "20 is ages -> False\n",
      "20 isn't ages -> True\n"
     ]
    }
   ],
   "source": [
    "print('20 is ages ->', 20 in ages)\n",
    "print('20 isn\\'t ages ->', 20 not in ages)"
   ]
  },
  {
   "cell_type": "markdown",
   "id": "f2e06a6e",
   "metadata": {},
   "source": [
    "## `Unpack Tuples`"
   ]
  },
  {
   "cell_type": "code",
   "execution_count": 53,
   "id": "9c8e4ce5",
   "metadata": {},
   "outputs": [
    {
     "name": "stdout",
     "output_type": "stream",
     "text": [
      "('pandas', 'numpy', 'sklearn', 'matplotlib', 'seaborn')\n"
     ]
    }
   ],
   "source": [
    "libraries = ('pandas', 'numpy', 'sklearn', 'matplotlib', 'seaborn')\n",
    "print(libraries)"
   ]
  },
  {
   "cell_type": "code",
   "execution_count": 54,
   "id": "8b9e8ff8",
   "metadata": {},
   "outputs": [
    {
     "name": "stdout",
     "output_type": "stream",
     "text": [
      "pandas\n",
      "numpy\n",
      "sklearn\n",
      "matplotlib\n",
      "seaborn\n"
     ]
    }
   ],
   "source": [
    "(lib_1, lib_2, lib_3, lib_4, lib_5) = libraries\n",
    "\n",
    "print(lib_1)\n",
    "print(lib_2)\n",
    "print(lib_3)\n",
    "print(lib_4)\n",
    "print(lib_5)"
   ]
  },
  {
   "cell_type": "code",
   "execution_count": 55,
   "id": "7f50a58b",
   "metadata": {},
   "outputs": [
    {
     "name": "stdout",
     "output_type": "stream",
     "text": [
      "pandas\n",
      "numpy\n",
      "sklearn\n",
      "['matplotlib', 'seaborn']\n"
     ]
    }
   ],
   "source": [
    "(lib_1, lib_2, lib_3, *lib_4) = libraries\n",
    "\n",
    "print(lib_1)\n",
    "print(lib_2)\n",
    "print(lib_3)\n",
    "print(lib_4)"
   ]
  },
  {
   "cell_type": "code",
   "execution_count": 56,
   "id": "9bc145e0",
   "metadata": {},
   "outputs": [
    {
     "name": "stdout",
     "output_type": "stream",
     "text": [
      "pandas\n",
      "['numpy', 'sklearn', 'matplotlib']\n",
      "seaborn\n"
     ]
    }
   ],
   "source": [
    "# ('pandas', 'numpy', 'sklearn', 'matplotlib', 'seaborn')\n",
    "(lib_1, *lib_2, lib_3) = libraries\n",
    "\n",
    "print(lib_1)\n",
    "print(lib_2)\n",
    "print(lib_3)"
   ]
  },
  {
   "cell_type": "code",
   "execution_count": 57,
   "id": "7e8350b2",
   "metadata": {},
   "outputs": [
    {
     "name": "stdout",
     "output_type": "stream",
     "text": [
      "('pandas', 'numpy', 'sklearn', 'matplotlib', 'seaborn', 'pandas', 'numpy', 'sklearn', 'matplotlib', 'seaborn')\n"
     ]
    }
   ],
   "source": [
    "# **\n",
    "\n",
    "duplicate = libraries * 2\n",
    "print(duplicate)"
   ]
  },
  {
   "cell_type": "markdown",
   "id": "71cff17a",
   "metadata": {},
   "source": [
    "------------------------------------------------"
   ]
  },
  {
   "cell_type": "markdown",
   "id": "2250da1b",
   "metadata": {},
   "source": [
    "Methods for tuple -> https://www.w3schools.com/python/python_tuples_methods.asp"
   ]
  },
  {
   "cell_type": "markdown",
   "id": "15b82429",
   "metadata": {},
   "source": [
    "## `Simple practice`"
   ]
  },
  {
   "cell_type": "code",
   "execution_count": 59,
   "id": "4cf74ca8",
   "metadata": {},
   "outputs": [],
   "source": [
    "musical_instrument = ('Guitar', 'Piano', 'Violon', 'Drums', 'Cello', 'Accordian')"
   ]
  },
  {
   "cell_type": "markdown",
   "id": "9a801516",
   "metadata": {},
   "source": [
    "- طول تاپل را به دست آورید. با چه دستوری طول را حساب کردید؟\n",
    "--------------------------------------------------\n",
    "\n",
    "- عنصر آخر تاپل را برگردانید\n",
    "--------------------------------------------------\n",
    "\n",
    "- عناصر دوم تا پنجم تاپل را برگردانید. از اندیس منفی اسنفاده کنید\n",
    "--------------------------------------------------\n",
    "\n",
    "- خروجی دستورات زیر چیست؟\n",
    "\n",
    "musical_instrument[:2]\n",
    "\n",
    "musical_instrument[4:]\n",
    "\n",
    "musical_instrument[0:3]\n",
    "\n",
    "--------------------------------------------------\n",
    "- ساز زیر را به مکان دوم تاپل مذکور اضافه کنید\n",
    "\n",
    "'Keyboard'\n",
    "\n",
    "--------------------------------------------------\n",
    "\n",
    "-  عناصر تاپل بالا را در چهار متغیر قرار دهید به گونه ای که متغیر دوم از جنس لیست باشد \n",
    "--------------------------------------------------\n",
    "\n",
    "- تاپل مورد بررسی را به صورت صعودی مرتب کنید \n"
   ]
  },
  {
   "cell_type": "code",
   "execution_count": null,
   "id": "09277e6a",
   "metadata": {},
   "outputs": [],
   "source": []
  }
 ],
 "metadata": {
  "kernelspec": {
   "display_name": "Python 3 (ipykernel)",
   "language": "python",
   "name": "python3"
  },
  "language_info": {
   "codemirror_mode": {
    "name": "ipython",
    "version": 3
   },
   "file_extension": ".py",
   "mimetype": "text/x-python",
   "name": "python",
   "nbconvert_exporter": "python",
   "pygments_lexer": "ipython3",
   "version": "3.9.13"
  }
 },
 "nbformat": 4,
 "nbformat_minor": 5
}
