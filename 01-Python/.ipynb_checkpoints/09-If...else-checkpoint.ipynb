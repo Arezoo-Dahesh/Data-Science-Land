{
 "cells": [
  {
   "cell_type": "markdown",
   "id": "5cdea3e3",
   "metadata": {},
   "source": [
    "## `Conditions and If statements`"
   ]
  },
  {
   "cell_type": "markdown",
   "id": "1caef52f",
   "metadata": {},
   "source": [
    "### if"
   ]
  },
  {
   "cell_type": "code",
   "execution_count": 41,
   "id": "9679e875",
   "metadata": {},
   "outputs": [],
   "source": [
    "# Indentation"
   ]
  },
  {
   "cell_type": "code",
   "execution_count": null,
   "id": "738ab863",
   "metadata": {},
   "outputs": [],
   "source": [
    "# if condition:\n",
    "#     statement_1\n",
    "#     statement_2\n",
    "#     statement_3\n",
    "#     ..."
   ]
  },
  {
   "cell_type": "code",
   "execution_count": 62,
   "id": "e5f656aa",
   "metadata": {},
   "outputs": [],
   "source": [
    "num = 0\n",
    "if num > 0:\n",
    "    print(\"num is 'Positive number'\")"
   ]
  },
  {
   "cell_type": "code",
   "execution_count": 44,
   "id": "78d10fef",
   "metadata": {},
   "outputs": [
    {
     "ename": "IndentationError",
     "evalue": "expected an indented block (3459491243.py, line 4)",
     "output_type": "error",
     "traceback": [
      "\u001b[1;36m  File \u001b[1;32m\"C:\\Users\\Arezoo_D\\AppData\\Local\\Temp\\ipykernel_8288\\3459491243.py\"\u001b[1;36m, line \u001b[1;32m4\u001b[0m\n\u001b[1;33m    print(\"Positive number\")\u001b[0m\n\u001b[1;37m    ^\u001b[0m\n\u001b[1;31mIndentationError\u001b[0m\u001b[1;31m:\u001b[0m expected an indented block\n"
     ]
    }
   ],
   "source": [
    "# Wrong\n",
    "\n",
    "if a > 0:\n",
    "print(\"Positive number\")"
   ]
  },
  {
   "cell_type": "markdown",
   "id": "d2d81e1a",
   "metadata": {},
   "source": [
    "### elif"
   ]
  },
  {
   "cell_type": "code",
   "execution_count": 45,
   "id": "6c66ef43",
   "metadata": {},
   "outputs": [],
   "source": [
    "# if condition_1:\n",
    "#     statement_1\n",
    "#     statement_2\n",
    "#     ...\n",
    "# elif condition_2:\n",
    "#     statement_3\n",
    "#     ..."
   ]
  },
  {
   "cell_type": "code",
   "execution_count": 64,
   "id": "2717bd37",
   "metadata": {},
   "outputs": [],
   "source": [
    "# Shift+tab\n",
    "\n",
    "if num > 0:\n",
    "    print(\"num is 'Positive number'\")\n",
    "elif num == 0:\n",
    "    print(\"num is equal to zero\")"
   ]
  },
  {
   "cell_type": "markdown",
   "id": "ac63d7d0",
   "metadata": {},
   "source": [
    "### else"
   ]
  },
  {
   "cell_type": "code",
   "execution_count": 47,
   "id": "f0af49aa",
   "metadata": {},
   "outputs": [],
   "source": [
    "# if condition_1:\n",
    "#     statement_1\n",
    "#     statement_2\n",
    "#     ...\n",
    "# elif condition_2:\n",
    "#     statement_3\n",
    "#     ...\n",
    "# else:\n",
    "#     statement_4\n",
    "#     ..."
   ]
  },
  {
   "cell_type": "code",
   "execution_count": 48,
   "id": "6c4b0d78",
   "metadata": {},
   "outputs": [
    {
     "name": "stdout",
     "output_type": "stream",
     "text": [
      "num is 'Negative number'\n"
     ]
    }
   ],
   "source": [
    "num = -5\n",
    "\n",
    "if num > 0:\n",
    "    print(\"num is 'Positive number'\")\n",
    "elif num == 0:\n",
    "    print(\"num is equal to zero\")\n",
    "else:\n",
    "    print(\"num is 'Negative number'\")"
   ]
  },
  {
   "cell_type": "code",
   "execution_count": 49,
   "id": "7a146436",
   "metadata": {},
   "outputs": [
    {
     "name": "stdout",
     "output_type": "stream",
     "text": [
      "num is not 'Positive number'\n"
     ]
    }
   ],
   "source": [
    "num = -6\n",
    "\n",
    "if num > 0:\n",
    "    print(\"num is 'Positive number'\")\n",
    "else:\n",
    "    print(\"num is not 'Positive number'\")"
   ]
  },
  {
   "cell_type": "code",
   "execution_count": 66,
   "id": "ede7b113",
   "metadata": {},
   "outputs": [],
   "source": [
    "# num = 0\n",
    "\n",
    "# if num > 0:\n",
    "#     print(\"num is 'Positive number'\")\n",
    "# else:\n",
    "#     print(\"num is 'Negative number'\")"
   ]
  },
  {
   "cell_type": "markdown",
   "id": "7259f73f",
   "metadata": {},
   "source": [
    "### Short Hand if"
   ]
  },
  {
   "cell_type": "code",
   "execution_count": 51,
   "id": "94118678",
   "metadata": {},
   "outputs": [],
   "source": [
    "# if condition: statement_1"
   ]
  },
  {
   "cell_type": "code",
   "execution_count": 52,
   "id": "19fb7995",
   "metadata": {},
   "outputs": [],
   "source": [
    "num = 15"
   ]
  },
  {
   "cell_type": "code",
   "execution_count": 53,
   "id": "dadc7494",
   "metadata": {},
   "outputs": [
    {
     "name": "stdout",
     "output_type": "stream",
     "text": [
      "num is 'Positive number'\n"
     ]
    }
   ],
   "source": [
    "if num > 0: print(\"num is 'Positive number'\")"
   ]
  },
  {
   "cell_type": "markdown",
   "id": "f38d8f3a",
   "metadata": {},
   "source": [
    "### Short Hand if ... else"
   ]
  },
  {
   "cell_type": "code",
   "execution_count": 54,
   "id": "3db906bf",
   "metadata": {},
   "outputs": [],
   "source": [
    "# statement_1 if condition_1 else statement_2"
   ]
  },
  {
   "cell_type": "code",
   "execution_count": 55,
   "id": "586abd2f",
   "metadata": {},
   "outputs": [
    {
     "name": "stdout",
     "output_type": "stream",
     "text": [
      "num is 'Positive number'\n"
     ]
    }
   ],
   "source": [
    "print(\"num is 'Positive number'\") if num > 0 else print(\"num is not 'Positive number'\")    "
   ]
  },
  {
   "cell_type": "code",
   "execution_count": 56,
   "id": "733dfcd7",
   "metadata": {},
   "outputs": [],
   "source": [
    "# statement_1 if condition_1 else statement_2 if condition_2 else statement_3"
   ]
  },
  {
   "cell_type": "code",
   "execution_count": 57,
   "id": "5649294c",
   "metadata": {},
   "outputs": [
    {
     "name": "stdout",
     "output_type": "stream",
     "text": [
      "Positive number\n"
     ]
    }
   ],
   "source": [
    "# num = 0\n",
    "print(\"Positive number\") if num > 0 else print(\"zero\") if num == 0 else print(\"Negative number\")"
   ]
  },
  {
   "cell_type": "markdown",
   "id": "461df0cd",
   "metadata": {},
   "source": [
    "### Combine conditional statements"
   ]
  },
  {
   "cell_type": "code",
   "execution_count": 67,
   "id": "1c5a896b",
   "metadata": {},
   "outputs": [
    {
     "name": "stdout",
     "output_type": "stream",
     "text": [
      "مجاز به رانندگی هستید\n"
     ]
    }
   ],
   "source": [
    "# and\n",
    "age = 20\n",
    "pass_test = True\n",
    "\n",
    "if age >= 18 and pass_test:\n",
    "    print(\"مجاز به رانندگی هستید\")\n",
    "else:\n",
    "    print(\"مجاز به رانندگی نیستید\")\n",
    "    \n",
    "# if age >= 18 and pass_test == True:\n",
    "#     print(\"You can drive\")"
   ]
  },
  {
   "cell_type": "code",
   "execution_count": 59,
   "id": "426810c1",
   "metadata": {},
   "outputs": [],
   "source": [
    "# num_2 = 28\n",
    "# if num_2 % 2 == 0 and num_2 % 7 ==0:\n",
    "#     print(\"عدد وارد شده هم بر 2 و هم بر 7 بخش پذیر است\")"
   ]
  },
  {
   "cell_type": "code",
   "execution_count": 60,
   "id": "3dfdb8c8",
   "metadata": {},
   "outputs": [
    {
     "name": "stdout",
     "output_type": "stream",
     "text": [
      "عدد وارد شده بر 2 یا هم بر 7 بخش پذیر است\n"
     ]
    }
   ],
   "source": [
    "# or\n",
    "num_2 = 21\n",
    "if num_2 % 2 == 0 or num_2 % 7 ==0:\n",
    "    print(\"عدد وارد شده بر 2 یا هم بر 7 بخش پذیر است\")"
   ]
  },
  {
   "cell_type": "markdown",
   "id": "882ab319",
   "metadata": {},
   "source": [
    "### Nested If"
   ]
  },
  {
   "cell_type": "code",
   "execution_count": 72,
   "id": "6806606b",
   "metadata": {},
   "outputs": [],
   "source": [
    "age = 15\n",
    "# pass_test = True"
   ]
  },
  {
   "cell_type": "code",
   "execution_count": 73,
   "id": "8758ec2e",
   "metadata": {},
   "outputs": [
    {
     "name": "stdout",
     "output_type": "stream",
     "text": [
      "سن شما کمتر از 18 سال است و هم اکنون مجاز به رانندگی نیستید\n"
     ]
    }
   ],
   "source": [
    "if age >= 18:\n",
    "    if pass_test:\n",
    "        print(\"شما مجاز هستید رانندگی کنید\")\n",
    "    else:\n",
    "        print(\"شما گواهینامه ندارید و مجاز به رانندگی نیستید\")\n",
    "else:\n",
    "    print(\"سن شما کمتر از 18 سال است و هم اکنون مجاز به رانندگی نیستید\")"
   ]
  },
  {
   "cell_type": "code",
   "execution_count": null,
   "id": "0693e50c",
   "metadata": {},
   "outputs": [],
   "source": []
  },
  {
   "cell_type": "markdown",
   "id": "a31b6e41",
   "metadata": {},
   "source": [
    "## `Simple practice`"
   ]
  },
  {
   "cell_type": "markdown",
   "id": "258e9270",
   "metadata": {},
   "source": [
    "نام کاربر و امتیاز وی را در مسابقه علم داده در 2 ورودی از کاربر بگیرید و با استفاده از دستورات شرطی رنک کاربر مورد نظر را چاپ کنید\n",
    "\n",
    "پیش از بررسی رنک کاربر حتما از وارد کردن ورودی، اطمینان حاصل کنید\n",
    "\n",
    "اگر امتیاز ورودی بین 1500 تا 1200 بود رتبه اول\n",
    "اگر امتیاز ورودی بین 1199 تا 1000 بود رتبه دوم\n",
    "اگر امتیاز ورودی بین 999 تا 800 بود رتبه سوم\n",
    "\n",
    "خروجی بدین صورت باشد :\n",
    "سلام یلدا \n",
    "امتیاز شما 970 می باشد.\n",
    "تبریک!! شما در جایگاه سوم مسابقه قرار گرفتید"
   ]
  },
  {
   "cell_type": "code",
   "execution_count": null,
   "id": "39f37c30",
   "metadata": {},
   "outputs": [],
   "source": []
  }
 ],
 "metadata": {
  "kernelspec": {
   "display_name": "Python 3 (ipykernel)",
   "language": "python",
   "name": "python3"
  },
  "language_info": {
   "codemirror_mode": {
    "name": "ipython",
    "version": 3
   },
   "file_extension": ".py",
   "mimetype": "text/x-python",
   "name": "python",
   "nbconvert_exporter": "python",
   "pygments_lexer": "ipython3",
   "version": "3.9.13"
  }
 },
 "nbformat": 4,
 "nbformat_minor": 5
}
