{
 "cells": [
  {
   "cell_type": "markdown",
   "id": "4b00af99",
   "metadata": {},
   "source": [
    "### Sets items:\n",
    "- Unordered\n",
    "- Unchangeable\n",
    "- Duplicate values not allowed"
   ]
  },
  {
   "cell_type": "code",
   "execution_count": 1,
   "id": "5d4ad282",
   "metadata": {},
   "outputs": [],
   "source": [
    "# 1\n",
    "cities = {\"Isfahan\", \"Tehran\", \"Shiraz\", \"Rasht\", \"Semnan\", \"Ahvaz\"}\n",
    "ages = {18, 30, 19, 25, 29, 30}\n",
    "is_student = {True, False, False, True}\n",
    "student_1 = {\"Aram\", 25, True, \"Booshehr\", 19.5}"
   ]
  },
  {
   "cell_type": "code",
   "execution_count": 2,
   "id": "25ef95d0",
   "metadata": {},
   "outputs": [
    {
     "name": "stdout",
     "output_type": "stream",
     "text": [
      "{'histogram', 'scatter', 'bar', 'pie', 'line'}\n"
     ]
    }
   ],
   "source": [
    "# 2\n",
    "chart_type = set((\"line\", \"bar\", \"pie\", \"histogram\", \"scatter\"))\n",
    "print(chart_type)"
   ]
  },
  {
   "cell_type": "code",
   "execution_count": 3,
   "id": "a61e7039",
   "metadata": {},
   "outputs": [
    {
     "name": "stdout",
     "output_type": "stream",
     "text": [
      "type(one) is <class 'dict'>\n",
      "type(two) is <class 'set'>\n"
     ]
    }
   ],
   "source": [
    "# ** \n",
    "\n",
    "one = {}\n",
    "two = set()\n",
    "\n",
    "print(\"type(one) is\", type(one))\n",
    "print(\"type(two) is\", type(two))\n"
   ]
  },
  {
   "cell_type": "markdown",
   "id": "738690c4",
   "metadata": {},
   "source": [
    "## `type()`"
   ]
  },
  {
   "cell_type": "code",
   "execution_count": 4,
   "id": "2516fec8",
   "metadata": {},
   "outputs": [
    {
     "name": "stdout",
     "output_type": "stream",
     "text": [
      "type(cities) is <class 'set'>\n",
      "type(ages) is <class 'set'>\n",
      "type(is_student) is <class 'set'>\n",
      "type(student_1) is <class 'set'>\n",
      "type(chart_type) is <class 'set'>\n"
     ]
    }
   ],
   "source": [
    "print(\"type(cities) is\", type(cities))\n",
    "print(\"type(ages) is\", type(ages))\n",
    "print(\"type(is_student) is\", type(is_student))\n",
    "print(\"type(student_1) is\", type(student_1))\n",
    "print(\"type(chart_type) is\", type(chart_type))"
   ]
  },
  {
   "cell_type": "markdown",
   "id": "4a208eab",
   "metadata": {},
   "source": [
    "## `Length`"
   ]
  },
  {
   "cell_type": "code",
   "execution_count": 5,
   "id": "30a730f8",
   "metadata": {},
   "outputs": [
    {
     "data": {
      "text/plain": [
       "6"
      ]
     },
     "execution_count": 5,
     "metadata": {},
     "output_type": "execute_result"
    }
   ],
   "source": [
    "len(cities)"
   ]
  },
  {
   "cell_type": "code",
   "execution_count": 6,
   "id": "c138319c",
   "metadata": {},
   "outputs": [
    {
     "name": "stdout",
     "output_type": "stream",
     "text": [
      "{False, True}\n"
     ]
    }
   ],
   "source": [
    "# is_student = {True, False, False, True}\n",
    "\n",
    "print(is_student)"
   ]
  },
  {
   "cell_type": "code",
   "execution_count": 7,
   "id": "4a6861fc",
   "metadata": {},
   "outputs": [
    {
     "data": {
      "text/plain": [
       "2"
      ]
     },
     "execution_count": 7,
     "metadata": {},
     "output_type": "execute_result"
    }
   ],
   "source": [
    "len(is_student)"
   ]
  },
  {
   "cell_type": "code",
   "execution_count": 8,
   "id": "c680c442",
   "metadata": {},
   "outputs": [
    {
     "data": {
      "text/plain": [
       "5"
      ]
     },
     "execution_count": 8,
     "metadata": {},
     "output_type": "execute_result"
    }
   ],
   "source": [
    "len(student_1)"
   ]
  },
  {
   "cell_type": "markdown",
   "id": "ac8a9e3b",
   "metadata": {},
   "source": [
    "----------------------------------------"
   ]
  },
  {
   "cell_type": "markdown",
   "id": "5669b767",
   "metadata": {},
   "source": [
    "## 1. Set items are `unordered`"
   ]
  },
  {
   "cell_type": "code",
   "execution_count": 9,
   "id": "9fef2ab2",
   "metadata": {},
   "outputs": [
    {
     "name": "stdout",
     "output_type": "stream",
     "text": [
      "{'Tehran', 'Ahvaz', 'Rasht', 'Semnan', 'Shiraz', 'Isfahan'}\n"
     ]
    }
   ],
   "source": [
    "# cities = {\"Isfahan\", \"Tehran\", \"Shiraz\", \"Rasht\", \"Semnan\", \"Ahvaz\"}\n",
    "\n",
    "print(cities)"
   ]
  },
  {
   "cell_type": "code",
   "execution_count": 10,
   "id": "1d690026",
   "metadata": {},
   "outputs": [
    {
     "name": "stdout",
     "output_type": "stream",
     "text": [
      "{'Tehran', 'Ahvaz', 'Rasht', 'Semnan', 'Shiraz', 'Isfahan'}\n"
     ]
    }
   ],
   "source": [
    "print(cities)"
   ]
  },
  {
   "cell_type": "code",
   "execution_count": 11,
   "id": "9d738bc2",
   "metadata": {},
   "outputs": [
    {
     "ename": "TypeError",
     "evalue": "'set' object is not subscriptable",
     "output_type": "error",
     "traceback": [
      "\u001b[1;31m---------------------------------------------------------------------------\u001b[0m",
      "\u001b[1;31mTypeError\u001b[0m                                 Traceback (most recent call last)",
      "\u001b[1;32m~\\AppData\\Local\\Temp\\ipykernel_7016\\1083240252.py\u001b[0m in \u001b[0;36m<module>\u001b[1;34m\u001b[0m\n\u001b[1;32m----> 1\u001b[1;33m \u001b[0mcities\u001b[0m\u001b[1;33m[\u001b[0m\u001b[1;36m0\u001b[0m\u001b[1;33m]\u001b[0m\u001b[1;33m\u001b[0m\u001b[1;33m\u001b[0m\u001b[0m\n\u001b[0m",
      "\u001b[1;31mTypeError\u001b[0m: 'set' object is not subscriptable"
     ]
    }
   ],
   "source": [
    "cities[0]"
   ]
  },
  {
   "cell_type": "markdown",
   "id": "f489e0f1",
   "metadata": {},
   "source": [
    "#### For access items in the set, we can use:\n",
    "1. for loop\n",
    "2. with in "
   ]
  },
  {
   "cell_type": "code",
   "execution_count": 12,
   "id": "dba31bfc",
   "metadata": {},
   "outputs": [
    {
     "data": {
      "text/plain": [
       "True"
      ]
     },
     "execution_count": 12,
     "metadata": {},
     "output_type": "execute_result"
    }
   ],
   "source": [
    "'Ahvaz' in cities"
   ]
  },
  {
   "cell_type": "markdown",
   "id": "588abbbd",
   "metadata": {},
   "source": [
    "## 2. `Duplicate values` can not be in set"
   ]
  },
  {
   "cell_type": "code",
   "execution_count": 13,
   "id": "7be8cd3f",
   "metadata": {},
   "outputs": [
    {
     "name": "stdout",
     "output_type": "stream",
     "text": [
      "{18, 19, 25, 29, 30}\n"
     ]
    }
   ],
   "source": [
    "# ages = {18, 30, 19, 25, 29, 30}\n",
    "\n",
    "print(ages)"
   ]
  },
  {
   "cell_type": "code",
   "execution_count": 14,
   "id": "0d3ff180",
   "metadata": {},
   "outputs": [
    {
     "name": "stdout",
     "output_type": "stream",
     "text": [
      "{False, True}\n"
     ]
    }
   ],
   "source": [
    "# is_student = {True, False, False, True}\n",
    "\n",
    "print(is_student)"
   ]
  },
  {
   "cell_type": "markdown",
   "id": "4d79b777",
   "metadata": {},
   "source": [
    "## 3. Set items are `not changeable` but we can add or remove the item"
   ]
  },
  {
   "cell_type": "markdown",
   "id": "aeed0a06",
   "metadata": {},
   "source": [
    "## `Add items`"
   ]
  },
  {
   "cell_type": "code",
   "execution_count": 15,
   "id": "ce43303f",
   "metadata": {},
   "outputs": [
    {
     "name": "stdout",
     "output_type": "stream",
     "text": [
      "{'histogram', 'scatter', 'bar', 'pie', 'line'}\n"
     ]
    }
   ],
   "source": [
    "print(chart_type)"
   ]
  },
  {
   "cell_type": "code",
   "execution_count": 16,
   "id": "61a51a04",
   "metadata": {},
   "outputs": [],
   "source": [
    "# xx\n",
    "chart_type_2 = chart_type\n",
    "\n",
    "# 1\n",
    "chart_type_3 = chart_type.copy()\n",
    "\n",
    "# 2\n",
    "chart_type_4 = set(chart_type)"
   ]
  },
  {
   "cell_type": "code",
   "execution_count": 17,
   "id": "78400d43",
   "metadata": {},
   "outputs": [
    {
     "name": "stdout",
     "output_type": "stream",
     "text": [
      "chart_type:\n",
      "{'histogram', 'scatter', 'bar', 'pie', 'line'}\n",
      "------------------------------\n",
      "new chart_type:\n",
      "{'histogram', 'scatter', 'bar', 'pie', 'line', 'doughnut'}\n"
     ]
    }
   ],
   "source": [
    "# add()\n",
    "\n",
    "chart_type = chart_type_3.copy()\n",
    "print('chart_type:')\n",
    "print(chart_type)\n",
    "print(\"-\"*30)\n",
    "\n",
    "chart_type.add('doughnut')\n",
    "print('new chart_type:')\n",
    "print(chart_type)"
   ]
  },
  {
   "cell_type": "code",
   "execution_count": 18,
   "id": "94694cda",
   "metadata": {},
   "outputs": [
    {
     "name": "stdout",
     "output_type": "stream",
     "text": [
      "{'Purple', 'Red', 'Green', 'Orange', 'Blue', 'Pink'}\n",
      "------------------------------\n",
      "type(colors_1) <class 'set'>\n"
     ]
    }
   ],
   "source": [
    "# update\n",
    "\n",
    "colors_1 = {'Pink', 'Purple', 'Red'}\n",
    "colors_2 = {'Blue', 'Green', 'Orange'}\n",
    "\n",
    "colors_1.update(colors_2)\n",
    "print(colors_1)\n",
    "print(\"-\"*30)\n",
    "print('type(colors_1)', type(colors_1))"
   ]
  },
  {
   "cell_type": "code",
   "execution_count": 19,
   "id": "348fb1f3",
   "metadata": {},
   "outputs": [
    {
     "name": "stdout",
     "output_type": "stream",
     "text": [
      "{'Purple', 'Green', 'Red', 'Blue', 'Orange', 'Pink'}\n",
      "------------------------------\n",
      "type(colors_1) <class 'set'>\n"
     ]
    }
   ],
   "source": [
    "colors_1 = {'Pink', 'Purple', 'Red'}\n",
    "colors_2 = ['Blue', 'Green', 'Orange']\n",
    "\n",
    "colors_1.update(colors_2)\n",
    "print(colors_1)\n",
    "print(\"-\"*30)\n",
    "print('type(colors_1)', type(colors_1))"
   ]
  },
  {
   "cell_type": "code",
   "execution_count": 20,
   "id": "028ba5aa",
   "metadata": {},
   "outputs": [
    {
     "name": "stdout",
     "output_type": "stream",
     "text": [
      "{'Purple', 'Green', 'Red', 'Blue', 'Orange', 'Pink'}\n",
      "------------------------------\n",
      "type(colors_1) <class 'set'>\n"
     ]
    }
   ],
   "source": [
    "colors_1 = {'Pink', 'Purple', 'Red'}\n",
    "colors_2 = ('Blue', 'Green', 'Orange')\n",
    "\n",
    "colors_1.update(colors_2)\n",
    "print(colors_1)\n",
    "print(\"-\"*30)\n",
    "print('type(colors_1)', type(colors_1))"
   ]
  },
  {
   "cell_type": "markdown",
   "id": "49229317",
   "metadata": {},
   "source": [
    "## `Remove items`"
   ]
  },
  {
   "cell_type": "code",
   "execution_count": 21,
   "id": "cb704170",
   "metadata": {},
   "outputs": [
    {
     "name": "stdout",
     "output_type": "stream",
     "text": [
      "{'Purple', 'Green', 'Red', 'Orange', 'Blue', 'Pink'}\n"
     ]
    }
   ],
   "source": [
    "colors_1 = {'Pink', 'Purple', 'Red', 'Blue', 'Orange', 'Green'}\n",
    "print(colors_1)"
   ]
  },
  {
   "cell_type": "code",
   "execution_count": 22,
   "id": "9b97bab7",
   "metadata": {},
   "outputs": [
    {
     "name": "stdout",
     "output_type": "stream",
     "text": [
      "colors_1 -> {'Purple', 'Green', 'Red', 'Blue', 'Pink'}\n",
      "------------------------------\n",
      "type(colors_1) <class 'set'>\n"
     ]
    }
   ],
   "source": [
    "# remove()\n",
    "\n",
    "colors_1.remove('Orange')\n",
    "print('colors_1 ->', colors_1)\n",
    "print(\"-\"*30)\n",
    "print('type(colors_1)', type(colors_1))"
   ]
  },
  {
   "cell_type": "code",
   "execution_count": 23,
   "id": "bf4f590d",
   "metadata": {},
   "outputs": [
    {
     "ename": "KeyError",
     "evalue": "'White'",
     "output_type": "error",
     "traceback": [
      "\u001b[1;31m---------------------------------------------------------------------------\u001b[0m",
      "\u001b[1;31mKeyError\u001b[0m                                  Traceback (most recent call last)",
      "\u001b[1;32m~\\AppData\\Local\\Temp\\ipykernel_7016\\1361936433.py\u001b[0m in \u001b[0;36m<module>\u001b[1;34m\u001b[0m\n\u001b[1;32m----> 1\u001b[1;33m \u001b[0mcolors_1\u001b[0m\u001b[1;33m.\u001b[0m\u001b[0mremove\u001b[0m\u001b[1;33m(\u001b[0m\u001b[1;34m'White'\u001b[0m\u001b[1;33m)\u001b[0m\u001b[1;33m\u001b[0m\u001b[1;33m\u001b[0m\u001b[0m\n\u001b[0m\u001b[0;32m      2\u001b[0m \u001b[0mprint\u001b[0m\u001b[1;33m(\u001b[0m\u001b[1;34m'colors_1 ->'\u001b[0m\u001b[1;33m,\u001b[0m \u001b[0mcolors_1\u001b[0m\u001b[1;33m)\u001b[0m\u001b[1;33m\u001b[0m\u001b[1;33m\u001b[0m\u001b[0m\n",
      "\u001b[1;31mKeyError\u001b[0m: 'White'"
     ]
    }
   ],
   "source": [
    "colors_1.remove('White')\n",
    "print('colors_1 ->', colors_1)"
   ]
  },
  {
   "cell_type": "code",
   "execution_count": 24,
   "id": "82d67e9c",
   "metadata": {},
   "outputs": [
    {
     "name": "stdout",
     "output_type": "stream",
     "text": [
      "colors_1 -> {'Green', 'Red', 'Blue', 'Pink'}\n",
      "------------------------------\n",
      "type(colors_1) <class 'set'>\n"
     ]
    }
   ],
   "source": [
    "# dicard()\n",
    "\n",
    "colors_1.discard('Purple')\n",
    "print('colors_1 ->', colors_1)\n",
    "print(\"-\"*30)\n",
    "print('type(colors_1)', type(colors_1))"
   ]
  },
  {
   "cell_type": "code",
   "execution_count": 25,
   "id": "8faf06c9",
   "metadata": {},
   "outputs": [
    {
     "name": "stdout",
     "output_type": "stream",
     "text": [
      "colors_1 -> {'Green', 'Red', 'Blue', 'Pink'}\n"
     ]
    }
   ],
   "source": [
    "colors_1.discard('White')\n",
    "print('colors_1 ->', colors_1)\n",
    "\n",
    "# اگر عنصری که می خواهیم حذف کنیم در سِت نبود، خطا نمی دهد "
   ]
  },
  {
   "cell_type": "code",
   "execution_count": 26,
   "id": "bf82e13f",
   "metadata": {},
   "outputs": [
    {
     "name": "stdout",
     "output_type": "stream",
     "text": [
      "tmp -> Green\n",
      "------------------------------\n",
      "colors_1 -> {'Red', 'Blue', 'Pink'}\n",
      "------------------------------\n",
      "type(colors_1) <class 'set'>\n"
     ]
    }
   ],
   "source": [
    "# pop()\n",
    "\n",
    "tmp = colors_1.pop()\n",
    "print('tmp ->', tmp)\n",
    "print(\"-\"*30)\n",
    "print('colors_1 ->', colors_1)\n",
    "print(\"-\"*30)\n",
    "print('type(colors_1)', type(colors_1))"
   ]
  },
  {
   "cell_type": "code",
   "execution_count": 27,
   "id": "804506c9",
   "metadata": {},
   "outputs": [
    {
     "ename": "NameError",
     "evalue": "name 'colors_1' is not defined",
     "output_type": "error",
     "traceback": [
      "\u001b[1;31m---------------------------------------------------------------------------\u001b[0m",
      "\u001b[1;31mNameError\u001b[0m                                 Traceback (most recent call last)",
      "\u001b[1;32m~\\AppData\\Local\\Temp\\ipykernel_7016\\3836260229.py\u001b[0m in \u001b[0;36m<module>\u001b[1;34m\u001b[0m\n\u001b[0;32m      1\u001b[0m \u001b[1;32mdel\u001b[0m \u001b[0mcolors_1\u001b[0m\u001b[1;33m\u001b[0m\u001b[1;33m\u001b[0m\u001b[0m\n\u001b[0;32m      2\u001b[0m \u001b[1;33m\u001b[0m\u001b[0m\n\u001b[1;32m----> 3\u001b[1;33m \u001b[0mprint\u001b[0m\u001b[1;33m(\u001b[0m\u001b[0mcolors_1\u001b[0m\u001b[1;33m)\u001b[0m\u001b[1;33m\u001b[0m\u001b[1;33m\u001b[0m\u001b[0m\n\u001b[0m",
      "\u001b[1;31mNameError\u001b[0m: name 'colors_1' is not defined"
     ]
    }
   ],
   "source": [
    "del colors_1\n",
    "\n",
    "print(colors_1)"
   ]
  },
  {
   "cell_type": "code",
   "execution_count": 28,
   "id": "55dc136b",
   "metadata": {},
   "outputs": [
    {
     "name": "stdout",
     "output_type": "stream",
     "text": [
      "{'Purple', 'Green', 'Red', 'Orange', 'Blue', 'Pink'}\n"
     ]
    }
   ],
   "source": [
    "colors_1 = {'Pink', 'Purple', 'Red', 'Blue', 'Orange', 'Green'}\n",
    "print(colors_1)"
   ]
  },
  {
   "cell_type": "code",
   "execution_count": 29,
   "id": "5af637da",
   "metadata": {},
   "outputs": [
    {
     "name": "stdout",
     "output_type": "stream",
     "text": [
      "colors_1 -> set()\n",
      "------------------------------\n",
      "type(colors_1) <class 'set'>\n"
     ]
    }
   ],
   "source": [
    "colors_1.clear()\n",
    "\n",
    "print('colors_1 ->', colors_1)\n",
    "print(\"-\"*30)\n",
    "print('type(colors_1)', type(colors_1))"
   ]
  },
  {
   "cell_type": "markdown",
   "id": "e6dff062",
   "metadata": {},
   "source": [
    "------------------------------------------------------------------------"
   ]
  },
  {
   "cell_type": "markdown",
   "id": "f2e06a6e",
   "metadata": {},
   "source": [
    "## `Join two sets`"
   ]
  },
  {
   "cell_type": "code",
   "execution_count": 30,
   "id": "9c8e4ce5",
   "metadata": {},
   "outputs": [
    {
     "name": "stdout",
     "output_type": "stream",
     "text": [
      "{'sklearn', 'numpy', 'pandas'}\n",
      "{'seaborn', 'pandas', 'matplotlib'}\n"
     ]
    }
   ],
   "source": [
    "libraries_1 = {'pandas', 'numpy', 'sklearn'}\n",
    "libraries_2 = {'matplotlib', 'seaborn', 'pandas'}\n",
    "\n",
    "print(libraries_1)\n",
    "print(libraries_2)"
   ]
  },
  {
   "cell_type": "code",
   "execution_count": 31,
   "id": "8b9e8ff8",
   "metadata": {},
   "outputs": [
    {
     "name": "stdout",
     "output_type": "stream",
     "text": [
      "final_lib -> {'seaborn', 'sklearn', 'matplotlib', 'pandas', 'numpy'}\n",
      "------------------------------\n",
      "type(final_lib) <class 'set'>\n"
     ]
    }
   ],
   "source": [
    "# union()\n",
    "\n",
    "final_lib = libraries_1.union(libraries_2)\n",
    "\n",
    "print('final_lib ->', final_lib)\n",
    "print(\"-\"*30)\n",
    "print('type(final_lib)', type(final_lib))"
   ]
  },
  {
   "cell_type": "code",
   "execution_count": 32,
   "id": "7f50a58b",
   "metadata": {
    "scrolled": true
   },
   "outputs": [
    {
     "name": "stdout",
     "output_type": "stream",
     "text": [
      "libraries_1 -> {'seaborn', 'sklearn', 'matplotlib', 'pandas', 'numpy'}\n",
      "------------------------------\n",
      "type(libraries_1) <class 'set'>\n"
     ]
    }
   ],
   "source": [
    "# update()\n",
    "\n",
    "libraries_1.update(libraries_2)\n",
    "\n",
    "print('libraries_1 ->', libraries_1)\n",
    "print(\"-\"*30)\n",
    "print('type(libraries_1)', type(libraries_1))"
   ]
  },
  {
   "cell_type": "code",
   "execution_count": 33,
   "id": "5a1eb0ac",
   "metadata": {},
   "outputs": [
    {
     "ename": "TypeError",
     "evalue": "unsupported operand type(s) for +: 'set' and 'set'",
     "output_type": "error",
     "traceback": [
      "\u001b[1;31m---------------------------------------------------------------------------\u001b[0m",
      "\u001b[1;31mTypeError\u001b[0m                                 Traceback (most recent call last)",
      "\u001b[1;32m~\\AppData\\Local\\Temp\\ipykernel_7016\\4097167564.py\u001b[0m in \u001b[0;36m<module>\u001b[1;34m\u001b[0m\n\u001b[1;32m----> 1\u001b[1;33m \u001b[0mlibraries_3\u001b[0m \u001b[1;33m=\u001b[0m \u001b[0mlibraries_1\u001b[0m \u001b[1;33m+\u001b[0m \u001b[0mlibraries_2\u001b[0m\u001b[1;33m\u001b[0m\u001b[1;33m\u001b[0m\u001b[0m\n\u001b[0m\u001b[0;32m      2\u001b[0m \u001b[1;33m\u001b[0m\u001b[0m\n\u001b[0;32m      3\u001b[0m \u001b[0mprint\u001b[0m\u001b[1;33m(\u001b[0m\u001b[1;34m'libraries_3 ->'\u001b[0m\u001b[1;33m,\u001b[0m \u001b[0mlibraries_3\u001b[0m\u001b[1;33m)\u001b[0m\u001b[1;33m\u001b[0m\u001b[1;33m\u001b[0m\u001b[0m\n\u001b[0;32m      4\u001b[0m \u001b[0mprint\u001b[0m\u001b[1;33m(\u001b[0m\u001b[1;34m\"-\"\u001b[0m\u001b[1;33m*\u001b[0m\u001b[1;36m30\u001b[0m\u001b[1;33m)\u001b[0m\u001b[1;33m\u001b[0m\u001b[1;33m\u001b[0m\u001b[0m\n\u001b[0;32m      5\u001b[0m \u001b[0mprint\u001b[0m\u001b[1;33m(\u001b[0m\u001b[1;34m'type(libraries_3)'\u001b[0m\u001b[1;33m,\u001b[0m \u001b[0mtype\u001b[0m\u001b[1;33m(\u001b[0m\u001b[0mlibraries_3\u001b[0m\u001b[1;33m)\u001b[0m\u001b[1;33m)\u001b[0m\u001b[1;33m\u001b[0m\u001b[1;33m\u001b[0m\u001b[0m\n",
      "\u001b[1;31mTypeError\u001b[0m: unsupported operand type(s) for +: 'set' and 'set'"
     ]
    }
   ],
   "source": [
    "libraries_3 = libraries_1 + libraries_2\n",
    "\n",
    "print('libraries_3 ->', libraries_3)\n",
    "print(\"-\"*30)\n",
    "print('type(libraries_3)', type(libraries_3))"
   ]
  },
  {
   "cell_type": "markdown",
   "id": "71cff17a",
   "metadata": {},
   "source": [
    "------------------------------------------------"
   ]
  },
  {
   "cell_type": "markdown",
   "id": "2250da1b",
   "metadata": {},
   "source": [
    "Methods for set -> https://www.w3schools.com/python/python_sets_methods.asp"
   ]
  },
  {
   "cell_type": "code",
   "execution_count": null,
   "id": "09277e6a",
   "metadata": {},
   "outputs": [],
   "source": []
  }
 ],
 "metadata": {
  "kernelspec": {
   "display_name": "Python 3 (ipykernel)",
   "language": "python",
   "name": "python3"
  },
  "language_info": {
   "codemirror_mode": {
    "name": "ipython",
    "version": 3
   },
   "file_extension": ".py",
   "mimetype": "text/x-python",
   "name": "python",
   "nbconvert_exporter": "python",
   "pygments_lexer": "ipython3",
   "version": "3.9.13"
  }
 },
 "nbformat": 4,
 "nbformat_minor": 5
}
