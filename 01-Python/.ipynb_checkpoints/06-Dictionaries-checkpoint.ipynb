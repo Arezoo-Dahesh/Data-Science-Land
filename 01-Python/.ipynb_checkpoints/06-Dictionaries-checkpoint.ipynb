{
 "cells": [
  {
   "cell_type": "markdown",
   "id": "4b00af99",
   "metadata": {},
   "source": [
    "### Dictionaries items:\n",
    "- Ordered\n",
    "- Changeable\n",
    "- Does not allow duplicates"
   ]
  },
  {
   "cell_type": "code",
   "execution_count": 1,
   "id": "fec7560c",
   "metadata": {},
   "outputs": [],
   "source": [
    "# dictionary = {key:value}"
   ]
  },
  {
   "cell_type": "code",
   "execution_count": 2,
   "id": "5d4ad282",
   "metadata": {},
   "outputs": [],
   "source": [
    "# 1\n",
    "student = {\"name\" : \"Aram\", \n",
    "           \"age\" : 25, \n",
    "           \"is_student\" : True, \n",
    "           \"city\" : \"Isfahan\", \n",
    "           \"grade\" : 18.75}"
   ]
  },
  {
   "cell_type": "code",
   "execution_count": 3,
   "id": "cc907718",
   "metadata": {},
   "outputs": [],
   "source": [
    "students = {1 : \"Aram\", \n",
    "            2 : \"Ehsan\",\n",
    "            3: \"Hoori\",\n",
    "            4: \"Zahra\"}"
   ]
  },
  {
   "cell_type": "code",
   "execution_count": 4,
   "id": "25ef95d0",
   "metadata": {},
   "outputs": [],
   "source": [
    "# 2\n",
    "book = dict(name = \"Python 3\", pages = 200, author_name = \"Yalda\", author_family = \"Oji\", ISSN = 25431889)"
   ]
  },
  {
   "cell_type": "code",
   "execution_count": 5,
   "id": "9c73a06a",
   "metadata": {},
   "outputs": [
    {
     "name": "stdout",
     "output_type": "stream",
     "text": [
      "{'name': 'Python 3', 'pages': 200, 'author_name': 'Yalda', 'author_family': 'Oji', 'ISSN': 25431889}\n"
     ]
    }
   ],
   "source": [
    "print(book)"
   ]
  },
  {
   "cell_type": "code",
   "execution_count": 6,
   "id": "2a0b5469",
   "metadata": {},
   "outputs": [],
   "source": [
    "# empty dictionary\n",
    "\n",
    "# dict_1 = {}\n",
    "# dict_2 = dict()"
   ]
  },
  {
   "cell_type": "markdown",
   "id": "738690c4",
   "metadata": {},
   "source": [
    "## `type()`"
   ]
  },
  {
   "cell_type": "code",
   "execution_count": 7,
   "id": "2b62de23",
   "metadata": {},
   "outputs": [
    {
     "name": "stdout",
     "output_type": "stream",
     "text": [
      "type(student) is <class 'dict'>\n",
      "type(students) is <class 'dict'>\n",
      "type(book) is <class 'dict'>\n"
     ]
    }
   ],
   "source": [
    "print(\"type(student) is\", type(student))\n",
    "print(\"type(students) is\", type(students))\n",
    "print(\"type(book) is\", type(book))"
   ]
  },
  {
   "cell_type": "markdown",
   "id": "4a208eab",
   "metadata": {},
   "source": [
    "## `Length`"
   ]
  },
  {
   "cell_type": "code",
   "execution_count": 8,
   "id": "30a730f8",
   "metadata": {},
   "outputs": [
    {
     "data": {
      "text/plain": [
       "5"
      ]
     },
     "execution_count": 8,
     "metadata": {},
     "output_type": "execute_result"
    }
   ],
   "source": [
    "len(student)"
   ]
  },
  {
   "cell_type": "markdown",
   "id": "ac8a9e3b",
   "metadata": {},
   "source": [
    "----------------------------------------"
   ]
  },
  {
   "cell_type": "markdown",
   "id": "5669b767",
   "metadata": {},
   "source": [
    "## 1. Dictionariy items are `Ordered`"
   ]
  },
  {
   "cell_type": "code",
   "execution_count": 9,
   "id": "9fef2ab2",
   "metadata": {
    "scrolled": true
   },
   "outputs": [
    {
     "name": "stdout",
     "output_type": "stream",
     "text": [
      "{'name': 'Aram', 'age': 25, 'is_student': True, 'city': 'Isfahan', 'grade': 18.75}\n"
     ]
    }
   ],
   "source": [
    "print(student)"
   ]
  },
  {
   "cell_type": "code",
   "execution_count": 10,
   "id": "9d738bc2",
   "metadata": {},
   "outputs": [
    {
     "data": {
      "text/plain": [
       "'Aram'"
      ]
     },
     "execution_count": 10,
     "metadata": {},
     "output_type": "execute_result"
    }
   ],
   "source": [
    "student['name']"
   ]
  },
  {
   "cell_type": "code",
   "execution_count": 11,
   "id": "2a50154f",
   "metadata": {},
   "outputs": [
    {
     "ename": "KeyError",
     "evalue": "0",
     "output_type": "error",
     "traceback": [
      "\u001b[1;31m---------------------------------------------------------------------------\u001b[0m",
      "\u001b[1;31mKeyError\u001b[0m                                  Traceback (most recent call last)",
      "\u001b[1;32m~\\AppData\\Local\\Temp\\ipykernel_15328\\3413006741.py\u001b[0m in \u001b[0;36m<module>\u001b[1;34m\u001b[0m\n\u001b[0;32m      1\u001b[0m \u001b[1;31m# XXXX\u001b[0m\u001b[1;33m\u001b[0m\u001b[1;33m\u001b[0m\u001b[0m\n\u001b[0;32m      2\u001b[0m \u001b[1;33m\u001b[0m\u001b[0m\n\u001b[1;32m----> 3\u001b[1;33m \u001b[0mstudent\u001b[0m\u001b[1;33m[\u001b[0m\u001b[1;36m0\u001b[0m\u001b[1;33m]\u001b[0m\u001b[1;33m\u001b[0m\u001b[1;33m\u001b[0m\u001b[0m\n\u001b[0m",
      "\u001b[1;31mKeyError\u001b[0m: 0"
     ]
    }
   ],
   "source": [
    "# XXXX\n",
    "\n",
    "student[0]"
   ]
  },
  {
   "cell_type": "code",
   "execution_count": 12,
   "id": "e47588aa",
   "metadata": {},
   "outputs": [
    {
     "data": {
      "text/plain": [
       "'Aram'"
      ]
     },
     "execution_count": 12,
     "metadata": {},
     "output_type": "execute_result"
    }
   ],
   "source": [
    "students[1]"
   ]
  },
  {
   "cell_type": "code",
   "execution_count": 13,
   "id": "e481d2a9",
   "metadata": {},
   "outputs": [
    {
     "data": {
      "text/plain": [
       "25"
      ]
     },
     "execution_count": 13,
     "metadata": {},
     "output_type": "execute_result"
    }
   ],
   "source": [
    "student.get('age')\n",
    "\n",
    "# student['age']"
   ]
  },
  {
   "cell_type": "code",
   "execution_count": 14,
   "id": "fe94a2b6",
   "metadata": {},
   "outputs": [
    {
     "data": {
      "text/plain": [
       "'Hoori'"
      ]
     },
     "execution_count": 14,
     "metadata": {},
     "output_type": "execute_result"
    }
   ],
   "source": [
    "students.get(3)"
   ]
  },
  {
   "cell_type": "code",
   "execution_count": 15,
   "id": "ec4f07eb",
   "metadata": {},
   "outputs": [
    {
     "name": "stdout",
     "output_type": "stream",
     "text": [
      "s_key -> dict_keys(['name', 'age', 'is_student', 'city', 'grade'])\n",
      "--------------------\n",
      "type(s_key) -> <class 'dict_keys'>\n"
     ]
    }
   ],
   "source": [
    "s_key = student.keys()\n",
    "print('s_key ->', s_key)\n",
    "print(\"-\"*20)\n",
    "print('type(s_key) ->', type(s_key))"
   ]
  },
  {
   "cell_type": "code",
   "execution_count": 16,
   "id": "312e61ff",
   "metadata": {},
   "outputs": [
    {
     "name": "stdout",
     "output_type": "stream",
     "text": [
      "s_val -> dict_values(['Aram', 25, True, 'Isfahan', 18.75])\n",
      "--------------------\n",
      "type(s_val) -> <class 'dict_values'>\n"
     ]
    }
   ],
   "source": [
    "# {'name': 'Aram', \n",
    "# 'age': 25, \n",
    "# 'is_student': True, \n",
    "# 'city': 'Isfahan', \n",
    "# 'grade': 18.75}\n",
    "\n",
    "s_val = student.values()\n",
    "print('s_val ->', s_val)\n",
    "print(\"-\"*20)\n",
    "print('type(s_val) ->', type(s_val))"
   ]
  },
  {
   "cell_type": "code",
   "execution_count": 17,
   "id": "e27e3ba8",
   "metadata": {},
   "outputs": [
    {
     "name": "stdout",
     "output_type": "stream",
     "text": [
      "s_items -> dict_items([('name', 'Aram'), ('age', 25), ('is_student', True), ('city', 'Isfahan'), ('grade', 18.75)])\n",
      "--------------------\n",
      "type(s_items) -> <class 'dict_items'>\n"
     ]
    }
   ],
   "source": [
    "s_items = student.items()\n",
    "print('s_items ->', s_items)\n",
    "print(\"-\"*20)\n",
    "print('type(s_items) ->', type(s_items))"
   ]
  },
  {
   "cell_type": "markdown",
   "id": "f982392e",
   "metadata": {},
   "source": [
    "## 2. `Duplicate keys` can not be in dictionaries"
   ]
  },
  {
   "cell_type": "code",
   "execution_count": 18,
   "id": "e7630993",
   "metadata": {
    "scrolled": true
   },
   "outputs": [
    {
     "name": "stdout",
     "output_type": "stream",
     "text": [
      "{'c_name': 'SQL'}\n"
     ]
    }
   ],
   "source": [
    "# Duplicate key\n",
    "course = {'c_name' : 'Python',\n",
    "          'c_name' : 'SQL'}\n",
    "print(course)"
   ]
  },
  {
   "cell_type": "code",
   "execution_count": 19,
   "id": "19cc4613",
   "metadata": {},
   "outputs": [
    {
     "name": "stdout",
     "output_type": "stream",
     "text": [
      "{'c_name_1': 'Python', 'c_name_2': 'Python'}\n"
     ]
    }
   ],
   "source": [
    "# Duplicate value\n",
    "course_2 = {'c_name_1' : 'Python',\n",
    "            'c_name_2' : 'Python'}\n",
    "print(course_2)"
   ]
  },
  {
   "cell_type": "markdown",
   "id": "ea29af32",
   "metadata": {},
   "source": [
    "## 3. Dictionariy items are `Changeable`\n",
    "\n",
    "Changeable means:\n",
    "- change\n",
    "- add\n",
    "- remove"
   ]
  },
  {
   "cell_type": "markdown",
   "id": "66887a8f",
   "metadata": {},
   "source": [
    "## `Change items`"
   ]
  },
  {
   "cell_type": "code",
   "execution_count": 20,
   "id": "97f38875",
   "metadata": {},
   "outputs": [
    {
     "name": "stdout",
     "output_type": "stream",
     "text": [
      "{'name': 'Python 3', 'pages': 200, 'author_name': 'Yalda', 'author_family': 'Oji', 'ISSN': 25431889}\n"
     ]
    }
   ],
   "source": [
    "print(book)"
   ]
  },
  {
   "cell_type": "code",
   "execution_count": 21,
   "id": "61a51a04",
   "metadata": {},
   "outputs": [],
   "source": [
    "book_2 = book\n",
    "\n",
    "# 1\n",
    "book_3 = book.copy()\n",
    "# 2\n",
    "book_4 = dict(book)"
   ]
  },
  {
   "cell_type": "code",
   "execution_count": 22,
   "id": "7b9068f1",
   "metadata": {},
   "outputs": [
    {
     "name": "stdout",
     "output_type": "stream",
     "text": [
      "New book dict -> {'name': 'Python 3', 'pages': 500, 'author_name': 'Yalda', 'author_family': 'Oji', 'ISSN': 25431889}\n",
      "------------------------------\n",
      "Second copy -> {'name': 'Python 3', 'pages': 500, 'author_name': 'Yalda', 'author_family': 'Oji', 'ISSN': 25431889}\n",
      "Third copy -> {'name': 'Python 3', 'pages': 200, 'author_name': 'Yalda', 'author_family': 'Oji', 'ISSN': 25431889}\n",
      "Fourth copy -> {'name': 'Python 3', 'pages': 200, 'author_name': 'Yalda', 'author_family': 'Oji', 'ISSN': 25431889}\n"
     ]
    }
   ],
   "source": [
    "book['pages'] = 500\n",
    "print('New book dict ->', book)\n",
    "print(\"-\"*30)\n",
    "print('Second copy ->', book_2)\n",
    "print('Third copy ->', book_3)\n",
    "print('Fourth copy ->', book_4)"
   ]
  },
  {
   "cell_type": "code",
   "execution_count": 23,
   "id": "1977246c",
   "metadata": {},
   "outputs": [
    {
     "name": "stdout",
     "output_type": "stream",
     "text": [
      "{'name': 'Python 3', 'pages': 300, 'author_name': 'Yalda', 'author_family': 'Oji', 'ISSN': 25431889}\n"
     ]
    }
   ],
   "source": [
    "book.update({'pages' : 300})\n",
    "print(book)"
   ]
  },
  {
   "cell_type": "markdown",
   "id": "aeed0a06",
   "metadata": {},
   "source": [
    "## `Add items`"
   ]
  },
  {
   "cell_type": "code",
   "execution_count": 24,
   "id": "78400d43",
   "metadata": {},
   "outputs": [
    {
     "name": "stdout",
     "output_type": "stream",
     "text": [
      "{'name': 'Python 3', 'pages': 200, 'author_name': 'Yalda', 'author_family': 'Oji', 'ISSN': 25431889, 'price': 100000}\n"
     ]
    }
   ],
   "source": [
    "# 1\n",
    "book = book_3.copy()\n",
    "book['price'] = 100000\n",
    "print(book)"
   ]
  },
  {
   "cell_type": "code",
   "execution_count": 25,
   "id": "bfb731d7",
   "metadata": {},
   "outputs": [
    {
     "name": "stdout",
     "output_type": "stream",
     "text": [
      "{'name': 'Python 3', 'pages': 200, 'author_name': 'Yalda', 'author_family': 'Oji', 'ISSN': 25431889}\n",
      "------------------------------\n",
      "{'name': 'Python 3', 'pages': 200, 'author_name': 'Yalda', 'author_family': 'Oji', 'ISSN': 25431889, 'price': 250000}\n"
     ]
    }
   ],
   "source": [
    "# 2 -> update()\n",
    "book = book_3.copy()\n",
    "print(book)\n",
    "print(\"-\"*30)\n",
    "book.update({'price' : 250000})\n",
    "print(book)"
   ]
  },
  {
   "cell_type": "markdown",
   "id": "49229317",
   "metadata": {},
   "source": [
    "## `Remove items`"
   ]
  },
  {
   "cell_type": "code",
   "execution_count": 26,
   "id": "cb704170",
   "metadata": {},
   "outputs": [
    {
     "name": "stdout",
     "output_type": "stream",
     "text": [
      "{'name': 'Python 3', 'pages': 200, 'author_name': 'Yalda', 'author_family': 'Oji', 'ISSN': 25431889}\n"
     ]
    }
   ],
   "source": [
    "book = book_3.copy()\n",
    "print(book)"
   ]
  },
  {
   "cell_type": "code",
   "execution_count": 27,
   "id": "9b97bab7",
   "metadata": {},
   "outputs": [
    {
     "name": "stdout",
     "output_type": "stream",
     "text": [
      "book -> {'name': 'Python 3', 'pages': 200, 'author_family': 'Oji', 'ISSN': 25431889}\n",
      "------------------------------\n",
      "tmp -> Yalda\n"
     ]
    }
   ],
   "source": [
    "# pop()\n",
    "tmp = book.pop('author_name')\n",
    "print('book ->', book)\n",
    "print(\"-\"*30)\n",
    "print('tmp ->', tmp)"
   ]
  },
  {
   "cell_type": "code",
   "execution_count": 28,
   "id": "82d67e9c",
   "metadata": {
    "scrolled": true
   },
   "outputs": [
    {
     "ename": "TypeError",
     "evalue": "pop expected at least 1 argument, got 0",
     "output_type": "error",
     "traceback": [
      "\u001b[1;31m---------------------------------------------------------------------------\u001b[0m",
      "\u001b[1;31mTypeError\u001b[0m                                 Traceback (most recent call last)",
      "\u001b[1;32m~\\AppData\\Local\\Temp\\ipykernel_15328\\1703177015.py\u001b[0m in \u001b[0;36m<module>\u001b[1;34m\u001b[0m\n\u001b[1;32m----> 1\u001b[1;33m \u001b[0mtmp_2\u001b[0m \u001b[1;33m=\u001b[0m \u001b[0mbook\u001b[0m\u001b[1;33m.\u001b[0m\u001b[0mpop\u001b[0m\u001b[1;33m(\u001b[0m\u001b[1;33m)\u001b[0m\u001b[1;33m\u001b[0m\u001b[1;33m\u001b[0m\u001b[0m\n\u001b[0m",
      "\u001b[1;31mTypeError\u001b[0m: pop expected at least 1 argument, got 0"
     ]
    }
   ],
   "source": [
    "tmp_2 = book.pop()"
   ]
  },
  {
   "cell_type": "code",
   "execution_count": 29,
   "id": "2cad171a",
   "metadata": {},
   "outputs": [
    {
     "name": "stdout",
     "output_type": "stream",
     "text": [
      "{'name': 'Python 3', 'pages': 200, 'author_family': 'Oji', 'ISSN': 25431889}\n"
     ]
    }
   ],
   "source": [
    "print(book)"
   ]
  },
  {
   "cell_type": "code",
   "execution_count": 30,
   "id": "83f8c650",
   "metadata": {},
   "outputs": [
    {
     "name": "stdout",
     "output_type": "stream",
     "text": [
      "book -> {'name': 'Python 3', 'pages': 200, 'author_family': 'Oji'}\n",
      "------------------------------\n",
      "tmp_3 -> ('ISSN', 25431889)\n"
     ]
    }
   ],
   "source": [
    "# popitem()\n",
    "tmp_3 = book.popitem()\n",
    "print('book ->', book)\n",
    "print(\"-\"*30)\n",
    "print('tmp_3 ->', tmp_3)"
   ]
  },
  {
   "cell_type": "code",
   "execution_count": 31,
   "id": "8faf06c9",
   "metadata": {},
   "outputs": [
    {
     "name": "stdout",
     "output_type": "stream",
     "text": [
      "{'pages': 200, 'author_family': 'Oji'}\n"
     ]
    }
   ],
   "source": [
    "del book['name']\n",
    "print(book)"
   ]
  },
  {
   "cell_type": "code",
   "execution_count": 32,
   "id": "804506c9",
   "metadata": {},
   "outputs": [
    {
     "ename": "NameError",
     "evalue": "name 'book' is not defined",
     "output_type": "error",
     "traceback": [
      "\u001b[1;31m---------------------------------------------------------------------------\u001b[0m",
      "\u001b[1;31mNameError\u001b[0m                                 Traceback (most recent call last)",
      "\u001b[1;32m~\\AppData\\Local\\Temp\\ipykernel_15328\\1380619329.py\u001b[0m in \u001b[0;36m<module>\u001b[1;34m\u001b[0m\n\u001b[0;32m      1\u001b[0m \u001b[1;32mdel\u001b[0m \u001b[0mbook\u001b[0m\u001b[1;33m\u001b[0m\u001b[1;33m\u001b[0m\u001b[0m\n\u001b[1;32m----> 2\u001b[1;33m \u001b[0mprint\u001b[0m\u001b[1;33m(\u001b[0m\u001b[0mbook\u001b[0m\u001b[1;33m)\u001b[0m\u001b[1;33m\u001b[0m\u001b[1;33m\u001b[0m\u001b[0m\n\u001b[0m",
      "\u001b[1;31mNameError\u001b[0m: name 'book' is not defined"
     ]
    }
   ],
   "source": [
    "del book\n",
    "print(book)"
   ]
  },
  {
   "cell_type": "code",
   "execution_count": 33,
   "id": "55dc136b",
   "metadata": {},
   "outputs": [
    {
     "name": "stdout",
     "output_type": "stream",
     "text": [
      "book -> {}\n"
     ]
    }
   ],
   "source": [
    "book = book_3.copy()\n",
    "book.clear()\n",
    "print('book ->', book)"
   ]
  },
  {
   "cell_type": "markdown",
   "id": "e6dff062",
   "metadata": {},
   "source": [
    "------------------------------------------------------------------------"
   ]
  },
  {
   "cell_type": "markdown",
   "id": "27d7cc74",
   "metadata": {},
   "source": [
    "## `Check item in dictionary`"
   ]
  },
  {
   "cell_type": "code",
   "execution_count": 34,
   "id": "eb15d456",
   "metadata": {},
   "outputs": [
    {
     "name": "stdout",
     "output_type": "stream",
     "text": [
      "{'name': 'Python 3', 'pages': 200, 'author_name': 'Yalda', 'author_family': 'Oji', 'ISSN': 25431889}\n"
     ]
    }
   ],
   "source": [
    "book = book_3.copy()\n",
    "print(book)"
   ]
  },
  {
   "cell_type": "code",
   "execution_count": 35,
   "id": "e3f93ee7",
   "metadata": {},
   "outputs": [
    {
     "data": {
      "text/plain": [
       "True"
      ]
     },
     "execution_count": 35,
     "metadata": {},
     "output_type": "execute_result"
    }
   ],
   "source": [
    "'ISSN' in book"
   ]
  },
  {
   "cell_type": "markdown",
   "id": "b8c0be4a",
   "metadata": {},
   "source": [
    "## `Nested dictionary`"
   ]
  },
  {
   "cell_type": "code",
   "execution_count": 36,
   "id": "c624d857",
   "metadata": {},
   "outputs": [
    {
     "name": "stdout",
     "output_type": "stream",
     "text": [
      "type(courses) <class 'dict'>\n"
     ]
    }
   ],
   "source": [
    "# 1\n",
    "\n",
    "course_1 = {\n",
    "    'c_name' : 'PowerBI',\n",
    "    'class_pop' : 20\n",
    "}\n",
    "    \n",
    "course_2 = {\n",
    "    'c_name' : 'R',\n",
    "    'class_pop' : 19\n",
    "}\n",
    "    \n",
    "course_3 = {\n",
    "    'c_name' : 'Deep learning',\n",
    "    'class_pop' : 15\n",
    "}\n",
    "    \n",
    "course_4 = {\n",
    "    'c_name' : 'Big data',\n",
    "    'class_pop' : 22\n",
    "}\n",
    "\n",
    "# ----------------------\n",
    "courses = {\n",
    "    'c_1' : course_1,\n",
    "    'c_2' : course_2,\n",
    "    'c_3' : course_3,\n",
    "    'c_4' : course_4\n",
    "}\n",
    "\n",
    "print('type(courses)', type(courses))"
   ]
  },
  {
   "cell_type": "code",
   "execution_count": 37,
   "id": "de08166f",
   "metadata": {},
   "outputs": [
    {
     "data": {
      "text/plain": [
       "{'c_1': {'c_name': 'PowerBI', 'class_pop': 20},\n",
       " 'c_2': {'c_name': 'R', 'class_pop': 19},\n",
       " 'c_3': {'c_name': 'Deep learning', 'class_pop': 15},\n",
       " 'c_4': {'c_name': 'Big data', 'class_pop': 22}}"
      ]
     },
     "execution_count": 37,
     "metadata": {},
     "output_type": "execute_result"
    }
   ],
   "source": [
    "courses"
   ]
  },
  {
   "cell_type": "code",
   "execution_count": 38,
   "id": "f1f0a6e2",
   "metadata": {},
   "outputs": [],
   "source": [
    "courses.clear()"
   ]
  },
  {
   "cell_type": "code",
   "execution_count": 39,
   "id": "a4f0efec",
   "metadata": {},
   "outputs": [
    {
     "name": "stdout",
     "output_type": "stream",
     "text": [
      "type(courses) <class 'dict'>\n"
     ]
    }
   ],
   "source": [
    "# 2\n",
    "\n",
    "courses = {\n",
    "    'c_1': {\n",
    "        'c_name' : 'PowerBI',\n",
    "        'class_pop' : 20\n",
    "    },\n",
    "    'c_2': {\n",
    "        'c_name' : 'R',\n",
    "        'class_pop' : 19\n",
    "    },\n",
    "    'c_3': {\n",
    "        'c_name' : 'Deep learning',\n",
    "        'class_pop' : 15\n",
    "    },\n",
    "    'c_4': {\n",
    "        'c_name' : 'Big data',\n",
    "        'class_pop' : 22\n",
    "    }\n",
    "}\n",
    "\n",
    "print('type(courses)', type(courses))"
   ]
  },
  {
   "cell_type": "code",
   "execution_count": 40,
   "id": "ebbfd5be",
   "metadata": {},
   "outputs": [
    {
     "data": {
      "text/plain": [
       "{'c_1': {'c_name': 'PowerBI', 'class_pop': 20},\n",
       " 'c_2': {'c_name': 'R', 'class_pop': 19},\n",
       " 'c_3': {'c_name': 'Deep learning', 'class_pop': 15},\n",
       " 'c_4': {'c_name': 'Big data', 'class_pop': 22}}"
      ]
     },
     "execution_count": 40,
     "metadata": {},
     "output_type": "execute_result"
    }
   ],
   "source": [
    "courses"
   ]
  },
  {
   "cell_type": "code",
   "execution_count": 49,
   "id": "0885c634",
   "metadata": {},
   "outputs": [
    {
     "data": {
      "text/plain": [
       "{'c_name': 'PowerBI', 'class_pop': 20}"
      ]
     },
     "execution_count": 49,
     "metadata": {},
     "output_type": "execute_result"
    }
   ],
   "source": [
    "# courses['c_1']\n",
    "\n",
    "courses.get('c_1')"
   ]
  },
  {
   "cell_type": "code",
   "execution_count": 42,
   "id": "da1b7d0a",
   "metadata": {},
   "outputs": [
    {
     "data": {
      "text/plain": [
       "'PowerBI'"
      ]
     },
     "execution_count": 42,
     "metadata": {},
     "output_type": "execute_result"
    }
   ],
   "source": [
    "courses['c_1']['c_name']"
   ]
  },
  {
   "cell_type": "code",
   "execution_count": 43,
   "id": "951a1c5a",
   "metadata": {},
   "outputs": [
    {
     "name": "stdout",
     "output_type": "stream",
     "text": [
      "c_key -> dict_keys(['c_1', 'c_2', 'c_3', 'c_4'])\n"
     ]
    }
   ],
   "source": [
    "c_key = courses.keys()\n",
    "print('c_key ->', c_key)"
   ]
  },
  {
   "cell_type": "code",
   "execution_count": 44,
   "id": "e6b8bc46",
   "metadata": {},
   "outputs": [
    {
     "name": "stdout",
     "output_type": "stream",
     "text": [
      "c_key_2 -> dict_keys(['c_name', 'class_pop'])\n"
     ]
    }
   ],
   "source": [
    "c_key_2 = courses['c_1'].keys()\n",
    "print('c_key_2 ->', c_key_2)\n",
    "\n",
    "\n",
    "# new_dict = courses['c_1']\n",
    "# c_key_2 = new_dict.keys()\n",
    "# print('c_key_2 ->', c_key_2)"
   ]
  },
  {
   "cell_type": "code",
   "execution_count": 45,
   "id": "c0fe20b6",
   "metadata": {},
   "outputs": [
    {
     "name": "stdout",
     "output_type": "stream",
     "text": [
      "c_value -> dict_values([{'c_name': 'PowerBI', 'class_pop': 20}, {'c_name': 'R', 'class_pop': 19}, {'c_name': 'Deep learning', 'class_pop': 15}, {'c_name': 'Big data', 'class_pop': 22}])\n"
     ]
    }
   ],
   "source": [
    "c_value = courses.values()\n",
    "print('c_value ->', c_value)"
   ]
  },
  {
   "cell_type": "code",
   "execution_count": 46,
   "id": "8726b526",
   "metadata": {},
   "outputs": [
    {
     "name": "stdout",
     "output_type": "stream",
     "text": [
      "c_items -> dict_items([('c_1', {'c_name': 'PowerBI', 'class_pop': 20}), ('c_2', {'c_name': 'R', 'class_pop': 19}), ('c_3', {'c_name': 'Deep learning', 'class_pop': 15}), ('c_4', {'c_name': 'Big data', 'class_pop': 22})])\n"
     ]
    }
   ],
   "source": [
    "c_items = courses.items()\n",
    "print('c_items ->', c_items)"
   ]
  },
  {
   "cell_type": "markdown",
   "id": "a2034e20",
   "metadata": {},
   "source": [
    "-------------------------------------------------"
   ]
  },
  {
   "cell_type": "markdown",
   "id": "2250da1b",
   "metadata": {},
   "source": [
    "More method for dictionary -> https://www.w3schools.com/python/python_dictionaries_methods.asp"
   ]
  },
  {
   "cell_type": "markdown",
   "id": "15b82429",
   "metadata": {},
   "source": [
    "## `Simple practice`"
   ]
  },
  {
   "cell_type": "code",
   "execution_count": 40,
   "id": "4cf74ca8",
   "metadata": {},
   "outputs": [],
   "source": [
    "laptop = {'brand': 'ASUS',\n",
    "          'model' : 'FX506LH',\n",
    "          'CPU' : 'Core i5 10300H',\n",
    "          'RAM' : 16,\n",
    "          'Hard' : 512}"
   ]
  },
  {
   "cell_type": "markdown",
   "id": "9a801516",
   "metadata": {},
   "source": [
    "- مدل لپ تاپ را برگردانید \n",
    "--------------------------------------------------\n",
    "\n",
    "- برند را به لنوو تغییر دهید\n",
    "--------------------------------------------------\n",
    "\n",
    "- کلیدهای دیکشنری مذکور را چاپ کنید\n",
    "--------------------------------------------------\n",
    "\n",
    "- اندازه صفحه نمایش لپ تاپ را 15.6 در نظر گرفته و به دیکشنری اضافه کنید\n",
    "--------------------------------------------------\n",
    "\n",
    "- آخرین آیتم را از دیکشنری مذکور حذف نمایید \n",
    "\n",
    "--------------------------------------------------\n",
    "\n",
    "- دیکشنری اولیه را در نظر بگیرید (بهتر است از تایع کپی بهره بگیرید) و آن را به صورت تو در تو گسترش داده و مشخصات دو مدل لپ تاپ دیگر را نیز به آن اضافه کنید\n",
    "--------------------------------------------------"
   ]
  },
  {
   "cell_type": "code",
   "execution_count": null,
   "id": "09277e6a",
   "metadata": {},
   "outputs": [],
   "source": []
  }
 ],
 "metadata": {
  "kernelspec": {
   "display_name": "Python 3 (ipykernel)",
   "language": "python",
   "name": "python3"
  },
  "language_info": {
   "codemirror_mode": {
    "name": "ipython",
    "version": 3
   },
   "file_extension": ".py",
   "mimetype": "text/x-python",
   "name": "python",
   "nbconvert_exporter": "python",
   "pygments_lexer": "ipython3",
   "version": "3.9.13"
  }
 },
 "nbformat": 4,
 "nbformat_minor": 5
}
