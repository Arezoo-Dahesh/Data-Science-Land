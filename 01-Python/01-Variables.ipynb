{
 "cells": [
  {
   "cell_type": "markdown",
   "id": "a0f04d4f",
   "metadata": {},
   "source": [
    "#  Variables"
   ]
  },
  {
   "cell_type": "code",
   "execution_count": 1,
   "id": "d6432862",
   "metadata": {},
   "outputs": [],
   "source": [
    "a = 2.5\n",
    "b = 20\n",
    "name = \"Arezoo\"  # or 'Arezoo'\n",
    "family = 'Dahesh' # or \"Dahesh\""
   ]
  },
  {
   "cell_type": "markdown",
   "id": "71ac418b",
   "metadata": {},
   "source": [
    "## `Comment`"
   ]
  },
  {
   "cell_type": "code",
   "execution_count": 2,
   "id": "d86565ad",
   "metadata": {},
   "outputs": [],
   "source": [
    "# این جمله، یک کامنت تک خطی است :)"
   ]
  },
  {
   "cell_type": "code",
   "execution_count": 3,
   "id": "6642e961",
   "metadata": {},
   "outputs": [],
   "source": [
    "# این کامنت\n",
    "# یک کامنت\n",
    "# چند خطی هست"
   ]
  },
  {
   "cell_type": "code",
   "execution_count": 4,
   "id": "89b15dc9",
   "metadata": {},
   "outputs": [
    {
     "data": {
      "text/plain": [
       "'این کامنت\\nیک کامنت\\nچند خطی هست'"
      ]
     },
     "execution_count": 4,
     "metadata": {},
     "output_type": "execute_result"
    }
   ],
   "source": [
    "\"\"\"این کامنت\n",
    "یک کامنت\n",
    "چند خطی هست\"\"\""
   ]
  },
  {
   "cell_type": "markdown",
   "id": "272644ce",
   "metadata": {},
   "source": [
    "## `Case sensitive`"
   ]
  },
  {
   "cell_type": "code",
   "execution_count": 5,
   "id": "8c8a841d",
   "metadata": {},
   "outputs": [],
   "source": [
    "grade = 18.75\n",
    "Grade = \"Very Good\""
   ]
  },
  {
   "cell_type": "code",
   "execution_count": 6,
   "id": "c193a388",
   "metadata": {},
   "outputs": [
    {
     "name": "stdout",
     "output_type": "stream",
     "text": [
      "18.75\n"
     ]
    }
   ],
   "source": [
    "print(grade)"
   ]
  },
  {
   "cell_type": "code",
   "execution_count": 7,
   "id": "2dee89d4",
   "metadata": {},
   "outputs": [
    {
     "name": "stdout",
     "output_type": "stream",
     "text": [
      "Very Good\n"
     ]
    }
   ],
   "source": [
    "print(Grade)"
   ]
  },
  {
   "cell_type": "markdown",
   "id": "e545f288",
   "metadata": {},
   "source": [
    "## `Print()`"
   ]
  },
  {
   "cell_type": "code",
   "execution_count": 8,
   "id": "c92c9ae6",
   "metadata": {},
   "outputs": [],
   "source": [
    "x = 10\n",
    "y = 15\n",
    "z = 2"
   ]
  },
  {
   "cell_type": "code",
   "execution_count": 9,
   "id": "9181ee48",
   "metadata": {},
   "outputs": [
    {
     "name": "stdout",
     "output_type": "stream",
     "text": [
      "10\n"
     ]
    }
   ],
   "source": [
    "print(x)"
   ]
  },
  {
   "cell_type": "code",
   "execution_count": 10,
   "id": "db722062",
   "metadata": {},
   "outputs": [
    {
     "name": "stdout",
     "output_type": "stream",
     "text": [
      "10 15 2\n"
     ]
    }
   ],
   "source": [
    "print(x, y, z)"
   ]
  },
  {
   "cell_type": "code",
   "execution_count": 11,
   "id": "12ebe500",
   "metadata": {},
   "outputs": [
    {
     "name": "stdout",
     "output_type": "stream",
     "text": [
      "27\n"
     ]
    }
   ],
   "source": [
    "print(x+y+z)"
   ]
  },
  {
   "cell_type": "code",
   "execution_count": 12,
   "id": "6c84c9ed",
   "metadata": {},
   "outputs": [],
   "source": [
    "tmp_1, tmp_2, tmp_3 = 10, 2.89, 'variable'"
   ]
  },
  {
   "cell_type": "code",
   "execution_count": 13,
   "id": "744da24e",
   "metadata": {},
   "outputs": [
    {
     "data": {
      "text/plain": [
       "'variable'"
      ]
     },
     "execution_count": 13,
     "metadata": {},
     "output_type": "execute_result"
    }
   ],
   "source": [
    "# اگر از پرینت استفاده نکنید فقط مقدار آخرین متغیر را چاپ می کند\n",
    "\n",
    "tmp_1\n",
    "tmp_2\n",
    "tmp_3"
   ]
  },
  {
   "cell_type": "code",
   "execution_count": 14,
   "id": "cf2c31a5",
   "metadata": {},
   "outputs": [
    {
     "name": "stdout",
     "output_type": "stream",
     "text": [
      "10\n",
      "2.89\n",
      "variable\n"
     ]
    }
   ],
   "source": [
    "print(tmp_1)\n",
    "print(tmp_2)\n",
    "print(tmp_3)"
   ]
  },
  {
   "cell_type": "code",
   "execution_count": 15,
   "id": "e32039a1",
   "metadata": {},
   "outputs": [],
   "source": [
    "A = B = C = \"Python 3\""
   ]
  },
  {
   "cell_type": "code",
   "execution_count": 16,
   "id": "551e0a60",
   "metadata": {},
   "outputs": [
    {
     "name": "stdout",
     "output_type": "stream",
     "text": [
      "Python 3\n",
      "Python 3\n",
      "Python 3\n"
     ]
    }
   ],
   "source": [
    "print(A)\n",
    "print(B)\n",
    "print(C)"
   ]
  },
  {
   "cell_type": "code",
   "execution_count": 17,
   "id": "52b0050a",
   "metadata": {},
   "outputs": [],
   "source": [
    "courseName = \"Python\"\n",
    "version = \"3.9.13\""
   ]
  },
  {
   "cell_type": "code",
   "execution_count": 18,
   "id": "8e50d534",
   "metadata": {},
   "outputs": [
    {
     "name": "stdout",
     "output_type": "stream",
     "text": [
      "Python3.9.13\n"
     ]
    }
   ],
   "source": [
    "print(courseName+version)"
   ]
  },
  {
   "cell_type": "code",
   "execution_count": 19,
   "id": "e51bbfcc",
   "metadata": {},
   "outputs": [
    {
     "name": "stdout",
     "output_type": "stream",
     "text": [
      "Python 3.9.13\n"
     ]
    }
   ],
   "source": [
    "print(courseName+\" \"+version)"
   ]
  },
  {
   "cell_type": "code",
   "execution_count": 20,
   "id": "a18ddcd1",
   "metadata": {},
   "outputs": [],
   "source": [
    "courseName = \"Python \"\n",
    "version = \"3.9.13\""
   ]
  },
  {
   "cell_type": "code",
   "execution_count": 21,
   "id": "81013352",
   "metadata": {},
   "outputs": [
    {
     "name": "stdout",
     "output_type": "stream",
     "text": [
      "Python 3.9.13\n"
     ]
    }
   ],
   "source": [
    "print(courseName+version)"
   ]
  },
  {
   "cell_type": "markdown",
   "id": "a0cba863",
   "metadata": {},
   "source": [
    "## `Variable name`"
   ]
  },
  {
   "cell_type": "code",
   "execution_count": 22,
   "id": "914bb9ee",
   "metadata": {},
   "outputs": [],
   "source": [
    "# 1. camelCase\n",
    "\n",
    "secondCourseName = \"Machine learning\""
   ]
  },
  {
   "cell_type": "code",
   "execution_count": 23,
   "id": "ed04bd29",
   "metadata": {},
   "outputs": [],
   "source": [
    "# 2. PascalCase\n",
    "\n",
    "SecondCourseName = \"Machine learning\""
   ]
  },
  {
   "cell_type": "code",
   "execution_count": 24,
   "id": "1c33fd45",
   "metadata": {},
   "outputs": [],
   "source": [
    "# 3. snake_case\n",
    "\n",
    "second_course_name = \"Machine learning\""
   ]
  },
  {
   "cell_type": "markdown",
   "id": "e3302797",
   "metadata": {},
   "source": [
    "## `Data types`"
   ]
  },
  {
   "cell_type": "markdown",
   "id": "75812062",
   "metadata": {},
   "source": [
    "<table style=\"border:1px solid black; border-collapse: collapse; font-size:12pt; font-family:Cambria, Georgia, serif;\">\n",
    "  <!--<tr>\n",
    "    <th>Firstname</th>\n",
    "    <th>Lastname</th>\n",
    "    <th>Age</th>\n",
    "  </tr>-->\n",
    "  <tr>\n",
    "    <td style=\"text-align: left\">Text Type</td>\n",
    "    <td style=\"text-align: left\"><strong>str</strong></td>\n",
    "  </tr>\n",
    "  <tr>\n",
    "    <td style=\"text-align: left\">Numeric Types</td>\n",
    "    <td style=\"text-align: left\"><strong>int</strong>, <strong>float</strong>, <strong>complex</strong></td>\n",
    "  </tr>\n",
    "  <tr>\n",
    "    <td style=\"text-align: left\">Sequence Types</td>\n",
    "    <td style=\"text-align: left\"><strong>list</strong>, <strong>tuple</strong>, <strong>range</strong></td>\n",
    "  </tr>\n",
    "  <tr>\n",
    "    <td style=\"text-align: left\">Mapping Type</td>\n",
    "    <td style=\"text-align: left\"><strong>dict</strong></td>\n",
    "  </tr>\n",
    "  <tr>\n",
    "    <td style=\"text-align: left\">Set Types</td>\n",
    "    <td style=\"text-align: left\"><strong>set</strong>, <strong>frozenset</strong></td>\n",
    "  </tr>\n",
    "  <tr>\n",
    "    <td style=\"text-align: left\">Boolean Type</td>\n",
    "    <td style=\"text-align: left\"><strong>bool</strong></td>\n",
    "  </tr>\n",
    "  <tr>\n",
    "    <td style=\"text-align: left\">Binary Types</td>\n",
    "    <td style=\"text-align: left\"><strong>bytes</strong>, <strong>bytearray</strong>, <strong>memoryview</strong></td>\n",
    "  </tr>\n",
    "  <tr>\n",
    "    <td style=\"text-align: left\">None Type</td>\n",
    "    <td style=\"text-align: left\"><strong>NoneType</strong></td>\n",
    "  </tr>\n",
    "</table>"
   ]
  },
  {
   "cell_type": "code",
   "execution_count": 25,
   "id": "ab243ecd",
   "metadata": {},
   "outputs": [
    {
     "name": "stdout",
     "output_type": "stream",
     "text": [
      "type(a) is -> <class 'int'>\n",
      "type(b) is -> <class 'float'>\n",
      "type(c) is -> <class 'str'>\n",
      "type(d) is -> <class 'bool'>\n",
      "type(e) is -> <class 'list'>\n"
     ]
    }
   ],
   "source": [
    "a = 150\n",
    "print('type(a) is ->', type(a))\n",
    "\n",
    "b = -3.87\n",
    "print('type(b) is ->', type(b))\n",
    "\n",
    "c = 'Hello world'\n",
    "print('type(c) is ->', type(c))\n",
    "\n",
    "d = True\n",
    "print('type(d) is ->', type(d))\n",
    "\n",
    "e = ['a', 'b', 'c']\n",
    "print('type(e) is ->', type(e))"
   ]
  },
  {
   "cell_type": "code",
   "execution_count": 26,
   "id": "76b5cfd4",
   "metadata": {},
   "outputs": [
    {
     "name": "stdout",
     "output_type": "stream",
     "text": [
      "type(a) is -> <class 'int'>\n"
     ]
    }
   ],
   "source": [
    "# format() function\n",
    "\n",
    "print('type(a) is -> {}'.format(type(a)))"
   ]
  },
  {
   "cell_type": "markdown",
   "id": "54670d8f",
   "metadata": {},
   "source": [
    "## `Casting`"
   ]
  },
  {
   "cell_type": "code",
   "execution_count": 27,
   "id": "382f83d4",
   "metadata": {},
   "outputs": [],
   "source": [
    "var_1 = int(\"3\")\n",
    "var_2 = int(8.6)\n",
    "var_3 = int(10)"
   ]
  },
  {
   "cell_type": "code",
   "execution_count": 28,
   "id": "36c8c3fe",
   "metadata": {},
   "outputs": [
    {
     "name": "stdout",
     "output_type": "stream",
     "text": [
      "var_1 is 3 and type(var_1) is -> <class 'int'>\n",
      "var_2 is 8 and type(var_2) is -> <class 'int'>\n",
      "var_3 is 10 and type(var_3) is -> <class 'int'>\n"
     ]
    }
   ],
   "source": [
    "print('var_1 is {} and type(var_1) is -> {}'.format(var_1, type(var_1)))\n",
    "print('var_2 is {} and type(var_2) is -> {}'.format(var_2, type(var_2)))\n",
    "\n",
    "# format() with index\n",
    "print('var_3 is {1} and type(var_3) is -> {0}'.format(type(var_3), var_3))"
   ]
  },
  {
   "cell_type": "code",
   "execution_count": 29,
   "id": "27be3815",
   "metadata": {},
   "outputs": [
    {
     "ename": "ValueError",
     "evalue": "invalid literal for int() with base 10: 'A'",
     "output_type": "error",
     "traceback": [
      "\u001b[1;31m---------------------------------------------------------------------------\u001b[0m",
      "\u001b[1;31mValueError\u001b[0m                                Traceback (most recent call last)",
      "Input \u001b[1;32mIn [29]\u001b[0m, in \u001b[0;36m<cell line: 1>\u001b[1;34m()\u001b[0m\n\u001b[1;32m----> 1\u001b[0m var_4 \u001b[38;5;241m=\u001b[39m \u001b[38;5;28;43mint\u001b[39;49m\u001b[43m(\u001b[49m\u001b[38;5;124;43m\"\u001b[39;49m\u001b[38;5;124;43mA\u001b[39;49m\u001b[38;5;124;43m\"\u001b[39;49m\u001b[43m)\u001b[49m\n\u001b[0;32m      2\u001b[0m \u001b[38;5;28mprint\u001b[39m(\u001b[38;5;124m'\u001b[39m\u001b[38;5;124mtype(var_4) is -> \u001b[39m\u001b[38;5;132;01m{}\u001b[39;00m\u001b[38;5;124m'\u001b[39m\u001b[38;5;241m.\u001b[39mformat(\u001b[38;5;28mtype\u001b[39m(var_4)))\n",
      "\u001b[1;31mValueError\u001b[0m: invalid literal for int() with base 10: 'A'"
     ]
    }
   ],
   "source": [
    "var_4 = int(\"A\")\n",
    "print('type(var_4) is -> {}'.format(type(var_4)))"
   ]
  },
  {
   "cell_type": "code",
   "execution_count": 30,
   "id": "3bf99075",
   "metadata": {},
   "outputs": [],
   "source": [
    "var_5 = float(\"9.45\")\n",
    "var_6 = float(8.6)\n",
    "var_7 = float(-2.387)\n",
    "var_8 = float(\"10\")\n",
    "var_9 = float(72)"
   ]
  },
  {
   "cell_type": "code",
   "execution_count": 31,
   "id": "e17830c1",
   "metadata": {},
   "outputs": [
    {
     "name": "stdout",
     "output_type": "stream",
     "text": [
      "var_5 is 9.45 and type(var_5) is -> <class 'float'>\n",
      "var_6 is 8.6 and type(var_6) is -> <class 'float'>\n",
      "var_7 is -2.387 and type(var_7) is -> <class 'float'>\n",
      "var_8 is 10.0 and type(var_8) is -> <class 'float'>\n",
      "var_9 is 72.0 and type(var_9) is -> <class 'float'>\n"
     ]
    }
   ],
   "source": [
    "print('var_5 is {} and type(var_5) is -> {}'.format(var_5, type(var_5)))\n",
    "print('var_6 is {} and type(var_6) is -> {}'.format(var_6, type(var_6)))\n",
    "print('var_7 is {} and type(var_7) is -> {}'.format(var_7, type(var_7)))\n",
    "print('var_8 is {} and type(var_8) is -> {}'.format(var_8, type(var_8)))\n",
    "print('var_9 is {} and type(var_9) is -> {}'.format(var_9, type(var_9)))"
   ]
  },
  {
   "cell_type": "code",
   "execution_count": 32,
   "id": "b94e5867",
   "metadata": {},
   "outputs": [],
   "source": [
    "var_10 = str(\"A\")\n",
    "var_11 = str(8.6)\n",
    "var_12 = str(-2)"
   ]
  },
  {
   "cell_type": "code",
   "execution_count": 33,
   "id": "945f9b37",
   "metadata": {},
   "outputs": [
    {
     "name": "stdout",
     "output_type": "stream",
     "text": [
      "var_10 is A and type(var_10) is -> <class 'str'>\n",
      "var_11 is 8.6 and type(var_11) is -> <class 'str'>\n",
      "var_12 is -2 and type(var_12) is -> <class 'str'>\n"
     ]
    }
   ],
   "source": [
    "print('var_10 is {} and type(var_10) is -> {}'.format(var_10, type(var_10)))\n",
    "print('var_11 is {} and type(var_11) is -> {}'.format(var_11, type(var_11)))\n",
    "print('var_12 is {} and type(var_12) is -> {}'.format(var_12, type(var_12)))"
   ]
  },
  {
   "cell_type": "code",
   "execution_count": 34,
   "id": "4f080b0b",
   "metadata": {},
   "outputs": [
    {
     "data": {
      "text/plain": [
       "'8.6'"
      ]
     },
     "execution_count": 34,
     "metadata": {},
     "output_type": "execute_result"
    }
   ],
   "source": [
    "var_11"
   ]
  },
  {
   "cell_type": "code",
   "execution_count": 35,
   "id": "910af0ff",
   "metadata": {},
   "outputs": [
    {
     "data": {
      "text/plain": [
       "'-2'"
      ]
     },
     "execution_count": 35,
     "metadata": {},
     "output_type": "execute_result"
    }
   ],
   "source": [
    "var_12"
   ]
  },
  {
   "cell_type": "code",
   "execution_count": null,
   "id": "821ec70c",
   "metadata": {},
   "outputs": [],
   "source": []
  }
 ],
 "metadata": {
  "kernelspec": {
   "display_name": "Python 3 (ipykernel)",
   "language": "python",
   "name": "python3"
  },
  "language_info": {
   "codemirror_mode": {
    "name": "ipython",
    "version": 3
   },
   "file_extension": ".py",
   "mimetype": "text/x-python",
   "name": "python",
   "nbconvert_exporter": "python",
   "pygments_lexer": "ipython3",
   "version": "3.9.13"
  }
 },
 "nbformat": 4,
 "nbformat_minor": 5
}
