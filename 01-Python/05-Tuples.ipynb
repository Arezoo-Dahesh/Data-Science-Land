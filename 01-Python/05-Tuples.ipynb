{
 "cells": [
  {
   "cell_type": "markdown",
   "id": "4b00af99",
   "metadata": {},
   "source": [
    "### Tuples items:\n",
    "- Ordered\n",
    "- Unchangeable\n",
    "- Allow duplicate values"
   ]
  },
  {
   "cell_type": "code",
   "execution_count": 1,
   "id": "5d4ad282",
   "metadata": {},
   "outputs": [],
   "source": [
    "# 1\n",
    "cities = (\"Isfahan\", \"Tehran\", \"Shiraz\", \"Rasht\", \"Semnan\", \"Ahvaz\")\n",
    "ages = (18, 30, 19, 25, 29, 30)\n",
    "is_student = (True, False, False, True)\n",
    "student_1 = (\"Aram\", 25, True, \"Booshehr\", 19.5)"
   ]
  },
  {
   "cell_type": "code",
   "execution_count": 2,
   "id": "25ef95d0",
   "metadata": {},
   "outputs": [
    {
     "name": "stdout",
     "output_type": "stream",
     "text": [
      "('line', 'bar', 'pie', 'histogram', 'scatter')\n"
     ]
    }
   ],
   "source": [
    "# 2\n",
    "chart_type = tuple((\"line\", \"bar\", \"pie\", \"histogram\", \"scatter\"))\n",
    "# chart_type = tuple([\"line\", \"bar\", \"pie\", \"histogram\", \"scatter\"])\n",
    "print(chart_type)"
   ]
  },
  {
   "cell_type": "code",
   "execution_count": 3,
   "id": "8f695790",
   "metadata": {},
   "outputs": [
    {
     "name": "stdout",
     "output_type": "stream",
     "text": [
      "Pink\n",
      "<class 'str'>\n"
     ]
    }
   ],
   "source": [
    "tuple_1 = (\"Pink\")\n",
    "print(tuple_1)\n",
    "print(type(tuple_1))"
   ]
  },
  {
   "cell_type": "code",
   "execution_count": 4,
   "id": "c9e7d996",
   "metadata": {},
   "outputs": [
    {
     "name": "stdout",
     "output_type": "stream",
     "text": [
      "('Pink',)\n",
      "<class 'tuple'>\n"
     ]
    }
   ],
   "source": [
    "tuple_2 = (\"Pink\",)\n",
    "print(tuple_2)\n",
    "print(type(tuple_2))"
   ]
  },
  {
   "cell_type": "code",
   "execution_count": 5,
   "id": "a61e7039",
   "metadata": {},
   "outputs": [],
   "source": [
    "# empty tuple\n",
    "\n",
    "# tuple_1 = ()\n",
    "# tuple_2 = tuple()"
   ]
  },
  {
   "cell_type": "markdown",
   "id": "4a208eab",
   "metadata": {},
   "source": [
    "## `Length`"
   ]
  },
  {
   "cell_type": "code",
   "execution_count": 6,
   "id": "30a730f8",
   "metadata": {},
   "outputs": [
    {
     "data": {
      "text/plain": [
       "6"
      ]
     },
     "execution_count": 6,
     "metadata": {},
     "output_type": "execute_result"
    }
   ],
   "source": [
    "len(cities)"
   ]
  },
  {
   "cell_type": "code",
   "execution_count": 7,
   "id": "4a6861fc",
   "metadata": {},
   "outputs": [
    {
     "data": {
      "text/plain": [
       "4"
      ]
     },
     "execution_count": 7,
     "metadata": {},
     "output_type": "execute_result"
    }
   ],
   "source": [
    "len(is_student)"
   ]
  },
  {
   "cell_type": "code",
   "execution_count": 8,
   "id": "c680c442",
   "metadata": {},
   "outputs": [
    {
     "data": {
      "text/plain": [
       "5"
      ]
     },
     "execution_count": 8,
     "metadata": {},
     "output_type": "execute_result"
    }
   ],
   "source": [
    "len(student_1)"
   ]
  },
  {
   "cell_type": "markdown",
   "id": "738690c4",
   "metadata": {},
   "source": [
    "## `type()`"
   ]
  },
  {
   "cell_type": "code",
   "execution_count": 9,
   "id": "2516fec8",
   "metadata": {},
   "outputs": [
    {
     "name": "stdout",
     "output_type": "stream",
     "text": [
      "type(cities) is <class 'tuple'>\n",
      "type(ages) is <class 'tuple'>\n",
      "type(is_student) is <class 'tuple'>\n",
      "type(student_1) is <class 'tuple'>\n",
      "type(chart_type) is <class 'tuple'>\n"
     ]
    }
   ],
   "source": [
    "print(\"type(cities) is\", type(cities))\n",
    "print(\"type(ages) is\", type(ages))\n",
    "print(\"type(is_student) is\", type(is_student))\n",
    "print(\"type(student_1) is\", type(student_1))\n",
    "print(\"type(chart_type) is\", type(chart_type))"
   ]
  },
  {
   "cell_type": "markdown",
   "id": "ac8a9e3b",
   "metadata": {},
   "source": [
    "----------------------------------------"
   ]
  },
  {
   "cell_type": "markdown",
   "id": "5669b767",
   "metadata": {},
   "source": [
    "## 1. Tuple items are `ordered`"
   ]
  },
  {
   "cell_type": "code",
   "execution_count": 10,
   "id": "9fef2ab2",
   "metadata": {},
   "outputs": [
    {
     "name": "stdout",
     "output_type": "stream",
     "text": [
      "('Isfahan', 'Tehran', 'Shiraz', 'Rasht', 'Semnan', 'Ahvaz')\n"
     ]
    }
   ],
   "source": [
    "print(cities)"
   ]
  },
  {
   "cell_type": "code",
   "execution_count": 11,
   "id": "9d738bc2",
   "metadata": {},
   "outputs": [
    {
     "data": {
      "text/plain": [
       "'Isfahan'"
      ]
     },
     "execution_count": 11,
     "metadata": {},
     "output_type": "execute_result"
    }
   ],
   "source": [
    "cities[0]"
   ]
  },
  {
   "cell_type": "code",
   "execution_count": 12,
   "id": "e481d2a9",
   "metadata": {},
   "outputs": [
    {
     "data": {
      "text/plain": [
       "'Tehran'"
      ]
     },
     "execution_count": 12,
     "metadata": {},
     "output_type": "execute_result"
    }
   ],
   "source": [
    "cities[1]"
   ]
  },
  {
   "cell_type": "code",
   "execution_count": 13,
   "id": "ec4f07eb",
   "metadata": {},
   "outputs": [
    {
     "data": {
      "text/plain": [
       "'Ahvaz'"
      ]
     },
     "execution_count": 13,
     "metadata": {},
     "output_type": "execute_result"
    }
   ],
   "source": [
    "cities[-1]"
   ]
  },
  {
   "cell_type": "code",
   "execution_count": 14,
   "id": "312e61ff",
   "metadata": {},
   "outputs": [
    {
     "data": {
      "text/plain": [
       "('Tehran', 'Shiraz', 'Rasht')"
      ]
     },
     "execution_count": 14,
     "metadata": {},
     "output_type": "execute_result"
    }
   ],
   "source": [
    "cities[1:4]"
   ]
  },
  {
   "cell_type": "code",
   "execution_count": 15,
   "id": "e27e3ba8",
   "metadata": {},
   "outputs": [
    {
     "data": {
      "text/plain": [
       "('Rasht', 'Semnan', 'Ahvaz')"
      ]
     },
     "execution_count": 15,
     "metadata": {},
     "output_type": "execute_result"
    }
   ],
   "source": [
    "cities[3:]"
   ]
  },
  {
   "cell_type": "code",
   "execution_count": 16,
   "id": "5c73f921",
   "metadata": {},
   "outputs": [
    {
     "data": {
      "text/plain": [
       "('Isfahan', 'Tehran', 'Shiraz')"
      ]
     },
     "execution_count": 16,
     "metadata": {},
     "output_type": "execute_result"
    }
   ],
   "source": [
    "cities[:3]"
   ]
  },
  {
   "cell_type": "code",
   "execution_count": 17,
   "id": "7da5e2d1",
   "metadata": {},
   "outputs": [
    {
     "data": {
      "text/plain": [
       "('Tehran', 'Shiraz', 'Rasht', 'Semnan')"
      ]
     },
     "execution_count": 17,
     "metadata": {},
     "output_type": "execute_result"
    }
   ],
   "source": [
    "cities[-5:-1]"
   ]
  },
  {
   "cell_type": "code",
   "execution_count": 18,
   "id": "f5249e89",
   "metadata": {},
   "outputs": [
    {
     "data": {
      "text/plain": [
       "('Tehran', 'Shiraz', 'Rasht', 'Semnan', 'Ahvaz')"
      ]
     },
     "execution_count": 18,
     "metadata": {},
     "output_type": "execute_result"
    }
   ],
   "source": [
    "cities[-5:]"
   ]
  },
  {
   "cell_type": "code",
   "execution_count": 19,
   "id": "1ed154b1",
   "metadata": {},
   "outputs": [
    {
     "data": {
      "text/plain": [
       "('Isfahan', 'Tehran', 'Shiraz', 'Rasht')"
      ]
     },
     "execution_count": 19,
     "metadata": {},
     "output_type": "execute_result"
    }
   ],
   "source": [
    "cities[:-2]"
   ]
  },
  {
   "cell_type": "code",
   "execution_count": 20,
   "id": "1202f5a0",
   "metadata": {},
   "outputs": [
    {
     "data": {
      "text/plain": [
       "('Isfahan', 'Tehran', 'Shiraz', 'Rasht', 'Semnan', 'Ahvaz')"
      ]
     },
     "execution_count": 20,
     "metadata": {},
     "output_type": "execute_result"
    }
   ],
   "source": [
    "cities[:]"
   ]
  },
  {
   "cell_type": "code",
   "execution_count": 21,
   "id": "845123c0",
   "metadata": {},
   "outputs": [
    {
     "data": {
      "text/plain": [
       "('Isfahan', 'Shiraz', 'Semnan')"
      ]
     },
     "execution_count": 21,
     "metadata": {},
     "output_type": "execute_result"
    }
   ],
   "source": [
    "cities[::2]"
   ]
  },
  {
   "cell_type": "code",
   "execution_count": 22,
   "id": "d3a84625",
   "metadata": {},
   "outputs": [
    {
     "data": {
      "text/plain": [
       "('Ahvaz', 'Semnan', 'Rasht', 'Shiraz', 'Tehran', 'Isfahan')"
      ]
     },
     "execution_count": 22,
     "metadata": {},
     "output_type": "execute_result"
    }
   ],
   "source": [
    "cities[::-1]"
   ]
  },
  {
   "cell_type": "markdown",
   "id": "588abbbd",
   "metadata": {},
   "source": [
    "## 2. `Duplicate values` can be in tuple"
   ]
  },
  {
   "cell_type": "code",
   "execution_count": 23,
   "id": "7be8cd3f",
   "metadata": {},
   "outputs": [
    {
     "name": "stdout",
     "output_type": "stream",
     "text": [
      "(18, 30, 19, 25, 29, 30)\n"
     ]
    }
   ],
   "source": [
    "print(ages)"
   ]
  },
  {
   "cell_type": "code",
   "execution_count": 24,
   "id": "98d51290",
   "metadata": {},
   "outputs": [
    {
     "data": {
      "text/plain": [
       "30"
      ]
     },
     "execution_count": 24,
     "metadata": {},
     "output_type": "execute_result"
    }
   ],
   "source": [
    "ages[1]"
   ]
  },
  {
   "cell_type": "code",
   "execution_count": 25,
   "id": "3b115dcd",
   "metadata": {},
   "outputs": [
    {
     "data": {
      "text/plain": [
       "30"
      ]
     },
     "execution_count": 25,
     "metadata": {},
     "output_type": "execute_result"
    }
   ],
   "source": [
    "ages[5]"
   ]
  },
  {
   "cell_type": "code",
   "execution_count": null,
   "id": "09277e6a",
   "metadata": {},
   "outputs": [],
   "source": []
  }
 ],
 "metadata": {
  "kernelspec": {
   "display_name": "Python 3 (ipykernel)",
   "language": "python",
   "name": "python3"
  },
  "language_info": {
   "codemirror_mode": {
    "name": "ipython",
    "version": 3
   },
   "file_extension": ".py",
   "mimetype": "text/x-python",
   "name": "python",
   "nbconvert_exporter": "python",
   "pygments_lexer": "ipython3",
   "version": "3.9.13"
  }
 },
 "nbformat": 4,
 "nbformat_minor": 5
}
