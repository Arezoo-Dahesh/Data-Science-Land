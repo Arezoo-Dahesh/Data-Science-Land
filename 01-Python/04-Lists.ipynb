{
 "cells": [
  {
   "cell_type": "markdown",
   "id": "4b00af99",
   "metadata": {},
   "source": [
    "### List items:\n",
    "- Ordered\n",
    "- Changeable\n",
    "- Allow duplicate values"
   ]
  },
  {
   "cell_type": "code",
   "execution_count": 1,
   "id": "5d4ad282",
   "metadata": {},
   "outputs": [],
   "source": [
    "# 1\n",
    "names = [\"Arezoo\", \"Zahra\", \"Ehasn\", \"Hoori\", \"Ali\", \"Reza\"]\n",
    "grades = [18, 16, 19, 18.5, 16, 18]\n",
    "is_student = [True, False, False, True]\n",
    "student_1 = [\"Aram\", 25, True, \"Isfahan\", 18.75]"
   ]
  },
  {
   "cell_type": "code",
   "execution_count": 2,
   "id": "25ef95d0",
   "metadata": {},
   "outputs": [
    {
     "name": "stdout",
     "output_type": "stream",
     "text": [
      "['Python', 'Big data', 'Machine learning', 'R', 'Java']\n"
     ]
    }
   ],
   "source": [
    "# 2\n",
    "courses = list((\"Python\", \"Big data\", \"Machine learning\", \"R\", \"Java\"))\n",
    "print(courses)"
   ]
  },
  {
   "cell_type": "code",
   "execution_count": 3,
   "id": "1c1eed4c",
   "metadata": {},
   "outputs": [],
   "source": [
    "# empty list\n",
    "\n",
    "# list_1 = []\n",
    "# # print(list_1)\n",
    "# list_2 = list()"
   ]
  },
  {
   "cell_type": "markdown",
   "id": "4a208eab",
   "metadata": {},
   "source": [
    "## `Length`"
   ]
  },
  {
   "cell_type": "code",
   "execution_count": 4,
   "id": "30a730f8",
   "metadata": {},
   "outputs": [
    {
     "data": {
      "text/plain": [
       "6"
      ]
     },
     "execution_count": 4,
     "metadata": {},
     "output_type": "execute_result"
    }
   ],
   "source": [
    "len(names)"
   ]
  },
  {
   "cell_type": "code",
   "execution_count": 5,
   "id": "4a6861fc",
   "metadata": {},
   "outputs": [
    {
     "data": {
      "text/plain": [
       "4"
      ]
     },
     "execution_count": 5,
     "metadata": {},
     "output_type": "execute_result"
    }
   ],
   "source": [
    "len(is_student)"
   ]
  },
  {
   "cell_type": "code",
   "execution_count": 6,
   "id": "c680c442",
   "metadata": {},
   "outputs": [
    {
     "data": {
      "text/plain": [
       "5"
      ]
     },
     "execution_count": 6,
     "metadata": {},
     "output_type": "execute_result"
    }
   ],
   "source": [
    "len(student_1)"
   ]
  },
  {
   "cell_type": "markdown",
   "id": "738690c4",
   "metadata": {},
   "source": [
    "## `type()`"
   ]
  },
  {
   "cell_type": "code",
   "execution_count": 7,
   "id": "2516fec8",
   "metadata": {},
   "outputs": [
    {
     "name": "stdout",
     "output_type": "stream",
     "text": [
      "type(names) is <class 'list'>\n",
      "type(grades) is <class 'list'>\n",
      "type(is_student) is <class 'list'>\n",
      "type(student_1) is <class 'list'>\n",
      "type(courses) is <class 'list'>\n"
     ]
    }
   ],
   "source": [
    "print(\"type(names) is\", type(names))\n",
    "print(\"type(grades) is\", type(grades))\n",
    "print(\"type(is_student) is\", type(is_student))\n",
    "print(\"type(student_1) is\", type(student_1))\n",
    "print(\"type(courses) is\", type(courses))"
   ]
  },
  {
   "cell_type": "markdown",
   "id": "ac8a9e3b",
   "metadata": {},
   "source": [
    "----------------------------------------"
   ]
  },
  {
   "cell_type": "markdown",
   "id": "5669b767",
   "metadata": {},
   "source": [
    "## 1. List items are `ordered`"
   ]
  },
  {
   "cell_type": "code",
   "execution_count": 8,
   "id": "9fef2ab2",
   "metadata": {},
   "outputs": [
    {
     "name": "stdout",
     "output_type": "stream",
     "text": [
      "['Arezoo', 'Zahra', 'Ehasn', 'Hoori', 'Ali', 'Reza']\n"
     ]
    }
   ],
   "source": [
    "print(names)"
   ]
  },
  {
   "cell_type": "code",
   "execution_count": 9,
   "id": "ef0a84d3",
   "metadata": {},
   "outputs": [],
   "source": [
    "# Indexes\n",
    "\n",
    "# اندیس ها هنگام پیمایش لیست از ابتدای لسیت\n",
    "# 0    1   2   3   4   5\n",
    "\n",
    "# اندیس ها هنگام پیمایش لیست از انتهای لسیت\n",
    "# -6  -5  -4  -3  -2  -1"
   ]
  },
  {
   "cell_type": "code",
   "execution_count": 10,
   "id": "9d738bc2",
   "metadata": {},
   "outputs": [
    {
     "data": {
      "text/plain": [
       "'Arezoo'"
      ]
     },
     "execution_count": 10,
     "metadata": {},
     "output_type": "execute_result"
    }
   ],
   "source": [
    "names[0]"
   ]
  },
  {
   "cell_type": "code",
   "execution_count": 11,
   "id": "e481d2a9",
   "metadata": {},
   "outputs": [
    {
     "data": {
      "text/plain": [
       "'Zahra'"
      ]
     },
     "execution_count": 11,
     "metadata": {},
     "output_type": "execute_result"
    }
   ],
   "source": [
    "names[1]"
   ]
  },
  {
   "cell_type": "code",
   "execution_count": 12,
   "id": "ec4f07eb",
   "metadata": {},
   "outputs": [
    {
     "data": {
      "text/plain": [
       "'Reza'"
      ]
     },
     "execution_count": 12,
     "metadata": {},
     "output_type": "execute_result"
    }
   ],
   "source": [
    "names[-1]"
   ]
  },
  {
   "cell_type": "code",
   "execution_count": 13,
   "id": "312e61ff",
   "metadata": {},
   "outputs": [
    {
     "data": {
      "text/plain": [
       "['Zahra', 'Ehasn', 'Hoori']"
      ]
     },
     "execution_count": 13,
     "metadata": {},
     "output_type": "execute_result"
    }
   ],
   "source": [
    "names[1:4]\n"
   ]
  },
  {
   "cell_type": "code",
   "execution_count": 14,
   "id": "e27e3ba8",
   "metadata": {},
   "outputs": [
    {
     "data": {
      "text/plain": [
       "['Hoori', 'Ali', 'Reza']"
      ]
     },
     "execution_count": 14,
     "metadata": {},
     "output_type": "execute_result"
    }
   ],
   "source": [
    "names[3:]"
   ]
  },
  {
   "cell_type": "code",
   "execution_count": 15,
   "id": "5c73f921",
   "metadata": {},
   "outputs": [
    {
     "data": {
      "text/plain": [
       "['Arezoo', 'Zahra', 'Ehasn']"
      ]
     },
     "execution_count": 15,
     "metadata": {},
     "output_type": "execute_result"
    }
   ],
   "source": [
    "names[:3]"
   ]
  },
  {
   "cell_type": "code",
   "execution_count": 16,
   "id": "7da5e2d1",
   "metadata": {},
   "outputs": [
    {
     "data": {
      "text/plain": [
       "['Zahra', 'Ehasn', 'Hoori', 'Ali']"
      ]
     },
     "execution_count": 16,
     "metadata": {},
     "output_type": "execute_result"
    }
   ],
   "source": [
    "names[-5:-1]"
   ]
  },
  {
   "cell_type": "code",
   "execution_count": 17,
   "id": "f5249e89",
   "metadata": {},
   "outputs": [
    {
     "data": {
      "text/plain": [
       "['Zahra', 'Ehasn', 'Hoori', 'Ali', 'Reza']"
      ]
     },
     "execution_count": 17,
     "metadata": {},
     "output_type": "execute_result"
    }
   ],
   "source": [
    "names[-5:]"
   ]
  },
  {
   "cell_type": "code",
   "execution_count": 18,
   "id": "1ed154b1",
   "metadata": {},
   "outputs": [
    {
     "data": {
      "text/plain": [
       "['Arezoo', 'Zahra', 'Ehasn', 'Hoori']"
      ]
     },
     "execution_count": 18,
     "metadata": {},
     "output_type": "execute_result"
    }
   ],
   "source": [
    "names[:-2]"
   ]
  },
  {
   "cell_type": "code",
   "execution_count": 19,
   "id": "dbcd84e5",
   "metadata": {},
   "outputs": [
    {
     "data": {
      "text/plain": [
       "['Arezoo', 'Zahra', 'Ehasn', 'Hoori']"
      ]
     },
     "execution_count": 19,
     "metadata": {},
     "output_type": "execute_result"
    }
   ],
   "source": [
    "names[0:4]\n",
    "\n",
    "# names[0:4:1]\n",
    "# names[start:end:step]"
   ]
  },
  {
   "cell_type": "code",
   "execution_count": 20,
   "id": "8afa747f",
   "metadata": {},
   "outputs": [
    {
     "data": {
      "text/plain": [
       "['Arezoo', 'Ehasn']"
      ]
     },
     "execution_count": 20,
     "metadata": {},
     "output_type": "execute_result"
    }
   ],
   "source": [
    "names[0:4:2]"
   ]
  },
  {
   "cell_type": "code",
   "execution_count": 21,
   "id": "def26fbb",
   "metadata": {},
   "outputs": [
    {
     "data": {
      "text/plain": [
       "['Arezoo', 'Zahra', 'Ehasn', 'Hoori', 'Ali', 'Reza']"
      ]
     },
     "execution_count": 21,
     "metadata": {},
     "output_type": "execute_result"
    }
   ],
   "source": [
    "names[:]"
   ]
  },
  {
   "cell_type": "code",
   "execution_count": 22,
   "id": "9fe5713a",
   "metadata": {},
   "outputs": [
    {
     "data": {
      "text/plain": [
       "['Arezoo', 'Ehasn', 'Ali']"
      ]
     },
     "execution_count": 22,
     "metadata": {},
     "output_type": "execute_result"
    }
   ],
   "source": [
    "names[::2]\n",
    "\n",
    "# names[0:6:2]"
   ]
  },
  {
   "cell_type": "code",
   "execution_count": 23,
   "id": "27a003de",
   "metadata": {},
   "outputs": [
    {
     "data": {
      "text/plain": [
       "['Reza', 'Ali', 'Hoori', 'Ehasn', 'Zahra', 'Arezoo']"
      ]
     },
     "execution_count": 23,
     "metadata": {},
     "output_type": "execute_result"
    }
   ],
   "source": [
    "names[::-1]"
   ]
  },
  {
   "cell_type": "markdown",
   "id": "cf3e2470",
   "metadata": {},
   "source": [
    "### * `Nested lists`*"
   ]
  },
  {
   "cell_type": "code",
   "execution_count": 24,
   "id": "46456ea7",
   "metadata": {},
   "outputs": [
    {
     "name": "stdout",
     "output_type": "stream",
     "text": [
      "[[1, 2, 3], [10, 20, 30, 40], [100, 200, 300, 400], [1000, 2000, 3000]]\n"
     ]
    }
   ],
   "source": [
    "nested_num = [[1,2,3], [10,20,30,40], [100,200,300,400], [1000, 2000, 3000]]\n",
    "print(nested_num)"
   ]
  },
  {
   "cell_type": "code",
   "execution_count": 25,
   "id": "3fa77305",
   "metadata": {},
   "outputs": [
    {
     "data": {
      "text/plain": [
       "4"
      ]
     },
     "execution_count": 25,
     "metadata": {},
     "output_type": "execute_result"
    }
   ],
   "source": [
    "len(nested_num)"
   ]
  },
  {
   "cell_type": "code",
   "execution_count": 26,
   "id": "ed0b8426",
   "metadata": {},
   "outputs": [
    {
     "data": {
      "text/plain": [
       "3"
      ]
     },
     "execution_count": 26,
     "metadata": {},
     "output_type": "execute_result"
    }
   ],
   "source": [
    "len(nested_num[3])"
   ]
  },
  {
   "cell_type": "code",
   "execution_count": 27,
   "id": "9849961b",
   "metadata": {},
   "outputs": [
    {
     "data": {
      "text/plain": [
       "[1, 2, 3]"
      ]
     },
     "execution_count": 27,
     "metadata": {},
     "output_type": "execute_result"
    }
   ],
   "source": [
    "nested_num[0]"
   ]
  },
  {
   "cell_type": "code",
   "execution_count": 28,
   "id": "bfc6fe8c",
   "metadata": {},
   "outputs": [
    {
     "data": {
      "text/plain": [
       "[[1, 2, 3], [10, 20, 30, 40]]"
      ]
     },
     "execution_count": 28,
     "metadata": {},
     "output_type": "execute_result"
    }
   ],
   "source": [
    "nested_num[0:2]"
   ]
  },
  {
   "cell_type": "code",
   "execution_count": 29,
   "id": "11df67c3",
   "metadata": {},
   "outputs": [
    {
     "data": {
      "text/plain": [
       "[[1, 2, 3], [100, 200, 300, 400]]"
      ]
     },
     "execution_count": 29,
     "metadata": {},
     "output_type": "execute_result"
    }
   ],
   "source": [
    "nested_num[::2]"
   ]
  },
  {
   "cell_type": "code",
   "execution_count": 30,
   "id": "10c9179c",
   "metadata": {},
   "outputs": [
    {
     "data": {
      "text/plain": [
       "2"
      ]
     },
     "execution_count": 30,
     "metadata": {},
     "output_type": "execute_result"
    }
   ],
   "source": [
    "nested_num[0][1]"
   ]
  },
  {
   "cell_type": "code",
   "execution_count": 31,
   "id": "bb72fc74",
   "metadata": {},
   "outputs": [
    {
     "data": {
      "text/plain": [
       "3000"
      ]
     },
     "execution_count": 31,
     "metadata": {},
     "output_type": "execute_result"
    }
   ],
   "source": [
    "nested_num[-1][2]"
   ]
  },
  {
   "cell_type": "code",
   "execution_count": 32,
   "id": "4c29d4e6",
   "metadata": {},
   "outputs": [
    {
     "name": "stdout",
     "output_type": "stream",
     "text": [
      "[[[1, 2, 3], [4, 5]], [10, 20, 30, 40]]\n"
     ]
    }
   ],
   "source": [
    "nested_num_2 = [[[1,2,3], [4,5]],[10,20,30,40]]\n",
    "print(nested_num_2)"
   ]
  },
  {
   "cell_type": "code",
   "execution_count": 33,
   "id": "1025e840",
   "metadata": {},
   "outputs": [
    {
     "data": {
      "text/plain": [
       "[[1, 2, 3], [4, 5]]"
      ]
     },
     "execution_count": 33,
     "metadata": {},
     "output_type": "execute_result"
    }
   ],
   "source": [
    "nested_num_2[0]"
   ]
  },
  {
   "cell_type": "code",
   "execution_count": 34,
   "id": "45ed955f",
   "metadata": {},
   "outputs": [
    {
     "data": {
      "text/plain": [
       "[10, 20, 30, 40]"
      ]
     },
     "execution_count": 34,
     "metadata": {},
     "output_type": "execute_result"
    }
   ],
   "source": [
    "nested_num_2[1]"
   ]
  },
  {
   "cell_type": "code",
   "execution_count": 35,
   "id": "a6b30157",
   "metadata": {},
   "outputs": [
    {
     "data": {
      "text/plain": [
       "[1, 2, 3]"
      ]
     },
     "execution_count": 35,
     "metadata": {},
     "output_type": "execute_result"
    }
   ],
   "source": [
    "nested_num_2[0][0]"
   ]
  },
  {
   "cell_type": "code",
   "execution_count": 36,
   "id": "d560fa5a",
   "metadata": {},
   "outputs": [
    {
     "data": {
      "text/plain": [
       "2"
      ]
     },
     "execution_count": 36,
     "metadata": {},
     "output_type": "execute_result"
    }
   ],
   "source": [
    "nested_num_2[0][0][1]"
   ]
  },
  {
   "cell_type": "markdown",
   "id": "fe4876cd",
   "metadata": {},
   "source": [
    "## `Simple practice`"
   ]
  },
  {
   "cell_type": "code",
   "execution_count": 37,
   "id": "82aa17ba",
   "metadata": {},
   "outputs": [],
   "source": [
    "nested_num_3 = [[[1,2,3],[4,5]],[[6,7],[[8,9,10],[11,12]]]]"
   ]
  },
  {
   "cell_type": "code",
   "execution_count": 38,
   "id": "6ad8ce91",
   "metadata": {},
   "outputs": [
    {
     "data": {
      "text/plain": [
       "2"
      ]
     },
     "execution_count": 38,
     "metadata": {},
     "output_type": "execute_result"
    }
   ],
   "source": [
    "len(nested_num_3)"
   ]
  },
  {
   "cell_type": "code",
   "execution_count": 39,
   "id": "c37879eb",
   "metadata": {},
   "outputs": [
    {
     "data": {
      "text/plain": [
       "[[1, 2, 3], [4, 5]]"
      ]
     },
     "execution_count": 39,
     "metadata": {},
     "output_type": "execute_result"
    }
   ],
   "source": [
    "nested_num_3[0]"
   ]
  },
  {
   "cell_type": "code",
   "execution_count": 40,
   "id": "522b24ad",
   "metadata": {},
   "outputs": [
    {
     "data": {
      "text/plain": [
       "[[6, 7], [[8, 9, 10], [11, 12]]]"
      ]
     },
     "execution_count": 40,
     "metadata": {},
     "output_type": "execute_result"
    }
   ],
   "source": [
    "nested_num_3[1]"
   ]
  },
  {
   "cell_type": "markdown",
   "id": "c4219dc7",
   "metadata": {},
   "source": [
    "آیتم هایی از لیست بالا چاپ کنید که مقادیر 5، 7 و 10 دارند"
   ]
  },
  {
   "cell_type": "markdown",
   "id": "1dce0468",
   "metadata": {},
   "source": [
    "## 2. `Duplicate values` can be in list"
   ]
  },
  {
   "cell_type": "code",
   "execution_count": 37,
   "id": "8c1b7b53",
   "metadata": {},
   "outputs": [
    {
     "name": "stdout",
     "output_type": "stream",
     "text": [
      "[18, 16, 19, 18.5, 16, 18]\n"
     ]
    }
   ],
   "source": [
    "print(grades)"
   ]
  },
  {
   "cell_type": "code",
   "execution_count": 38,
   "id": "98d51290",
   "metadata": {},
   "outputs": [
    {
     "data": {
      "text/plain": [
       "18"
      ]
     },
     "execution_count": 38,
     "metadata": {},
     "output_type": "execute_result"
    }
   ],
   "source": [
    "grades[0]"
   ]
  },
  {
   "cell_type": "code",
   "execution_count": 39,
   "id": "3b115dcd",
   "metadata": {},
   "outputs": [
    {
     "data": {
      "text/plain": [
       "18"
      ]
     },
     "execution_count": 39,
     "metadata": {},
     "output_type": "execute_result"
    }
   ],
   "source": [
    "grades[-1]"
   ]
  },
  {
   "cell_type": "markdown",
   "id": "4d79b777",
   "metadata": {},
   "source": [
    "## 3. List items are `changeable`\n",
    "\n",
    "Changeable means:\n",
    "- change\n",
    "- add\n",
    "- remove"
   ]
  },
  {
   "cell_type": "markdown",
   "id": "66887a8f",
   "metadata": {},
   "source": [
    "## `Change items`"
   ]
  },
  {
   "cell_type": "code",
   "execution_count": 40,
   "id": "97f38875",
   "metadata": {},
   "outputs": [
    {
     "name": "stdout",
     "output_type": "stream",
     "text": [
      "['Python', 'Big data', 'Machine learning', 'R', 'Java']\n"
     ]
    }
   ],
   "source": [
    "print(courses)"
   ]
  },
  {
   "cell_type": "code",
   "execution_count": 41,
   "id": "61a51a04",
   "metadata": {},
   "outputs": [],
   "source": [
    "# xxx\n",
    "courses_2 = courses\n",
    "\n",
    "# 1\n",
    "courses_3 = courses.copy()\n",
    "# 2\n",
    "courses_4 = list(courses)"
   ]
  },
  {
   "cell_type": "code",
   "execution_count": 42,
   "id": "7b9068f1",
   "metadata": {},
   "outputs": [
    {
     "name": "stdout",
     "output_type": "stream",
     "text": [
      "courses[-1] is Java\n",
      "------------------------------\n",
      "New courses list -> ['Python', 'Big data', 'Machine learning', 'R', 'Deep learning']\n",
      "------------------------------\n",
      "Third copy -> ['Python', 'Big data', 'Machine learning', 'R', 'Java']\n",
      "------------------------------\n",
      "Fourth copy -> ['Python', 'Big data', 'Machine learning', 'R', 'Java']\n"
     ]
    }
   ],
   "source": [
    "print('courses[-1] is', courses[-1])\n",
    "print(\"-\"*30)\n",
    "courses[-1] = \"Deep learning\"\n",
    "print('New courses list ->', courses)\n",
    "print(\"-\"*30)\n",
    "print('Third copy ->', courses_3)\n",
    "print(\"-\"*30)\n",
    "print('Fourth copy ->', courses_4)"
   ]
  },
  {
   "cell_type": "code",
   "execution_count": 43,
   "id": "6d22615c",
   "metadata": {},
   "outputs": [
    {
     "name": "stdout",
     "output_type": "stream",
     "text": [
      "['Python', 'Big data', 'Machine learning', 'R', 'Deep learning']\n"
     ]
    }
   ],
   "source": [
    "print(courses_2)"
   ]
  },
  {
   "cell_type": "code",
   "execution_count": 44,
   "id": "1977246c",
   "metadata": {},
   "outputs": [
    {
     "name": "stdout",
     "output_type": "stream",
     "text": [
      "courses:\n",
      "['Python', 'Big data', 'Machine learning', 'R', 'Java']\n",
      "------------------------------\n",
      "courses[1:3]:\n",
      "['Big data', 'Machine learning']\n",
      "------------------------------\n",
      "new courses list:\n",
      "['Python', 'SQL', 'PowerBI', 'R', 'Java']\n"
     ]
    }
   ],
   "source": [
    "courses = courses_3.copy()\n",
    "print('courses:')\n",
    "print(courses)\n",
    "print(\"-\"*30)\n",
    "\n",
    "print('courses[1:3]:')\n",
    "print(courses[1:3])\n",
    "print(\"-\"*30)\n",
    "\n",
    "courses[1:3] = ['SQL', 'PowerBI']\n",
    "print('new courses list:')\n",
    "print(courses)"
   ]
  },
  {
   "cell_type": "code",
   "execution_count": 45,
   "id": "611bede1",
   "metadata": {},
   "outputs": [
    {
     "name": "stdout",
     "output_type": "stream",
     "text": [
      "courses:\n",
      "['Python', 'Big data', 'Machine learning', 'R', 'Java']\n",
      "len(courses) =>  5\n",
      "------------------------------\n",
      "courses[2:3]:\n",
      "['Machine learning']\n",
      "------------------------------\n",
      "new courses list:\n",
      "['Python', 'Big data', 'SQL', 'PowerBI', 'R', 'Java']\n",
      "len(courses) =>  6\n"
     ]
    }
   ],
   "source": [
    "courses = courses_3.copy()\n",
    "print('courses:')\n",
    "print(courses)\n",
    "print('len(courses) => ', len(courses))\n",
    "print(\"-\"*30)\n",
    "\n",
    "print('courses[2:3]:')\n",
    "print(courses[2:3])\n",
    "print(\"-\"*30)\n",
    "\n",
    "courses[2:3] = ['SQL', 'PowerBI']\n",
    "print('new courses list:')\n",
    "print(courses)\n",
    "print('len(courses) => ', len(courses))"
   ]
  },
  {
   "cell_type": "code",
   "execution_count": 46,
   "id": "2a1b1ccb",
   "metadata": {},
   "outputs": [
    {
     "name": "stdout",
     "output_type": "stream",
     "text": [
      "courses:\n",
      "['Python', 'Big data', 'Machine learning', 'R', 'Java']\n",
      "len(courses) =>  5\n",
      "------------------------------\n",
      "courses[1:3]:\n",
      "['Big data', 'Machine learning']\n",
      "------------------------------\n",
      "new courses list:\n",
      "['Python', 'SQL', 'R', 'Java']\n",
      "len(courses) =>  4\n"
     ]
    }
   ],
   "source": [
    "courses = courses_3.copy()\n",
    "print('courses:')\n",
    "print(courses)\n",
    "print('len(courses) => ', len(courses))\n",
    "print(\"-\"*30)\n",
    "\n",
    "print('courses[1:3]:')\n",
    "print(courses[1:3])\n",
    "print(\"-\"*30)\n",
    "\n",
    "courses[1:3] = ['SQL']\n",
    "print('new courses list:')\n",
    "print(courses)\n",
    "print('len(courses) => ', len(courses))"
   ]
  },
  {
   "cell_type": "markdown",
   "id": "aeed0a06",
   "metadata": {},
   "source": [
    "## `Add items`"
   ]
  },
  {
   "cell_type": "code",
   "execution_count": 47,
   "id": "78400d43",
   "metadata": {},
   "outputs": [
    {
     "name": "stdout",
     "output_type": "stream",
     "text": [
      "courses:\n",
      "['Python', 'Big data', 'Machine learning', 'R', 'Java']\n",
      "------------------------------\n",
      "new courses list:\n",
      "['Python', 'SQL', 'Big data', 'Machine learning', 'R', 'Java']\n"
     ]
    }
   ],
   "source": [
    "# insert()\n",
    "courses = courses_3.copy()\n",
    "print('courses:')\n",
    "print(courses)\n",
    "print(\"-\"*30)\n",
    "\n",
    "courses.insert(1, 'SQL')\n",
    "print('new courses list:')\n",
    "print(courses)"
   ]
  },
  {
   "cell_type": "code",
   "execution_count": 48,
   "id": "bfb731d7",
   "metadata": {},
   "outputs": [
    {
     "name": "stdout",
     "output_type": "stream",
     "text": [
      "courses:\n",
      "['Python', 'Big data', 'Machine learning', 'R', 'Java']\n",
      "------------------------------\n",
      "new courses list:\n",
      "['Python', 'Big data', 'Machine learning', 'R', 'Java', 'NLP']\n"
     ]
    }
   ],
   "source": [
    "# append()\n",
    "courses = courses_3.copy()\n",
    "print('courses:')\n",
    "print(courses)\n",
    "print(\"-\"*30)\n",
    "\n",
    "courses.append('NLP')\n",
    "print('new courses list:')\n",
    "print(courses)"
   ]
  },
  {
   "cell_type": "code",
   "execution_count": 49,
   "id": "94694cda",
   "metadata": {},
   "outputs": [
    {
     "name": "stdout",
     "output_type": "stream",
     "text": [
      "['Pink', 'Purple', 'Red', 'Blue', 'Green', 'Orange']\n"
     ]
    }
   ],
   "source": [
    "# extend()\n",
    "color_1 = ['Pink', 'Purple', 'Red']\n",
    "color_2 = ['Blue', 'Green', 'Orange']\n",
    "\n",
    "color_1.extend(color_2)\n",
    "print(color_1)\n",
    "\n",
    "# Or\n",
    "# color_3 = color_1 + color_2\n",
    "# print(color_3)"
   ]
  },
  {
   "cell_type": "code",
   "execution_count": 50,
   "id": "e7eb9da1",
   "metadata": {},
   "outputs": [
    {
     "name": "stdout",
     "output_type": "stream",
     "text": [
      "type(color_1) -> <class 'list'>\n",
      "type(color_2) -> <class 'tuple'>\n",
      "------------------------------\n",
      "['Pink', 'Purple', 'Red', 'Blue', 'Green', 'Orange']\n",
      "type(color_1) -> <class 'list'>\n"
     ]
    }
   ],
   "source": [
    "color_1 = ['Pink', 'Purple', 'Red']\n",
    "print('type(color_1) ->', type(color_1))\n",
    "color_2 = ('Blue', 'Green', 'Orange')\n",
    "print('type(color_2) ->', type(color_2))\n",
    "print(\"-\"*30)\n",
    "\n",
    "color_1.extend(color_2)\n",
    "print(color_1)\n",
    "print('type(color_1) ->', type(color_1))"
   ]
  },
  {
   "cell_type": "code",
   "execution_count": 51,
   "id": "4662f650",
   "metadata": {},
   "outputs": [
    {
     "name": "stdout",
     "output_type": "stream",
     "text": [
      "type(color_1) -> <class 'list'>\n",
      "type(color_2) -> <class 'set'>\n",
      "------------------------------\n",
      "['Pink', 'Purple', 'Red', 'Orange', 'Blue', 'Green']\n",
      "type(color_1) -> <class 'list'>\n"
     ]
    }
   ],
   "source": [
    "color_1 = ['Pink', 'Purple', 'Red']\n",
    "print('type(color_1) ->', type(color_1))\n",
    "color_2 = {'Blue', 'Green', 'Orange'}\n",
    "print('type(color_2) ->', type(color_2))\n",
    "print(\"-\"*30)\n",
    "\n",
    "color_1.extend(color_2)\n",
    "print(color_1)\n",
    "print('type(color_1) ->', type(color_1))"
   ]
  },
  {
   "cell_type": "code",
   "execution_count": 52,
   "id": "43425d82",
   "metadata": {},
   "outputs": [
    {
     "name": "stdout",
     "output_type": "stream",
     "text": [
      "['Pink', 'Purple', 'Red', 'Blue', 'Green', 'Orange']\n"
     ]
    }
   ],
   "source": [
    "# +\n",
    "color_1 = ['Pink', 'Purple', 'Red']\n",
    "color_2 = ['Blue', 'Green', 'Orange']\n",
    "\n",
    "color_3 = color_1 + color_2 \n",
    "print(color_3)"
   ]
  },
  {
   "cell_type": "markdown",
   "id": "49229317",
   "metadata": {},
   "source": [
    "## `Remove items`"
   ]
  },
  {
   "cell_type": "code",
   "execution_count": 53,
   "id": "cb704170",
   "metadata": {},
   "outputs": [
    {
     "name": "stdout",
     "output_type": "stream",
     "text": [
      "['Pink', 'Purple', 'Red', 'Blue', 'Orange', 'Green']\n"
     ]
    }
   ],
   "source": [
    "color_1 = ['Pink', 'Purple', 'Red', 'Blue', 'Orange', 'Green']\n",
    "print(color_1)"
   ]
  },
  {
   "cell_type": "code",
   "execution_count": 54,
   "id": "9b97bab7",
   "metadata": {},
   "outputs": [
    {
     "name": "stdout",
     "output_type": "stream",
     "text": [
      "['Pink', 'Purple', 'Red', 'Blue', 'Green']\n"
     ]
    }
   ],
   "source": [
    "color_1.remove('Orange')\n",
    "print(color_1)"
   ]
  },
  {
   "cell_type": "code",
   "execution_count": 55,
   "id": "82d67e9c",
   "metadata": {},
   "outputs": [
    {
     "name": "stdout",
     "output_type": "stream",
     "text": [
      "color_1 -> ['Pink', 'Red', 'Blue', 'Green']\n",
      "------------------------------\n",
      "tmp -> Purple\n"
     ]
    }
   ],
   "source": [
    "# with index\n",
    "tmp = color_1.pop(1)\n",
    "print('color_1 ->', color_1)\n",
    "print(\"-\"*30)\n",
    "print('tmp ->', tmp)"
   ]
  },
  {
   "cell_type": "code",
   "execution_count": 56,
   "id": "8faf06c9",
   "metadata": {},
   "outputs": [
    {
     "name": "stdout",
     "output_type": "stream",
     "text": [
      "color_1 -> ['Pink', 'Red', 'Blue']\n",
      "------------------------------\n",
      "tmp -> Green\n"
     ]
    }
   ],
   "source": [
    "# without index\n",
    "tmp = color_1.pop()\n",
    "print('color_1 ->', color_1)\n",
    "print(\"-\"*30)\n",
    "print('tmp ->', tmp)"
   ]
  },
  {
   "cell_type": "code",
   "execution_count": 57,
   "id": "32fd0599",
   "metadata": {},
   "outputs": [
    {
     "name": "stdout",
     "output_type": "stream",
     "text": [
      "['Pink', 'Blue']\n"
     ]
    }
   ],
   "source": [
    "del color_1[1]\n",
    "print( color_1)"
   ]
  },
  {
   "cell_type": "code",
   "execution_count": 58,
   "id": "804506c9",
   "metadata": {},
   "outputs": [
    {
     "ename": "NameError",
     "evalue": "name 'color_1' is not defined",
     "output_type": "error",
     "traceback": [
      "\u001b[1;31m---------------------------------------------------------------------------\u001b[0m",
      "\u001b[1;31mNameError\u001b[0m                                 Traceback (most recent call last)",
      "\u001b[1;32m~\\AppData\\Local\\Temp\\ipykernel_15784\\806827525.py\u001b[0m in \u001b[0;36m<module>\u001b[1;34m\u001b[0m\n\u001b[0;32m      1\u001b[0m \u001b[1;32mdel\u001b[0m \u001b[0mcolor_1\u001b[0m\u001b[1;33m\u001b[0m\u001b[1;33m\u001b[0m\u001b[0m\n\u001b[1;32m----> 2\u001b[1;33m \u001b[0mprint\u001b[0m\u001b[1;33m(\u001b[0m \u001b[0mcolor_1\u001b[0m\u001b[1;33m)\u001b[0m\u001b[1;33m\u001b[0m\u001b[1;33m\u001b[0m\u001b[0m\n\u001b[0m",
      "\u001b[1;31mNameError\u001b[0m: name 'color_1' is not defined"
     ]
    }
   ],
   "source": [
    "del color_1\n",
    "print(color_1)"
   ]
  },
  {
   "cell_type": "code",
   "execution_count": 59,
   "id": "55dc136b",
   "metadata": {},
   "outputs": [
    {
     "name": "stdout",
     "output_type": "stream",
     "text": [
      "['Pink', 'Purple', 'Red', 'Blue', 'Orange', 'Green']\n"
     ]
    }
   ],
   "source": [
    "color_1 = ['Pink', 'Purple', 'Red', 'Blue', 'Orange', 'Green']\n",
    "print(color_1)"
   ]
  },
  {
   "cell_type": "code",
   "execution_count": 60,
   "id": "5af637da",
   "metadata": {},
   "outputs": [
    {
     "name": "stdout",
     "output_type": "stream",
     "text": [
      "color_1 -> []\n"
     ]
    }
   ],
   "source": [
    "color_1.clear()\n",
    "print('color_1 ->', color_1)"
   ]
  },
  {
   "cell_type": "markdown",
   "id": "e6dff062",
   "metadata": {},
   "source": [
    "------------------------------------------------------------------------"
   ]
  },
  {
   "cell_type": "markdown",
   "id": "27d7cc74",
   "metadata": {},
   "source": [
    "## `Check item in list`"
   ]
  },
  {
   "cell_type": "code",
   "execution_count": 61,
   "id": "8ad22a7f",
   "metadata": {},
   "outputs": [
    {
     "name": "stdout",
     "output_type": "stream",
     "text": [
      "['Arezoo', 'Zahra', 'Ehasn', 'Hoori', 'Ali', 'Reza']\n"
     ]
    }
   ],
   "source": [
    "print(names)"
   ]
  },
  {
   "cell_type": "code",
   "execution_count": 62,
   "id": "e3f93ee7",
   "metadata": {},
   "outputs": [
    {
     "data": {
      "text/plain": [
       "True"
      ]
     },
     "execution_count": 62,
     "metadata": {},
     "output_type": "execute_result"
    }
   ],
   "source": [
    "'Hoori' in names"
   ]
  },
  {
   "cell_type": "code",
   "execution_count": 63,
   "id": "2dbe9ee9",
   "metadata": {},
   "outputs": [
    {
     "name": "stdout",
     "output_type": "stream",
     "text": [
      "Ahmad in names -> False\n",
      "Ahmad not in names -> True\n"
     ]
    }
   ],
   "source": [
    "print('Ahmad in names ->', 'Ahmad' in names)\n",
    "print('Ahmad not in names ->', 'Ahmad' not in names)"
   ]
  },
  {
   "cell_type": "markdown",
   "id": "3f4bff5e",
   "metadata": {},
   "source": [
    "## `Sort Lists`"
   ]
  },
  {
   "cell_type": "code",
   "execution_count": 64,
   "id": "e1ce8796",
   "metadata": {},
   "outputs": [],
   "source": [
    "color_1 = ['Pink', 'Purple', 'Red', 'Blue', 'Orange', 'Green']\n",
    "names = [\"Arezoo\", \"Zahra\", \"Ehasn\", \"Hoori\", \"Ali\", \"Reza\"]"
   ]
  },
  {
   "cell_type": "code",
   "execution_count": 65,
   "id": "3c4eb5b9",
   "metadata": {},
   "outputs": [
    {
     "name": "stdout",
     "output_type": "stream",
     "text": [
      "['Blue', 'Green', 'Orange', 'Pink', 'Purple', 'Red']\n"
     ]
    }
   ],
   "source": [
    "# صعودی\n",
    "color_1.sort()\n",
    "print(color_1)"
   ]
  },
  {
   "cell_type": "code",
   "execution_count": 66,
   "id": "04df85ab",
   "metadata": {},
   "outputs": [
    {
     "name": "stdout",
     "output_type": "stream",
     "text": [
      "['Ali', 'Arezoo', 'Ehasn', 'Hoori', 'Reza', 'Zahra']\n"
     ]
    }
   ],
   "source": [
    "# صعودی\n",
    "names.sort()\n",
    "print(names)"
   ]
  },
  {
   "cell_type": "code",
   "execution_count": 67,
   "id": "1d80540c",
   "metadata": {},
   "outputs": [
    {
     "name": "stdout",
     "output_type": "stream",
     "text": [
      "['Red', 'Purple', 'Pink', 'Orange', 'Green', 'Blue']\n"
     ]
    }
   ],
   "source": [
    "# نزولی\n",
    "color_1.sort(reverse=True)\n",
    "print(color_1)"
   ]
  },
  {
   "cell_type": "code",
   "execution_count": 68,
   "id": "11164a26",
   "metadata": {},
   "outputs": [
    {
     "name": "stdout",
     "output_type": "stream",
     "text": [
      "['Zahra', 'Reza', 'Hoori', 'Ehasn', 'Arezoo', 'Ali']\n"
     ]
    }
   ],
   "source": [
    "# نزولی\n",
    "names.sort(reverse=True)\n",
    "print(names)"
   ]
  },
  {
   "cell_type": "code",
   "execution_count": 69,
   "id": "4caaa623",
   "metadata": {},
   "outputs": [
    {
     "name": "stdout",
     "output_type": "stream",
     "text": [
      "['Green', 'Pink', 'Purple', 'blue', 'orange', 'red']\n"
     ]
    }
   ],
   "source": [
    "color_1 = ['Pink', 'Purple', 'red', 'blue', 'orange', 'Green']\n",
    "color_1.sort()\n",
    "print(color_1)"
   ]
  },
  {
   "cell_type": "code",
   "execution_count": 70,
   "id": "bcd80287",
   "metadata": {},
   "outputs": [
    {
     "name": "stdout",
     "output_type": "stream",
     "text": [
      "['blue', 'Green', 'orange', 'Pink', 'Purple', 'red']\n"
     ]
    }
   ],
   "source": [
    "color_1.sort(key = str.lower)\n",
    "print(color_1)"
   ]
  },
  {
   "cell_type": "code",
   "execution_count": 71,
   "id": "e50af840",
   "metadata": {},
   "outputs": [
    {
     "name": "stdout",
     "output_type": "stream",
     "text": [
      "[19, 38, 40, 15, 30, 25]\n"
     ]
    }
   ],
   "source": [
    "Ages = [25, 30, 15, 40, 38, 19]\n",
    "Ages.reverse()\n",
    "print(Ages)\n",
    "\n",
    "# Ages[::-1]"
   ]
  },
  {
   "cell_type": "markdown",
   "id": "052835f4",
   "metadata": {},
   "source": [
    "-----------------------------------------"
   ]
  },
  {
   "cell_type": "markdown",
   "id": "2250da1b",
   "metadata": {},
   "source": [
    "More method for list -> https://www.w3schools.com/python/python_lists_methods.asp"
   ]
  },
  {
   "cell_type": "markdown",
   "id": "15b82429",
   "metadata": {},
   "source": [
    "## `Simple practice`"
   ]
  },
  {
   "cell_type": "code",
   "execution_count": 72,
   "id": "4cf74ca8",
   "metadata": {},
   "outputs": [],
   "source": [
    "musical_instrument = ['Guitar', 'Piano', 'Violon', 'Drums', 'Cello', 'Accordian']"
   ]
  },
  {
   "cell_type": "markdown",
   "id": "9a801516",
   "metadata": {},
   "source": [
    "- طول لیست را به دست آورید. با چه دستوری طول را حساب کردید؟\n",
    "--------------------------------------------------\n",
    "\n",
    "- عنصر دوم لیست را برگردانید\n",
    "--------------------------------------------------\n",
    "\n",
    "- عناصر اول تا چهارم لیست را برگردانید\n",
    "--------------------------------------------------\n",
    "\n",
    "- خروجی دو دستور زیر چیست؟\n",
    "\n",
    "musical_instrument[-3:]\n",
    "\n",
    "musical_instrument[-5:-2]\n",
    "\n",
    "--------------------------------------------------\n",
    "- Put 'Keyboard' instead of 'Cello' in the list\n",
    "\n",
    "--------------------------------------------------\n",
    "- ساز زیر را به مکان سوم لیست اضافه کنید\n",
    "\n",
    "'Flute'\n",
    "\n",
    "--------------------------------------------------\n",
    "\n",
    "- آخرین عنصر لیست را حذف کرده و در متغیری  با نام دلخواه قرار دهید\n",
    "--------------------------------------------------\n",
    "\n",
    "- لیست مورد بررسی را به صورت نزولی مرتب کنید \n"
   ]
  },
  {
   "cell_type": "code",
   "execution_count": null,
   "id": "09277e6a",
   "metadata": {},
   "outputs": [],
   "source": []
  }
 ],
 "metadata": {
  "kernelspec": {
   "display_name": "Python 3 (ipykernel)",
   "language": "python",
   "name": "python3"
  },
  "language_info": {
   "codemirror_mode": {
    "name": "ipython",
    "version": 3
   },
   "file_extension": ".py",
   "mimetype": "text/x-python",
   "name": "python",
   "nbconvert_exporter": "python",
   "pygments_lexer": "ipython3",
   "version": "3.9.13"
  }
 },
 "nbformat": 4,
 "nbformat_minor": 5
}
