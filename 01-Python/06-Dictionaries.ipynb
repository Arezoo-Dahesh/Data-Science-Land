{
 "cells": [
  {
   "cell_type": "markdown",
   "id": "4b00af99",
   "metadata": {},
   "source": [
    "### Dictionaries items:\n",
    "- Ordered\n",
    "- Changeable\n",
    "- Does not allow duplicates"
   ]
  },
  {
   "cell_type": "code",
   "execution_count": 1,
   "id": "fec7560c",
   "metadata": {},
   "outputs": [],
   "source": [
    "# dictionary = {key:value}"
   ]
  },
  {
   "cell_type": "code",
   "execution_count": 2,
   "id": "5d4ad282",
   "metadata": {},
   "outputs": [],
   "source": [
    "# 1\n",
    "student = {\"name\" : \"Aram\", \n",
    "           \"age\" : 25, \n",
    "           \"is_student\" : True, \n",
    "           \"city\" : \"Isfahan\", \n",
    "           \"grade\" : 18.75}"
   ]
  },
  {
   "cell_type": "code",
   "execution_count": 3,
   "id": "cc907718",
   "metadata": {},
   "outputs": [],
   "source": [
    "students = {1 : \"Aram\", \n",
    "            2 : \"Ehsan\",\n",
    "            3: \"Hoori\",\n",
    "            4: \"Zahra\"}"
   ]
  },
  {
   "cell_type": "code",
   "execution_count": 4,
   "id": "25ef95d0",
   "metadata": {},
   "outputs": [],
   "source": [
    "# 2\n",
    "book = dict(name = \"Python 3\", pages = 200, author_name = \"Yalda\", author_family = \"Oji\", ISSN = 25431889)"
   ]
  },
  {
   "cell_type": "code",
   "execution_count": 5,
   "id": "9c73a06a",
   "metadata": {},
   "outputs": [
    {
     "name": "stdout",
     "output_type": "stream",
     "text": [
      "{'name': 'Python 3', 'pages': 200, 'author_name': 'Yalda', 'author_family': 'Oji', 'ISSN': 25431889}\n"
     ]
    }
   ],
   "source": [
    "print(book)"
   ]
  },
  {
   "cell_type": "code",
   "execution_count": 6,
   "id": "2a0b5469",
   "metadata": {},
   "outputs": [],
   "source": [
    "# empty dictionary\n",
    "\n",
    "# dict_1 = {}\n",
    "# dict_2 = dict()"
   ]
  },
  {
   "cell_type": "markdown",
   "id": "738690c4",
   "metadata": {},
   "source": [
    "## `type()`"
   ]
  },
  {
   "cell_type": "code",
   "execution_count": 7,
   "id": "2b62de23",
   "metadata": {},
   "outputs": [
    {
     "name": "stdout",
     "output_type": "stream",
     "text": [
      "type(student) is <class 'dict'>\n",
      "type(students) is <class 'dict'>\n",
      "type(book) is <class 'dict'>\n"
     ]
    }
   ],
   "source": [
    "print(\"type(student) is\", type(student))\n",
    "print(\"type(students) is\", type(students))\n",
    "print(\"type(book) is\", type(book))"
   ]
  },
  {
   "cell_type": "markdown",
   "id": "4a208eab",
   "metadata": {},
   "source": [
    "## `Length`"
   ]
  },
  {
   "cell_type": "code",
   "execution_count": 8,
   "id": "30a730f8",
   "metadata": {},
   "outputs": [
    {
     "data": {
      "text/plain": [
       "5"
      ]
     },
     "execution_count": 8,
     "metadata": {},
     "output_type": "execute_result"
    }
   ],
   "source": [
    "len(student)"
   ]
  },
  {
   "cell_type": "markdown",
   "id": "ac8a9e3b",
   "metadata": {},
   "source": [
    "----------------------------------------"
   ]
  },
  {
   "cell_type": "code",
   "execution_count": null,
   "id": "09277e6a",
   "metadata": {},
   "outputs": [],
   "source": []
  }
 ],
 "metadata": {
  "kernelspec": {
   "display_name": "Python 3 (ipykernel)",
   "language": "python",
   "name": "python3"
  },
  "language_info": {
   "codemirror_mode": {
    "name": "ipython",
    "version": 3
   },
   "file_extension": ".py",
   "mimetype": "text/x-python",
   "name": "python",
   "nbconvert_exporter": "python",
   "pygments_lexer": "ipython3",
   "version": "3.9.13"
  }
 },
 "nbformat": 4,
 "nbformat_minor": 5
}
