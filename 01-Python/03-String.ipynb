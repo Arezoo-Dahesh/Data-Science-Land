{
 "cells": [
  {
   "cell_type": "markdown",
   "id": "1537d3d7",
   "metadata": {},
   "source": [
    "## Text Type "
   ]
  },
  {
   "cell_type": "code",
   "execution_count": 1,
   "id": "d4003150",
   "metadata": {},
   "outputs": [],
   "source": [
    "title_1 = 'Data'\n",
    "title_2 = \"Science\""
   ]
  },
  {
   "cell_type": "code",
   "execution_count": 2,
   "id": "c5a88b85",
   "metadata": {},
   "outputs": [
    {
     "name": "stdout",
     "output_type": "stream",
     "text": [
      "Data\n",
      "Science\n"
     ]
    }
   ],
   "source": [
    "print(title_1)\n",
    "print(title_2)"
   ]
  },
  {
   "cell_type": "code",
   "execution_count": 3,
   "id": "44453a9c",
   "metadata": {},
   "outputs": [],
   "source": [
    "sentence = \"\"\"لورم ایپسوم متن ساختگی با تولید سادگی نامفهوم از صنعت چاپ\n",
    "و با استفاده از طراحان گرافیک است. چاپگرها و متون بلکه روزنامه\n",
    "و مجله در ستون و سطرآنچنان که لازم است و برای شرایط فعلی\n",
    "تکنولوژی مورد نیاز و کاربردهای متنوع با هدف بهبود ابزارهای کاربردی می باشد.\"\"\""
   ]
  },
  {
   "cell_type": "code",
   "execution_count": 4,
   "id": "8a74fef1",
   "metadata": {},
   "outputs": [
    {
     "name": "stdout",
     "output_type": "stream",
     "text": [
      "لورم ایپسوم متن ساختگی با تولید سادگی نامفهوم از صنعت چاپ\n",
      "و با استفاده از طراحان گرافیک است. چاپگرها و متون بلکه روزنامه\n",
      "و مجله در ستون و سطرآنچنان که لازم است و برای شرایط فعلی\n",
      "تکنولوژی مورد نیاز و کاربردهای متنوع با هدف بهبود ابزارهای کاربردی می باشد.\n"
     ]
    }
   ],
   "source": [
    "print(sentence)"
   ]
  },
  {
   "cell_type": "markdown",
   "id": "5e714869",
   "metadata": {},
   "source": [
    "## `Length`"
   ]
  },
  {
   "cell_type": "code",
   "execution_count": 5,
   "id": "0bfcbe71",
   "metadata": {},
   "outputs": [
    {
     "name": "stdout",
     "output_type": "stream",
     "text": [
      "Data\n"
     ]
    }
   ],
   "source": [
    "print(title_1)"
   ]
  },
  {
   "cell_type": "code",
   "execution_count": 6,
   "id": "e63f6b3a",
   "metadata": {},
   "outputs": [
    {
     "name": "stdout",
     "output_type": "stream",
     "text": [
      "4\n"
     ]
    }
   ],
   "source": [
    "print(len(title_1))"
   ]
  },
  {
   "cell_type": "markdown",
   "id": "8f2ea141",
   "metadata": {},
   "source": [
    "## `Check String`"
   ]
  },
  {
   "cell_type": "code",
   "execution_count": 7,
   "id": "7ee6d121",
   "metadata": {},
   "outputs": [
    {
     "name": "stdout",
     "output_type": "stream",
     "text": [
      "True\n"
     ]
    }
   ],
   "source": [
    "text = \"Open Data Commons Open Database License\"\n",
    "print(\"Data\" in text)"
   ]
  },
  {
   "cell_type": "code",
   "execution_count": 8,
   "id": "1e20398e",
   "metadata": {},
   "outputs": [
    {
     "name": "stdout",
     "output_type": "stream",
     "text": [
      "False\n"
     ]
    }
   ],
   "source": [
    "print(\"String\" in text)"
   ]
  },
  {
   "cell_type": "markdown",
   "id": "ece77a36",
   "metadata": {},
   "source": [
    "## `Escape Character`"
   ]
  },
  {
   "cell_type": "code",
   "execution_count": 9,
   "id": "e114bb19",
   "metadata": {},
   "outputs": [
    {
     "ename": "SyntaxError",
     "evalue": "invalid syntax (3855940049.py, line 1)",
     "output_type": "error",
     "traceback": [
      "\u001b[1;36m  Input \u001b[1;32mIn [9]\u001b[1;36m\u001b[0m\n\u001b[1;33m    escape_char = \"Open \"Data\" Commons Open Database License\"\u001b[0m\n\u001b[1;37m                         ^\u001b[0m\n\u001b[1;31mSyntaxError\u001b[0m\u001b[1;31m:\u001b[0m invalid syntax\n"
     ]
    }
   ],
   "source": [
    "escape_char = \"Open \"Data\" Commons Open Database License\"\n",
    "print(escape_char)"
   ]
  },
  {
   "cell_type": "code",
   "execution_count": 10,
   "id": "1c4ea130",
   "metadata": {},
   "outputs": [
    {
     "name": "stdout",
     "output_type": "stream",
     "text": [
      "Open \"Data\" Commons Open Database License\n"
     ]
    }
   ],
   "source": [
    "# Double Quotes\n",
    "escape_char = 'Open \"Data\" Commons Open Database License'\n",
    "print(escape_char)"
   ]
  },
  {
   "cell_type": "code",
   "execution_count": 11,
   "id": "a95c54b8",
   "metadata": {
    "scrolled": true
   },
   "outputs": [
    {
     "name": "stdout",
     "output_type": "stream",
     "text": [
      "Open \"Data\" Commons Open Database License\n"
     ]
    }
   ],
   "source": [
    "escape_char = \"Open \\\"Data\\\" Commons Open Database License\"\n",
    "print(escape_char)"
   ]
  },
  {
   "cell_type": "code",
   "execution_count": 12,
   "id": "26ce40ea",
   "metadata": {},
   "outputs": [
    {
     "name": "stdout",
     "output_type": "stream",
     "text": [
      "Open 'Data' Commons Open Database License\n"
     ]
    }
   ],
   "source": [
    "# Single Quote\n",
    "escape_char = 'Open \\'Data\\' Commons Open Database License'\n",
    "print(escape_char)"
   ]
  },
  {
   "cell_type": "code",
   "execution_count": 13,
   "id": "84e23743",
   "metadata": {},
   "outputs": [
    {
     "name": "stdout",
     "output_type": "stream",
     "text": [
      "Open 'Data' Commons Open Database License\n"
     ]
    }
   ],
   "source": [
    "escape_char = \"Open 'Data' Commons Open Database License\"\n",
    "print(escape_char)"
   ]
  },
  {
   "cell_type": "code",
   "execution_count": 14,
   "id": "84a2804b",
   "metadata": {},
   "outputs": [
    {
     "name": "stdout",
     "output_type": "stream",
     "text": [
      "Open \\Data\\ Commons Open Database License\n"
     ]
    }
   ],
   "source": [
    "# Backslash\n",
    "escape_char = \"Open \\\\Data\\\\ Commons Open Database License\"\n",
    "print(escape_char)"
   ]
  },
  {
   "cell_type": "code",
   "execution_count": 15,
   "id": "39a94821",
   "metadata": {},
   "outputs": [
    {
     "name": "stdout",
     "output_type": "stream",
     "text": [
      "Open Data \n",
      " Commons Open Database License\n"
     ]
    }
   ],
   "source": [
    "# New Line\n",
    "escape_char = \"Open Data \\n Commons Open Database License\"\n",
    "print(escape_char)"
   ]
  },
  {
   "cell_type": "code",
   "execution_count": 16,
   "id": "79b612e8",
   "metadata": {},
   "outputs": [
    {
     "name": "stdout",
     "output_type": "stream",
     "text": [
      "Open Data \t Commons Open Database License\n"
     ]
    }
   ],
   "source": [
    "# Tab\n",
    "escape_char = \"Open Data \\t Commons Open Database License\"\n",
    "print(escape_char)"
   ]
  },
  {
   "cell_type": "code",
   "execution_count": 17,
   "id": "de3db017",
   "metadata": {},
   "outputs": [
    {
     "name": "stdout",
     "output_type": "stream",
     "text": [
      "Open Data \r",
      " Commons Open Database License\n"
     ]
    }
   ],
   "source": [
    "# Carriage Return\n",
    "escape_char = \"Open Data \\r Commons Open Database License\"\n",
    "print(escape_char)"
   ]
  },
  {
   "cell_type": "code",
   "execution_count": 18,
   "id": "c41ef5f7",
   "metadata": {},
   "outputs": [
    {
     "name": "stdout",
     "output_type": "stream",
     "text": [
      "Open Data\b Commons Open Database License\n"
     ]
    }
   ],
   "source": [
    "# Backspace\n",
    "escape_char = \"Open Data\\b Commons Open Database License\"\n",
    "print(escape_char)"
   ]
  },
  {
   "cell_type": "markdown",
   "id": "df6b9808",
   "metadata": {},
   "source": [
    "## `String Method`"
   ]
  },
  {
   "cell_type": "code",
   "execution_count": 19,
   "id": "a1b13fef",
   "metadata": {},
   "outputs": [],
   "source": [
    "txt_1 = \"python\""
   ]
  },
  {
   "cell_type": "code",
   "execution_count": 20,
   "id": "76a260a0",
   "metadata": {},
   "outputs": [
    {
     "name": "stdout",
     "output_type": "stream",
     "text": [
      "PYTHON\n"
     ]
    }
   ],
   "source": [
    "print(txt_1.upper())"
   ]
  },
  {
   "cell_type": "code",
   "execution_count": 21,
   "id": "11b5c791",
   "metadata": {},
   "outputs": [],
   "source": [
    "txt_2 = \"PYTHON\""
   ]
  },
  {
   "cell_type": "code",
   "execution_count": 22,
   "id": "5f2bc1c4",
   "metadata": {},
   "outputs": [
    {
     "name": "stdout",
     "output_type": "stream",
     "text": [
      "python\n"
     ]
    }
   ],
   "source": [
    "print(txt_2.lower())"
   ]
  },
  {
   "cell_type": "code",
   "execution_count": 23,
   "id": "ace21881",
   "metadata": {},
   "outputs": [],
   "source": [
    "txt_3 = \" Data \""
   ]
  },
  {
   "cell_type": "code",
   "execution_count": 24,
   "id": "3379070d",
   "metadata": {},
   "outputs": [
    {
     "data": {
      "text/plain": [
       "'Data'"
      ]
     },
     "execution_count": 24,
     "metadata": {},
     "output_type": "execute_result"
    }
   ],
   "source": [
    "txt_3.strip() # \"Data\""
   ]
  },
  {
   "cell_type": "code",
   "execution_count": 25,
   "id": "a27014b7",
   "metadata": {},
   "outputs": [
    {
     "name": "stdout",
     "output_type": "stream",
     "text": [
      "CYTHON\n"
     ]
    }
   ],
   "source": [
    "print(txt_2.replace(\"P\", \"C\"))"
   ]
  },
  {
   "cell_type": "code",
   "execution_count": 26,
   "id": "0dc7387a",
   "metadata": {},
   "outputs": [],
   "source": [
    "txt_4 = \"Data Science\""
   ]
  },
  {
   "cell_type": "code",
   "execution_count": 27,
   "id": "1d296ab2",
   "metadata": {
    "scrolled": true
   },
   "outputs": [
    {
     "name": "stdout",
     "output_type": "stream",
     "text": [
      "['Data', 'Science']\n"
     ]
    }
   ],
   "source": [
    "print(txt_4.split())"
   ]
  },
  {
   "cell_type": "code",
   "execution_count": 28,
   "id": "a3344eac",
   "metadata": {},
   "outputs": [],
   "source": [
    "txt_5 = \"Data-Science\""
   ]
  },
  {
   "cell_type": "code",
   "execution_count": 29,
   "id": "9a3b4f90",
   "metadata": {},
   "outputs": [
    {
     "name": "stdout",
     "output_type": "stream",
     "text": [
      "['Data', 'Science']\n"
     ]
    }
   ],
   "source": [
    "print(txt_5.split(\"-\"))"
   ]
  },
  {
   "cell_type": "markdown",
   "id": "f84c82b4",
   "metadata": {},
   "source": [
    "More method:\n",
    "https://www.w3schools.com/python/python_strings_methods.asp"
   ]
  },
  {
   "cell_type": "code",
   "execution_count": null,
   "id": "8d024c7b",
   "metadata": {},
   "outputs": [],
   "source": []
  }
 ],
 "metadata": {
  "kernelspec": {
   "display_name": "Python 3 (ipykernel)",
   "language": "python",
   "name": "python3"
  },
  "language_info": {
   "codemirror_mode": {
    "name": "ipython",
    "version": 3
   },
   "file_extension": ".py",
   "mimetype": "text/x-python",
   "name": "python",
   "nbconvert_exporter": "python",
   "pygments_lexer": "ipython3",
   "version": "3.9.13"
  }
 },
 "nbformat": 4,
 "nbformat_minor": 5
}
