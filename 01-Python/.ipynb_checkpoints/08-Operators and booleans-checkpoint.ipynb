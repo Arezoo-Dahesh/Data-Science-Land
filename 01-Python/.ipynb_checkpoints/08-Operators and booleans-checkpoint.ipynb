{
 "cells": [
  {
   "cell_type": "markdown",
   "id": "bee2db9b",
   "metadata": {},
   "source": [
    "## `Operators` in Python"
   ]
  },
  {
   "cell_type": "markdown",
   "id": "db82dcb0",
   "metadata": {},
   "source": [
    "* Arithmetic operators\n",
    "* Assignment operators\n",
    "* Comparison operators\n",
    "* Logical operators\n",
    "* Membership operators\n",
    "* and ..."
   ]
  },
  {
   "cell_type": "markdown",
   "id": "a3dc5a2f",
   "metadata": {},
   "source": [
    "### Arithmetic operators"
   ]
  },
  {
   "cell_type": "code",
   "execution_count": 1,
   "id": "592133d2",
   "metadata": {},
   "outputs": [],
   "source": [
    "num_1 = 10\n",
    "num_2 = 3"
   ]
  },
  {
   "cell_type": "code",
   "execution_count": 2,
   "id": "8ae0ddef",
   "metadata": {},
   "outputs": [
    {
     "name": "stdout",
     "output_type": "stream",
     "text": [
      "13\n"
     ]
    }
   ],
   "source": [
    "# جمع\n",
    "\n",
    "print(num_1 + num_2)"
   ]
  },
  {
   "cell_type": "code",
   "execution_count": 3,
   "id": "98916029",
   "metadata": {},
   "outputs": [
    {
     "name": "stdout",
     "output_type": "stream",
     "text": [
      "7\n"
     ]
    }
   ],
   "source": [
    "# تفریق\n",
    "\n",
    "print(num_1 - num_2)"
   ]
  },
  {
   "cell_type": "code",
   "execution_count": 4,
   "id": "5689d539",
   "metadata": {},
   "outputs": [
    {
     "name": "stdout",
     "output_type": "stream",
     "text": [
      "30\n"
     ]
    }
   ],
   "source": [
    "# ضرب\n",
    "\n",
    "print(num_1 * num_2)"
   ]
  },
  {
   "cell_type": "code",
   "execution_count": 5,
   "id": "dbf37ad6",
   "metadata": {},
   "outputs": [
    {
     "name": "stdout",
     "output_type": "stream",
     "text": [
      "3.3333333333333335\n"
     ]
    }
   ],
   "source": [
    "# تقسیم\n",
    "\n",
    "print(num_1 / num_2)"
   ]
  },
  {
   "cell_type": "code",
   "execution_count": 6,
   "id": "0b56ac19",
   "metadata": {},
   "outputs": [
    {
     "name": "stdout",
     "output_type": "stream",
     "text": [
      "4.0\n"
     ]
    }
   ],
   "source": [
    "print(8 / 2)"
   ]
  },
  {
   "cell_type": "code",
   "execution_count": 7,
   "id": "6f31f5e3",
   "metadata": {},
   "outputs": [
    {
     "name": "stdout",
     "output_type": "stream",
     "text": [
      "3\n"
     ]
    }
   ],
   "source": [
    "# به دست آورن قسمت صحیح حاصل تقسیم\n",
    "\n",
    "print(num_1 // num_2)"
   ]
  },
  {
   "cell_type": "code",
   "execution_count": 8,
   "id": "20f8051b",
   "metadata": {},
   "outputs": [
    {
     "name": "stdout",
     "output_type": "stream",
     "text": [
      "<class 'int'>\n"
     ]
    }
   ],
   "source": [
    "print(type(num_1 // num_2))"
   ]
  },
  {
   "cell_type": "code",
   "execution_count": 9,
   "id": "1ad123e9",
   "metadata": {},
   "outputs": [
    {
     "name": "stdout",
     "output_type": "stream",
     "text": [
      "1\n"
     ]
    }
   ],
   "source": [
    "# باقی مانده تقسیم\n",
    "\n",
    "print(num_1 % num_2)"
   ]
  },
  {
   "cell_type": "code",
   "execution_count": 10,
   "id": "d5375827",
   "metadata": {},
   "outputs": [
    {
     "name": "stdout",
     "output_type": "stream",
     "text": [
      "0\n"
     ]
    }
   ],
   "source": [
    "print(8 % 2)"
   ]
  },
  {
   "cell_type": "code",
   "execution_count": 11,
   "id": "41d78cae",
   "metadata": {},
   "outputs": [
    {
     "name": "stdout",
     "output_type": "stream",
     "text": [
      "1000\n"
     ]
    }
   ],
   "source": [
    "# توان\n",
    "\n",
    "print(num_1 ** num_2)"
   ]
  },
  {
   "cell_type": "markdown",
   "id": "7dd73867",
   "metadata": {},
   "source": [
    "### Assignment operators"
   ]
  },
  {
   "cell_type": "code",
   "execution_count": 12,
   "id": "9c25c200",
   "metadata": {},
   "outputs": [
    {
     "name": "stdout",
     "output_type": "stream",
     "text": [
      "6\n"
     ]
    }
   ],
   "source": [
    "# =\n",
    "\n",
    "num_3 = 6\n",
    "print(num_3)"
   ]
  },
  {
   "cell_type": "code",
   "execution_count": 13,
   "id": "70593eee",
   "metadata": {},
   "outputs": [
    {
     "name": "stdout",
     "output_type": "stream",
     "text": [
      "9\n"
     ]
    }
   ],
   "source": [
    "# +=\n",
    "\n",
    "num_3 += 3\n",
    "# num_3 = num_3 + 3\n",
    "\n",
    "print(num_3)"
   ]
  },
  {
   "cell_type": "code",
   "execution_count": 14,
   "id": "5adc4cf7",
   "metadata": {},
   "outputs": [
    {
     "name": "stdout",
     "output_type": "stream",
     "text": [
      "7\n"
     ]
    }
   ],
   "source": [
    "# -=\n",
    "\n",
    "num_3 -= 2\n",
    "# num_3 = num_3 - 2\n",
    "\n",
    "print(num_3)"
   ]
  },
  {
   "cell_type": "code",
   "execution_count": 15,
   "id": "07211a1b",
   "metadata": {},
   "outputs": [
    {
     "name": "stdout",
     "output_type": "stream",
     "text": [
      "14\n"
     ]
    }
   ],
   "source": [
    "# *=\n",
    "\n",
    "num_3 *= 2\n",
    "print(num_3)"
   ]
  },
  {
   "cell_type": "code",
   "execution_count": 16,
   "id": "86d5923d",
   "metadata": {},
   "outputs": [
    {
     "name": "stdout",
     "output_type": "stream",
     "text": [
      "2.0\n"
     ]
    }
   ],
   "source": [
    "# /=\n",
    "\n",
    "num_3 /= 7\n",
    "print(num_3)"
   ]
  },
  {
   "cell_type": "markdown",
   "id": "8b878f65",
   "metadata": {},
   "source": [
    "### Comparison operators and `Booleans`"
   ]
  },
  {
   "cell_type": "code",
   "execution_count": 17,
   "id": "83171e06",
   "metadata": {},
   "outputs": [
    {
     "name": "stdout",
     "output_type": "stream",
     "text": [
      "num_1 -> 10\n",
      "num_2 -> 3\n"
     ]
    }
   ],
   "source": [
    "print('num_1 ->', num_1)\n",
    "print('num_2 ->', num_2)"
   ]
  },
  {
   "cell_type": "code",
   "execution_count": 18,
   "id": "27b8359c",
   "metadata": {},
   "outputs": [
    {
     "name": "stdout",
     "output_type": "stream",
     "text": [
      "False\n"
     ]
    }
   ],
   "source": [
    "# مساوی\n",
    "\n",
    "print(num_1 == num_2)"
   ]
  },
  {
   "cell_type": "code",
   "execution_count": 19,
   "id": "86ea86ec",
   "metadata": {},
   "outputs": [
    {
     "name": "stdout",
     "output_type": "stream",
     "text": [
      "True\n"
     ]
    }
   ],
   "source": [
    "# نامساوی\n",
    "\n",
    "print(num_1 != num_2)"
   ]
  },
  {
   "cell_type": "code",
   "execution_count": 20,
   "id": "502748ae",
   "metadata": {},
   "outputs": [
    {
     "name": "stdout",
     "output_type": "stream",
     "text": [
      "True\n"
     ]
    }
   ],
   "source": [
    "# بزرگ تر از\n",
    "\n",
    "print(num_1 > num_2)"
   ]
  },
  {
   "cell_type": "code",
   "execution_count": 21,
   "id": "bd1357c8",
   "metadata": {},
   "outputs": [
    {
     "name": "stdout",
     "output_type": "stream",
     "text": [
      "False\n"
     ]
    }
   ],
   "source": [
    "# کوچک تر از\n",
    "\n",
    "print(num_1 < num_2)"
   ]
  },
  {
   "cell_type": "code",
   "execution_count": 22,
   "id": "6fec3288",
   "metadata": {},
   "outputs": [
    {
     "name": "stdout",
     "output_type": "stream",
     "text": [
      "True\n"
     ]
    }
   ],
   "source": [
    "# بزرگ تر مساوی\n",
    "\n",
    "print(num_1 >= num_2)"
   ]
  },
  {
   "cell_type": "code",
   "execution_count": 23,
   "id": "6b0f53aa",
   "metadata": {},
   "outputs": [
    {
     "name": "stdout",
     "output_type": "stream",
     "text": [
      "True\n"
     ]
    }
   ],
   "source": [
    "print(4 >= 4)"
   ]
  },
  {
   "cell_type": "code",
   "execution_count": 24,
   "id": "2bf95ae6",
   "metadata": {
    "scrolled": true
   },
   "outputs": [
    {
     "name": "stdout",
     "output_type": "stream",
     "text": [
      "False\n"
     ]
    }
   ],
   "source": [
    "# کوچک تر مساوی\n",
    "\n",
    "print(num_1 <= num_2)"
   ]
  },
  {
   "cell_type": "code",
   "execution_count": 25,
   "id": "7407ce79",
   "metadata": {},
   "outputs": [
    {
     "data": {
      "text/plain": [
       "bool"
      ]
     },
     "execution_count": 25,
     "metadata": {},
     "output_type": "execute_result"
    }
   ],
   "source": [
    "type(True)"
   ]
  },
  {
   "cell_type": "code",
   "execution_count": 26,
   "id": "498345fb",
   "metadata": {},
   "outputs": [
    {
     "name": "stdout",
     "output_type": "stream",
     "text": [
      "bool(\"Python\") -> True\n",
      "bool(\" \") -> True\n",
      "bool(10) -> True\n",
      "bool(-5) -> True\n"
     ]
    }
   ],
   "source": [
    "print('bool(\"Python\") ->', bool(\"Python\"))\n",
    "print('bool(\" \") ->', bool(\" \"))\n",
    "print('bool(10) ->', bool(10))\n",
    "print('bool(-5) ->', bool(-5))"
   ]
  },
  {
   "cell_type": "code",
   "execution_count": 27,
   "id": "8cbfd9d1",
   "metadata": {},
   "outputs": [
    {
     "name": "stdout",
     "output_type": "stream",
     "text": [
      "bool(\"\") -> False\n",
      "bool(0) -> False\n"
     ]
    }
   ],
   "source": [
    "print('bool(\"\") ->', bool(\"\"))\n",
    "print('bool(0) ->', bool(0))"
   ]
  },
  {
   "cell_type": "code",
   "execution_count": 28,
   "id": "41beea40",
   "metadata": {},
   "outputs": [
    {
     "name": "stdout",
     "output_type": "stream",
     "text": [
      "False\n"
     ]
    }
   ],
   "source": [
    "num_5 = 70\n",
    "print(isinstance(num_5, float)) "
   ]
  },
  {
   "cell_type": "code",
   "execution_count": 29,
   "id": "58cbfba2",
   "metadata": {},
   "outputs": [
    {
     "name": "stdout",
     "output_type": "stream",
     "text": [
      "True\n"
     ]
    }
   ],
   "source": [
    "num_5 = 70\n",
    "print(isinstance(num_5, int)) "
   ]
  },
  {
   "cell_type": "markdown",
   "id": "cf8c5c51",
   "metadata": {},
   "source": [
    "### Logical operators"
   ]
  },
  {
   "cell_type": "code",
   "execution_count": 30,
   "id": "4f1ef4c4",
   "metadata": {},
   "outputs": [],
   "source": [
    "num_4 = 8"
   ]
  },
  {
   "cell_type": "code",
   "execution_count": 31,
   "id": "4267cf4a",
   "metadata": {},
   "outputs": [
    {
     "name": "stdout",
     "output_type": "stream",
     "text": [
      "False\n"
     ]
    }
   ],
   "source": [
    "# and\n",
    "\n",
    "num_4 > 5  #--> True\n",
    "num_4 == 7 #--> False\n",
    "\n",
    "print(num_4 > 5 and num_4 == 7)"
   ]
  },
  {
   "cell_type": "code",
   "execution_count": 32,
   "id": "4c694491",
   "metadata": {},
   "outputs": [
    {
     "name": "stdout",
     "output_type": "stream",
     "text": [
      "True and True -> True\n",
      "True and False-> False\n",
      "False and True -> False\n",
      "False and False -> False\n"
     ]
    }
   ],
   "source": [
    "print('True and True ->', True and True)\n",
    "print('True and False->', True and False)\n",
    "print('False and True ->', False and True)\n",
    "print('False and False ->', False and False)"
   ]
  },
  {
   "cell_type": "code",
   "execution_count": 33,
   "id": "35f98eca",
   "metadata": {},
   "outputs": [
    {
     "name": "stdout",
     "output_type": "stream",
     "text": [
      "True\n"
     ]
    }
   ],
   "source": [
    "# or\n",
    "\n",
    "# num_4 > 5  --> True\n",
    "# num_4 == 7 --> False\n",
    "\n",
    "print(num_4 > 5 or num_4 == 7)"
   ]
  },
  {
   "cell_type": "code",
   "execution_count": 34,
   "id": "cdb46b4a",
   "metadata": {},
   "outputs": [
    {
     "name": "stdout",
     "output_type": "stream",
     "text": [
      "True or True -> True\n",
      "True or False-> True\n",
      "False or True -> True\n",
      "False or False -> False\n"
     ]
    }
   ],
   "source": [
    "print('True or True ->', True or True)\n",
    "print('True or False->', True or False)\n",
    "print('False or True ->', False or True)\n",
    "print('False or False ->', False or False)"
   ]
  },
  {
   "cell_type": "code",
   "execution_count": 35,
   "id": "6b4bd214",
   "metadata": {},
   "outputs": [
    {
     "name": "stdout",
     "output_type": "stream",
     "text": [
      "False\n",
      "True\n"
     ]
    }
   ],
   "source": [
    "# not\n",
    "\n",
    "print(num_4 > 5 and num_4 == 7)\n",
    "print(not(num_4 > 5 and num_4 == 7))"
   ]
  },
  {
   "cell_type": "code",
   "execution_count": 36,
   "id": "d527ea11",
   "metadata": {},
   "outputs": [
    {
     "name": "stdout",
     "output_type": "stream",
     "text": [
      "False\n"
     ]
    }
   ],
   "source": [
    "print(not(True))"
   ]
  },
  {
   "cell_type": "code",
   "execution_count": 37,
   "id": "c50dda18",
   "metadata": {},
   "outputs": [
    {
     "name": "stdout",
     "output_type": "stream",
     "text": [
      "True\n"
     ]
    }
   ],
   "source": [
    "print(not(False))"
   ]
  },
  {
   "cell_type": "markdown",
   "id": "dd998539",
   "metadata": {},
   "source": [
    "### Membership operators"
   ]
  },
  {
   "cell_type": "code",
   "execution_count": 38,
   "id": "f2a92730",
   "metadata": {},
   "outputs": [],
   "source": [
    "names = [\"Arezoo\", \"Zahra\", \"Ehasn\", \"Hoori\", \"Ali\", \"Reza\"]"
   ]
  },
  {
   "cell_type": "code",
   "execution_count": 39,
   "id": "624857f4",
   "metadata": {},
   "outputs": [
    {
     "name": "stdout",
     "output_type": "stream",
     "text": [
      "Ahmad in names -> False\n"
     ]
    }
   ],
   "source": [
    "# in\n",
    "\n",
    "print('Ahmad in names ->', 'Ahmad' in names)"
   ]
  },
  {
   "cell_type": "code",
   "execution_count": 40,
   "id": "98153c5e",
   "metadata": {},
   "outputs": [
    {
     "name": "stdout",
     "output_type": "stream",
     "text": [
      "Ahmad not in names -> True\n"
     ]
    }
   ],
   "source": [
    "# not in\n",
    "\n",
    "print('Ahmad not in names ->', 'Ahmad' not in names)"
   ]
  },
  {
   "cell_type": "markdown",
   "id": "70d6a920",
   "metadata": {},
   "source": [
    "برای مطالعه بیشتر\n",
    "\n",
    "https://www.w3schools.com/python/python_operators.asp"
   ]
  },
  {
   "cell_type": "markdown",
   "id": "cda16142",
   "metadata": {},
   "source": [
    "## `Simple practice`"
   ]
  },
  {
   "cell_type": "markdown",
   "id": "1264bedb",
   "metadata": {},
   "source": [
    "- what is Identity operator?\n",
    "\n",
    "------------------------------------------------------------------------\n",
    "\n",
    "- چه تفاوتی بین دو عملگر زیر وجود دارد؟\n",
    "\n",
    "1. is\n",
    "2. =="
   ]
  },
  {
   "cell_type": "code",
   "execution_count": null,
   "id": "39f37c30",
   "metadata": {},
   "outputs": [],
   "source": []
  }
 ],
 "metadata": {
  "kernelspec": {
   "display_name": "Python 3 (ipykernel)",
   "language": "python",
   "name": "python3"
  },
  "language_info": {
   "codemirror_mode": {
    "name": "ipython",
    "version": 3
   },
   "file_extension": ".py",
   "mimetype": "text/x-python",
   "name": "python",
   "nbconvert_exporter": "python",
   "pygments_lexer": "ipython3",
   "version": "3.9.13"
  }
 },
 "nbformat": 4,
 "nbformat_minor": 5
}
