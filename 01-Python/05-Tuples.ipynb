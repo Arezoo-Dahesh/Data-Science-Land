{
 "cells": [
  {
   "cell_type": "markdown",
   "id": "4b00af99",
   "metadata": {},
   "source": [
    "### Tuples items:\n",
    "- Ordered\n",
    "- Unchangeable\n",
    "- Allow duplicate values"
   ]
  },
  {
   "cell_type": "code",
   "execution_count": 1,
   "id": "5d4ad282",
   "metadata": {},
   "outputs": [],
   "source": [
    "# 1\n",
    "cities = (\"Isfahan\", \"Tehran\", \"Shiraz\", \"Rasht\", \"Semnan\", \"Ahvaz\")\n",
    "ages = (18, 30, 19, 25, 29, 30)\n",
    "is_student = (True, False, False, True)\n",
    "student_1 = (\"Aram\", 25, True, \"Booshehr\", 19.5)"
   ]
  },
  {
   "cell_type": "code",
   "execution_count": 2,
   "id": "25ef95d0",
   "metadata": {},
   "outputs": [
    {
     "name": "stdout",
     "output_type": "stream",
     "text": [
      "('line', 'bar', 'pie', 'histogram', 'scatter')\n"
     ]
    }
   ],
   "source": [
    "# 2\n",
    "chart_type = tuple((\"line\", \"bar\", \"pie\", \"histogram\", \"scatter\"))\n",
    "# chart_type = tuple([\"line\", \"bar\", \"pie\", \"histogram\", \"scatter\"])\n",
    "print(chart_type)"
   ]
  },
  {
   "cell_type": "code",
   "execution_count": 3,
   "id": "8f695790",
   "metadata": {},
   "outputs": [
    {
     "name": "stdout",
     "output_type": "stream",
     "text": [
      "Pink\n",
      "<class 'str'>\n"
     ]
    }
   ],
   "source": [
    "tuple_1 = (\"Pink\")\n",
    "print(tuple_1)\n",
    "print(type(tuple_1))"
   ]
  },
  {
   "cell_type": "code",
   "execution_count": 4,
   "id": "c9e7d996",
   "metadata": {},
   "outputs": [
    {
     "name": "stdout",
     "output_type": "stream",
     "text": [
      "('Pink',)\n",
      "<class 'tuple'>\n"
     ]
    }
   ],
   "source": [
    "tuple_2 = (\"Pink\",)\n",
    "print(tuple_2)\n",
    "print(type(tuple_2))"
   ]
  },
  {
   "cell_type": "code",
   "execution_count": 5,
   "id": "a61e7039",
   "metadata": {},
   "outputs": [],
   "source": [
    "# empty tuple\n",
    "\n",
    "# tuple_1 = ()\n",
    "# tuple_2 = tuple()"
   ]
  },
  {
   "cell_type": "markdown",
   "id": "4a208eab",
   "metadata": {},
   "source": [
    "## `Length`"
   ]
  },
  {
   "cell_type": "code",
   "execution_count": 6,
   "id": "30a730f8",
   "metadata": {},
   "outputs": [
    {
     "data": {
      "text/plain": [
       "6"
      ]
     },
     "execution_count": 6,
     "metadata": {},
     "output_type": "execute_result"
    }
   ],
   "source": [
    "len(cities)"
   ]
  },
  {
   "cell_type": "code",
   "execution_count": 7,
   "id": "4a6861fc",
   "metadata": {},
   "outputs": [
    {
     "data": {
      "text/plain": [
       "4"
      ]
     },
     "execution_count": 7,
     "metadata": {},
     "output_type": "execute_result"
    }
   ],
   "source": [
    "len(is_student)"
   ]
  },
  {
   "cell_type": "code",
   "execution_count": 8,
   "id": "c680c442",
   "metadata": {},
   "outputs": [
    {
     "data": {
      "text/plain": [
       "5"
      ]
     },
     "execution_count": 8,
     "metadata": {},
     "output_type": "execute_result"
    }
   ],
   "source": [
    "len(student_1)"
   ]
  },
  {
   "cell_type": "markdown",
   "id": "738690c4",
   "metadata": {},
   "source": [
    "## `type()`"
   ]
  },
  {
   "cell_type": "code",
   "execution_count": 9,
   "id": "2516fec8",
   "metadata": {},
   "outputs": [
    {
     "name": "stdout",
     "output_type": "stream",
     "text": [
      "type(cities) is <class 'tuple'>\n",
      "type(ages) is <class 'tuple'>\n",
      "type(is_student) is <class 'tuple'>\n",
      "type(student_1) is <class 'tuple'>\n",
      "type(chart_type) is <class 'tuple'>\n"
     ]
    }
   ],
   "source": [
    "print(\"type(cities) is\", type(cities))\n",
    "print(\"type(ages) is\", type(ages))\n",
    "print(\"type(is_student) is\", type(is_student))\n",
    "print(\"type(student_1) is\", type(student_1))\n",
    "print(\"type(chart_type) is\", type(chart_type))"
   ]
  },
  {
   "cell_type": "markdown",
   "id": "ac8a9e3b",
   "metadata": {},
   "source": [
    "----------------------------------------"
   ]
  },
  {
   "cell_type": "code",
   "execution_count": null,
   "id": "09277e6a",
   "metadata": {},
   "outputs": [],
   "source": []
  }
 ],
 "metadata": {
  "kernelspec": {
   "display_name": "Python 3 (ipykernel)",
   "language": "python",
   "name": "python3"
  },
  "language_info": {
   "codemirror_mode": {
    "name": "ipython",
    "version": 3
   },
   "file_extension": ".py",
   "mimetype": "text/x-python",
   "name": "python",
   "nbconvert_exporter": "python",
   "pygments_lexer": "ipython3",
   "version": "3.9.13"
  }
 },
 "nbformat": 4,
 "nbformat_minor": 5
}
