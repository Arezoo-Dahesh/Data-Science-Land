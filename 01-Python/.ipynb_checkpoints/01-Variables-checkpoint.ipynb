{
 "cells": [
  {
   "cell_type": "markdown",
   "id": "a0f04d4f",
   "metadata": {},
   "source": [
    "#  Variables"
   ]
  },
  {
   "cell_type": "code",
   "execution_count": 1,
   "id": "d6432862",
   "metadata": {},
   "outputs": [],
   "source": [
    "a = 2.5\n",
    "b = 20\n",
    "name = \"Arezoo\"  # or 'Arezoo'\n",
    "family = 'Dahesh' # or \"Dahesh\""
   ]
  },
  {
   "cell_type": "markdown",
   "id": "71ac418b",
   "metadata": {},
   "source": [
    "## `Comment`"
   ]
  },
  {
   "cell_type": "code",
   "execution_count": 2,
   "id": "d86565ad",
   "metadata": {},
   "outputs": [],
   "source": [
    "# این جمله، یک کامنت تک خطی است :)"
   ]
  },
  {
   "cell_type": "code",
   "execution_count": 3,
   "id": "6642e961",
   "metadata": {},
   "outputs": [],
   "source": [
    "# این کامنت\n",
    "# یک کامنت\n",
    "# چند خطی هست"
   ]
  },
  {
   "cell_type": "code",
   "execution_count": 4,
   "id": "89b15dc9",
   "metadata": {},
   "outputs": [
    {
     "data": {
      "text/plain": [
       "'این کامنت\\nیک کامنت\\nچند خطی هست'"
      ]
     },
     "execution_count": 4,
     "metadata": {},
     "output_type": "execute_result"
    }
   ],
   "source": [
    "\"\"\"این کامنت\n",
    "یک کامنت\n",
    "چند خطی هست\"\"\""
   ]
  },
  {
   "cell_type": "markdown",
   "id": "272644ce",
   "metadata": {},
   "source": [
    "## `Case sensitive`"
   ]
  },
  {
   "cell_type": "code",
   "execution_count": 5,
   "id": "8c8a841d",
   "metadata": {},
   "outputs": [],
   "source": [
    "grade = 18.75\n",
    "Grade = \"Very Good\""
   ]
  },
  {
   "cell_type": "code",
   "execution_count": 6,
   "id": "c193a388",
   "metadata": {},
   "outputs": [
    {
     "name": "stdout",
     "output_type": "stream",
     "text": [
      "18.75\n"
     ]
    }
   ],
   "source": [
    "print(grade)"
   ]
  },
  {
   "cell_type": "code",
   "execution_count": 7,
   "id": "2dee89d4",
   "metadata": {},
   "outputs": [
    {
     "name": "stdout",
     "output_type": "stream",
     "text": [
      "Very Good\n"
     ]
    }
   ],
   "source": [
    "print(Grade)"
   ]
  },
  {
   "cell_type": "markdown",
   "id": "e545f288",
   "metadata": {},
   "source": [
    "## `Print()`"
   ]
  },
  {
   "cell_type": "code",
   "execution_count": 8,
   "id": "c92c9ae6",
   "metadata": {},
   "outputs": [],
   "source": [
    "x = 10\n",
    "y = 15\n",
    "z = 2"
   ]
  },
  {
   "cell_type": "code",
   "execution_count": 9,
   "id": "9181ee48",
   "metadata": {},
   "outputs": [
    {
     "name": "stdout",
     "output_type": "stream",
     "text": [
      "10\n"
     ]
    }
   ],
   "source": [
    "print(x)"
   ]
  },
  {
   "cell_type": "code",
   "execution_count": 10,
   "id": "db722062",
   "metadata": {},
   "outputs": [
    {
     "name": "stdout",
     "output_type": "stream",
     "text": [
      "10 15 2\n"
     ]
    }
   ],
   "source": [
    "print(x, y, z)"
   ]
  },
  {
   "cell_type": "code",
   "execution_count": 11,
   "id": "12ebe500",
   "metadata": {},
   "outputs": [
    {
     "name": "stdout",
     "output_type": "stream",
     "text": [
      "27\n"
     ]
    }
   ],
   "source": [
    "print(x+y+z)"
   ]
  },
  {
   "cell_type": "code",
   "execution_count": 12,
   "id": "6c84c9ed",
   "metadata": {},
   "outputs": [],
   "source": [
    "tmp_1, tmp_2, tmp_3 = 10, 2.89, 'variable'"
   ]
  },
  {
   "cell_type": "code",
   "execution_count": 13,
   "id": "744da24e",
   "metadata": {},
   "outputs": [
    {
     "data": {
      "text/plain": [
       "'variable'"
      ]
     },
     "execution_count": 13,
     "metadata": {},
     "output_type": "execute_result"
    }
   ],
   "source": [
    "# اگر از پرینت استفاده نکنید فقط مقدار آخرین متغیر را چاپ می کند\n",
    "\n",
    "tmp_1\n",
    "tmp_2\n",
    "tmp_3"
   ]
  },
  {
   "cell_type": "code",
   "execution_count": 14,
   "id": "cf2c31a5",
   "metadata": {},
   "outputs": [
    {
     "name": "stdout",
     "output_type": "stream",
     "text": [
      "10\n",
      "2.89\n",
      "variable\n"
     ]
    }
   ],
   "source": [
    "print(tmp_1)\n",
    "print(tmp_2)\n",
    "print(tmp_3)"
   ]
  },
  {
   "cell_type": "code",
   "execution_count": 15,
   "id": "e32039a1",
   "metadata": {},
   "outputs": [],
   "source": [
    "A = B = C = \"Python 3\""
   ]
  },
  {
   "cell_type": "code",
   "execution_count": 16,
   "id": "551e0a60",
   "metadata": {},
   "outputs": [
    {
     "name": "stdout",
     "output_type": "stream",
     "text": [
      "Python 3\n",
      "Python 3\n",
      "Python 3\n"
     ]
    }
   ],
   "source": [
    "print(A)\n",
    "print(B)\n",
    "print(C)"
   ]
  },
  {
   "cell_type": "code",
   "execution_count": 17,
   "id": "52b0050a",
   "metadata": {},
   "outputs": [],
   "source": [
    "courseName = \"Python\"\n",
    "version = \"3.9.13\""
   ]
  },
  {
   "cell_type": "code",
   "execution_count": 18,
   "id": "8e50d534",
   "metadata": {},
   "outputs": [
    {
     "name": "stdout",
     "output_type": "stream",
     "text": [
      "Python3.9.13\n"
     ]
    }
   ],
   "source": [
    "print(courseName+version)"
   ]
  },
  {
   "cell_type": "code",
   "execution_count": 19,
   "id": "e51bbfcc",
   "metadata": {},
   "outputs": [
    {
     "name": "stdout",
     "output_type": "stream",
     "text": [
      "Python 3.9.13\n"
     ]
    }
   ],
   "source": [
    "print(courseName+\" \"+version)"
   ]
  },
  {
   "cell_type": "code",
   "execution_count": 20,
   "id": "a18ddcd1",
   "metadata": {},
   "outputs": [],
   "source": [
    "courseName = \"Python \"\n",
    "version = \"3.9.13\""
   ]
  },
  {
   "cell_type": "code",
   "execution_count": 21,
   "id": "81013352",
   "metadata": {},
   "outputs": [
    {
     "name": "stdout",
     "output_type": "stream",
     "text": [
      "Python 3.9.13\n"
     ]
    }
   ],
   "source": [
    "print(courseName+version)"
   ]
  },
  {
   "cell_type": "markdown",
   "id": "a0cba863",
   "metadata": {},
   "source": [
    "## `Variable name`"
   ]
  },
  {
   "cell_type": "code",
   "execution_count": 22,
   "id": "914bb9ee",
   "metadata": {},
   "outputs": [],
   "source": [
    "# 1. camelCase\n",
    "\n",
    "secondCourseName = \"Machine learning\""
   ]
  },
  {
   "cell_type": "code",
   "execution_count": 23,
   "id": "ed04bd29",
   "metadata": {},
   "outputs": [],
   "source": [
    "# 2. PascalCase\n",
    "\n",
    "SecondCourseName = \"Machine learning\""
   ]
  },
  {
   "cell_type": "code",
   "execution_count": 24,
   "id": "1c33fd45",
   "metadata": {},
   "outputs": [],
   "source": [
    "# 3. snake_case\n",
    "\n",
    "second_course_name = \"Machine learning\""
   ]
  },
  {
   "cell_type": "code",
   "execution_count": null,
   "id": "821ec70c",
   "metadata": {},
   "outputs": [],
   "source": []
  }
 ],
 "metadata": {
  "kernelspec": {
   "display_name": "Python 3 (ipykernel)",
   "language": "python",
   "name": "python3"
  },
  "language_info": {
   "codemirror_mode": {
    "name": "ipython",
    "version": 3
   },
   "file_extension": ".py",
   "mimetype": "text/x-python",
   "name": "python",
   "nbconvert_exporter": "python",
   "pygments_lexer": "ipython3",
   "version": "3.9.13"
  }
 },
 "nbformat": 4,
 "nbformat_minor": 5
}
