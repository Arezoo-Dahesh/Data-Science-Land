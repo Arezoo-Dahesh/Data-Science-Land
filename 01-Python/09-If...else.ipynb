{
 "cells": [
  {
   "cell_type": "markdown",
   "id": "5cdea3e3",
   "metadata": {},
   "source": [
    "## `Conditions and If statements`"
   ]
  },
  {
   "cell_type": "markdown",
   "id": "1caef52f",
   "metadata": {},
   "source": [
    "### if"
   ]
  },
  {
   "cell_type": "code",
   "execution_count": 1,
   "id": "9679e875",
   "metadata": {},
   "outputs": [],
   "source": [
    "# Indentation"
   ]
  },
  {
   "cell_type": "code",
   "execution_count": 2,
   "id": "738ab863",
   "metadata": {},
   "outputs": [],
   "source": [
    "# if condition:\n",
    "#     statement_1\n",
    "#     statement_2\n",
    "#     statement_3\n",
    "#     ..."
   ]
  },
  {
   "cell_type": "code",
   "execution_count": 3,
   "id": "e5f656aa",
   "metadata": {},
   "outputs": [],
   "source": [
    "num = 0\n",
    "if num > 0:\n",
    "    print(\"num is 'Positive number'\")"
   ]
  },
  {
   "cell_type": "code",
   "execution_count": 4,
   "id": "78d10fef",
   "metadata": {},
   "outputs": [
    {
     "ename": "IndentationError",
     "evalue": "expected an indented block (3459491243.py, line 4)",
     "output_type": "error",
     "traceback": [
      "\u001b[1;36m  File \u001b[1;32m\"C:\\Users\\Arezoo_D\\AppData\\Local\\Temp\\ipykernel_13664\\3459491243.py\"\u001b[1;36m, line \u001b[1;32m4\u001b[0m\n\u001b[1;33m    print(\"Positive number\")\u001b[0m\n\u001b[1;37m    ^\u001b[0m\n\u001b[1;31mIndentationError\u001b[0m\u001b[1;31m:\u001b[0m expected an indented block\n"
     ]
    }
   ],
   "source": [
    "# Wrong\n",
    "\n",
    "if a > 0:\n",
    "print(\"Positive number\")"
   ]
  },
  {
   "cell_type": "markdown",
   "id": "d2d81e1a",
   "metadata": {},
   "source": [
    "### elif"
   ]
  },
  {
   "cell_type": "code",
   "execution_count": 5,
   "id": "6c66ef43",
   "metadata": {},
   "outputs": [],
   "source": [
    "# if condition_1:\n",
    "#     statement_1\n",
    "#     statement_2\n",
    "#     ...\n",
    "# elif condition_2:\n",
    "#     statement_3\n",
    "#     ..."
   ]
  },
  {
   "cell_type": "code",
   "execution_count": 6,
   "id": "2717bd37",
   "metadata": {},
   "outputs": [
    {
     "name": "stdout",
     "output_type": "stream",
     "text": [
      "num is equal to zero\n"
     ]
    }
   ],
   "source": [
    "# Shift+tab\n",
    "\n",
    "if num > 0:\n",
    "    print(\"num is 'Positive number'\")\n",
    "elif num == 0:\n",
    "    print(\"num is equal to zero\")"
   ]
  },
  {
   "cell_type": "markdown",
   "id": "ac63d7d0",
   "metadata": {},
   "source": [
    "### else"
   ]
  },
  {
   "cell_type": "code",
   "execution_count": 7,
   "id": "f0af49aa",
   "metadata": {},
   "outputs": [],
   "source": [
    "# if condition_1:\n",
    "#     statement_1\n",
    "#     statement_2\n",
    "#     ...\n",
    "# elif condition_2:\n",
    "#     statement_3\n",
    "#     ...\n",
    "# else:\n",
    "#     statement_4\n",
    "#     ..."
   ]
  },
  {
   "cell_type": "code",
   "execution_count": 8,
   "id": "6c4b0d78",
   "metadata": {},
   "outputs": [
    {
     "name": "stdout",
     "output_type": "stream",
     "text": [
      "num is 'Negative number'\n"
     ]
    }
   ],
   "source": [
    "num = -5\n",
    "\n",
    "if num > 0:\n",
    "    print(\"num is 'Positive number'\")\n",
    "elif num == 0:\n",
    "    print(\"num is equal to zero\")\n",
    "else:\n",
    "    print(\"num is 'Negative number'\")"
   ]
  },
  {
   "cell_type": "code",
   "execution_count": 9,
   "id": "7a146436",
   "metadata": {},
   "outputs": [
    {
     "name": "stdout",
     "output_type": "stream",
     "text": [
      "num is not 'Positive number'\n"
     ]
    }
   ],
   "source": [
    "num = -6\n",
    "\n",
    "if num > 0:\n",
    "    print(\"num is 'Positive number'\")\n",
    "else:\n",
    "    print(\"num is not 'Positive number'\")"
   ]
  },
  {
   "cell_type": "code",
   "execution_count": 10,
   "id": "ede7b113",
   "metadata": {},
   "outputs": [],
   "source": [
    "# num = 0\n",
    "\n",
    "# if num > 0:\n",
    "#     print(\"num is 'Positive number'\")\n",
    "# else:\n",
    "#     print(\"num is 'Negative number'\")"
   ]
  },
  {
   "cell_type": "code",
   "execution_count": null,
   "id": "39f37c30",
   "metadata": {},
   "outputs": [],
   "source": []
  }
 ],
 "metadata": {
  "kernelspec": {
   "display_name": "Python 3 (ipykernel)",
   "language": "python",
   "name": "python3"
  },
  "language_info": {
   "codemirror_mode": {
    "name": "ipython",
    "version": 3
   },
   "file_extension": ".py",
   "mimetype": "text/x-python",
   "name": "python",
   "nbconvert_exporter": "python",
   "pygments_lexer": "ipython3",
   "version": "3.9.13"
  }
 },
 "nbformat": 4,
 "nbformat_minor": 5
}
