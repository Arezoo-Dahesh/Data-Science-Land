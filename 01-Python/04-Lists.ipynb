{
 "cells": [
  {
   "cell_type": "markdown",
   "id": "4b00af99",
   "metadata": {},
   "source": [
    "### List items:\n",
    "- Ordered\n",
    "- Changeable\n",
    "- Allow duplicate values"
   ]
  },
  {
   "cell_type": "code",
   "execution_count": 1,
   "id": "5d4ad282",
   "metadata": {},
   "outputs": [],
   "source": [
    "# 1\n",
    "names = [\"Arezoo\", \"Zahra\", \"Ehasn\", \"Hoori\", \"Ali\", \"Reza\"]\n",
    "grades = [18, 16, 19, 18.5, 16, 18]\n",
    "is_student = [True, False, False, True]\n",
    "student_1 = [\"Aram\", 25, True, \"Isfahan\", 18.75]"
   ]
  },
  {
   "cell_type": "code",
   "execution_count": 2,
   "id": "25ef95d0",
   "metadata": {},
   "outputs": [
    {
     "name": "stdout",
     "output_type": "stream",
     "text": [
      "['Python', 'Big data', 'Machine learning', 'R', 'Java']\n"
     ]
    }
   ],
   "source": [
    "# 2\n",
    "courses = list((\"Python\", \"Big data\", \"Machine learning\", \"R\", \"Java\"))\n",
    "print(courses)"
   ]
  },
  {
   "cell_type": "code",
   "execution_count": 3,
   "id": "1c1eed4c",
   "metadata": {},
   "outputs": [],
   "source": [
    "# empty list\n",
    "\n",
    "# list_1 = []\n",
    "# # print(list_1)\n",
    "# list_2 = list()"
   ]
  },
  {
   "cell_type": "markdown",
   "id": "4a208eab",
   "metadata": {},
   "source": [
    "## `Length`"
   ]
  },
  {
   "cell_type": "code",
   "execution_count": 4,
   "id": "30a730f8",
   "metadata": {},
   "outputs": [
    {
     "data": {
      "text/plain": [
       "6"
      ]
     },
     "execution_count": 4,
     "metadata": {},
     "output_type": "execute_result"
    }
   ],
   "source": [
    "len(names)"
   ]
  },
  {
   "cell_type": "code",
   "execution_count": 5,
   "id": "4a6861fc",
   "metadata": {},
   "outputs": [
    {
     "data": {
      "text/plain": [
       "4"
      ]
     },
     "execution_count": 5,
     "metadata": {},
     "output_type": "execute_result"
    }
   ],
   "source": [
    "len(is_student)"
   ]
  },
  {
   "cell_type": "code",
   "execution_count": 6,
   "id": "c680c442",
   "metadata": {},
   "outputs": [
    {
     "data": {
      "text/plain": [
       "5"
      ]
     },
     "execution_count": 6,
     "metadata": {},
     "output_type": "execute_result"
    }
   ],
   "source": [
    "len(student_1)"
   ]
  },
  {
   "cell_type": "markdown",
   "id": "738690c4",
   "metadata": {},
   "source": [
    "## `type()`"
   ]
  },
  {
   "cell_type": "code",
   "execution_count": 7,
   "id": "2516fec8",
   "metadata": {},
   "outputs": [
    {
     "name": "stdout",
     "output_type": "stream",
     "text": [
      "type(names) is <class 'list'>\n",
      "type(grades) is <class 'list'>\n",
      "type(is_student) is <class 'list'>\n",
      "type(student_1) is <class 'list'>\n",
      "type(courses) is <class 'list'>\n"
     ]
    }
   ],
   "source": [
    "print(\"type(names) is\", type(names))\n",
    "print(\"type(grades) is\", type(grades))\n",
    "print(\"type(is_student) is\", type(is_student))\n",
    "print(\"type(student_1) is\", type(student_1))\n",
    "print(\"type(courses) is\", type(courses))"
   ]
  },
  {
   "cell_type": "markdown",
   "id": "ac8a9e3b",
   "metadata": {},
   "source": [
    "----------------------------------------"
   ]
  },
  {
   "cell_type": "markdown",
   "id": "5669b767",
   "metadata": {},
   "source": [
    "## 1. List items are `ordered`"
   ]
  },
  {
   "cell_type": "code",
   "execution_count": 8,
   "id": "9fef2ab2",
   "metadata": {},
   "outputs": [
    {
     "name": "stdout",
     "output_type": "stream",
     "text": [
      "['Arezoo', 'Zahra', 'Ehasn', 'Hoori', 'Ali', 'Reza']\n"
     ]
    }
   ],
   "source": [
    "print(names)"
   ]
  },
  {
   "cell_type": "code",
   "execution_count": 9,
   "id": "ef0a84d3",
   "metadata": {},
   "outputs": [],
   "source": [
    "# Indexes\n",
    "\n",
    "# اندیس ها هنگام پیمایش لیست از ابتدای لسیت\n",
    "# 0    1   2   3   4   5\n",
    "\n",
    "# اندیس ها هنگام پیمایش لیست از انتهای لسیت\n",
    "# -6  -5  -4  -3  -2  -1"
   ]
  },
  {
   "cell_type": "code",
   "execution_count": 10,
   "id": "9d738bc2",
   "metadata": {},
   "outputs": [
    {
     "data": {
      "text/plain": [
       "'Arezoo'"
      ]
     },
     "execution_count": 10,
     "metadata": {},
     "output_type": "execute_result"
    }
   ],
   "source": [
    "names[0]"
   ]
  },
  {
   "cell_type": "code",
   "execution_count": 11,
   "id": "e481d2a9",
   "metadata": {},
   "outputs": [
    {
     "data": {
      "text/plain": [
       "'Zahra'"
      ]
     },
     "execution_count": 11,
     "metadata": {},
     "output_type": "execute_result"
    }
   ],
   "source": [
    "names[1]"
   ]
  },
  {
   "cell_type": "code",
   "execution_count": 12,
   "id": "ec4f07eb",
   "metadata": {},
   "outputs": [
    {
     "data": {
      "text/plain": [
       "'Reza'"
      ]
     },
     "execution_count": 12,
     "metadata": {},
     "output_type": "execute_result"
    }
   ],
   "source": [
    "names[-1]"
   ]
  },
  {
   "cell_type": "code",
   "execution_count": 13,
   "id": "312e61ff",
   "metadata": {},
   "outputs": [
    {
     "data": {
      "text/plain": [
       "['Zahra', 'Ehasn', 'Hoori']"
      ]
     },
     "execution_count": 13,
     "metadata": {},
     "output_type": "execute_result"
    }
   ],
   "source": [
    "names[1:4]\n"
   ]
  },
  {
   "cell_type": "code",
   "execution_count": 14,
   "id": "e27e3ba8",
   "metadata": {},
   "outputs": [
    {
     "data": {
      "text/plain": [
       "['Hoori', 'Ali', 'Reza']"
      ]
     },
     "execution_count": 14,
     "metadata": {},
     "output_type": "execute_result"
    }
   ],
   "source": [
    "names[3:]"
   ]
  },
  {
   "cell_type": "code",
   "execution_count": 15,
   "id": "5c73f921",
   "metadata": {},
   "outputs": [
    {
     "data": {
      "text/plain": [
       "['Arezoo', 'Zahra', 'Ehasn']"
      ]
     },
     "execution_count": 15,
     "metadata": {},
     "output_type": "execute_result"
    }
   ],
   "source": [
    "names[:3]"
   ]
  },
  {
   "cell_type": "code",
   "execution_count": 16,
   "id": "7da5e2d1",
   "metadata": {},
   "outputs": [
    {
     "data": {
      "text/plain": [
       "['Zahra', 'Ehasn', 'Hoori', 'Ali']"
      ]
     },
     "execution_count": 16,
     "metadata": {},
     "output_type": "execute_result"
    }
   ],
   "source": [
    "names[-5:-1]"
   ]
  },
  {
   "cell_type": "code",
   "execution_count": 17,
   "id": "f5249e89",
   "metadata": {},
   "outputs": [
    {
     "data": {
      "text/plain": [
       "['Zahra', 'Ehasn', 'Hoori', 'Ali', 'Reza']"
      ]
     },
     "execution_count": 17,
     "metadata": {},
     "output_type": "execute_result"
    }
   ],
   "source": [
    "names[-5:]"
   ]
  },
  {
   "cell_type": "code",
   "execution_count": 18,
   "id": "1ed154b1",
   "metadata": {},
   "outputs": [
    {
     "data": {
      "text/plain": [
       "['Arezoo', 'Zahra', 'Ehasn', 'Hoori']"
      ]
     },
     "execution_count": 18,
     "metadata": {},
     "output_type": "execute_result"
    }
   ],
   "source": [
    "names[:-2]"
   ]
  },
  {
   "cell_type": "code",
   "execution_count": 19,
   "id": "dbcd84e5",
   "metadata": {},
   "outputs": [
    {
     "data": {
      "text/plain": [
       "['Arezoo', 'Zahra', 'Ehasn', 'Hoori']"
      ]
     },
     "execution_count": 19,
     "metadata": {},
     "output_type": "execute_result"
    }
   ],
   "source": [
    "names[0:4]\n",
    "\n",
    "# names[0:4:1]\n",
    "# names[start:end:step]"
   ]
  },
  {
   "cell_type": "code",
   "execution_count": 20,
   "id": "8afa747f",
   "metadata": {},
   "outputs": [
    {
     "data": {
      "text/plain": [
       "['Arezoo', 'Ehasn']"
      ]
     },
     "execution_count": 20,
     "metadata": {},
     "output_type": "execute_result"
    }
   ],
   "source": [
    "names[0:4:2]"
   ]
  },
  {
   "cell_type": "code",
   "execution_count": 21,
   "id": "def26fbb",
   "metadata": {},
   "outputs": [
    {
     "data": {
      "text/plain": [
       "['Arezoo', 'Zahra', 'Ehasn', 'Hoori', 'Ali', 'Reza']"
      ]
     },
     "execution_count": 21,
     "metadata": {},
     "output_type": "execute_result"
    }
   ],
   "source": [
    "names[:]"
   ]
  },
  {
   "cell_type": "code",
   "execution_count": 22,
   "id": "9fe5713a",
   "metadata": {},
   "outputs": [
    {
     "data": {
      "text/plain": [
       "['Arezoo', 'Ehasn', 'Ali']"
      ]
     },
     "execution_count": 22,
     "metadata": {},
     "output_type": "execute_result"
    }
   ],
   "source": [
    "names[::2]\n",
    "\n",
    "# names[0:6:2]"
   ]
  },
  {
   "cell_type": "code",
   "execution_count": 23,
   "id": "27a003de",
   "metadata": {},
   "outputs": [
    {
     "data": {
      "text/plain": [
       "['Reza', 'Ali', 'Hoori', 'Ehasn', 'Zahra', 'Arezoo']"
      ]
     },
     "execution_count": 23,
     "metadata": {},
     "output_type": "execute_result"
    }
   ],
   "source": [
    "names[::-1]"
   ]
  },
  {
   "cell_type": "code",
   "execution_count": null,
   "id": "20a95a2f",
   "metadata": {},
   "outputs": [],
   "source": []
  }
 ],
 "metadata": {
  "kernelspec": {
   "display_name": "Python 3 (ipykernel)",
   "language": "python",
   "name": "python3"
  },
  "language_info": {
   "codemirror_mode": {
    "name": "ipython",
    "version": 3
   },
   "file_extension": ".py",
   "mimetype": "text/x-python",
   "name": "python",
   "nbconvert_exporter": "python",
   "pygments_lexer": "ipython3",
   "version": "3.9.13"
  }
 },
 "nbformat": 4,
 "nbformat_minor": 5
}
