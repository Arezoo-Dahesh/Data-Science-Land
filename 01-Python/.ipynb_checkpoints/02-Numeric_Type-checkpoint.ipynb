{
 "cells": [
  {
   "cell_type": "markdown",
   "id": "98298fd5",
   "metadata": {},
   "source": [
    "## `Data types`"
   ]
  },
  {
   "cell_type": "markdown",
   "id": "7873ce7f",
   "metadata": {},
   "source": [
    "<table style=\"border:1px solid black; border-collapse: collapse; font-size:12pt; font-family:Cambria, Georgia, serif;\">\n",
    "  <!--<tr>\n",
    "    <th>Firstname</th>\n",
    "    <th>Lastname</th>\n",
    "    <th>Age</th>\n",
    "  </tr>-->\n",
    "  <tr>\n",
    "    <td style=\"text-align: left\">Text Type</td>\n",
    "    <td style=\"text-align: left\"><strong>str</strong></td>\n",
    "  </tr>\n",
    "  <tr>\n",
    "    <td style=\"text-align: left\">Numeric Types</td>\n",
    "    <td style=\"text-align: left\"><strong>int</strong>, <strong>float</strong>, <strong>complex</strong></td>\n",
    "  </tr>\n",
    "  <tr>\n",
    "    <td style=\"text-align: left\">Sequence Types</td>\n",
    "    <td style=\"text-align: left\"><strong>list</strong>, <strong>tuple</strong>, <strong>range</strong></td>\n",
    "  </tr>\n",
    "  <tr>\n",
    "    <td style=\"text-align: left\">Mapping Type</td>\n",
    "    <td style=\"text-align: left\"><strong>dict</strong></td>\n",
    "  </tr>\n",
    "  <tr>\n",
    "    <td style=\"text-align: left\">Set Types</td>\n",
    "    <td style=\"text-align: left\"><strong>set</strong>, <strong>frozenset</strong></td>\n",
    "  </tr>\n",
    "  <tr>\n",
    "    <td style=\"text-align: left\">Boolean Type</td>\n",
    "    <td style=\"text-align: left\"><strong>bool</strong></td>\n",
    "  </tr>\n",
    "  <tr>\n",
    "    <td style=\"text-align: left\">Binary Types</td>\n",
    "    <td style=\"text-align: left\"><strong>bytes</strong>, <strong>bytearray</strong>, <strong>memoryview</strong></td>\n",
    "  </tr>\n",
    "  <tr>\n",
    "    <td style=\"text-align: left\">None Type</td>\n",
    "    <td style=\"text-align: left\"><strong>NoneType</strong></td>\n",
    "  </tr>\n",
    "</table>"
   ]
  },
  {
   "cell_type": "markdown",
   "id": "4c6232a4",
   "metadata": {},
   "source": [
    "## Numeric Types"
   ]
  },
  {
   "cell_type": "markdown",
   "id": "7b465700",
   "metadata": {},
   "source": [
    "## `Int`"
   ]
  },
  {
   "cell_type": "code",
   "execution_count": 1,
   "id": "3608c77e",
   "metadata": {},
   "outputs": [],
   "source": [
    "a = 1\n",
    "b = 258\n",
    "c = -53\n",
    "d = 587436912"
   ]
  },
  {
   "cell_type": "code",
   "execution_count": 2,
   "id": "163fecde",
   "metadata": {},
   "outputs": [
    {
     "name": "stdout",
     "output_type": "stream",
     "text": [
      "type(a) is -> <class 'int'>\n",
      "type(b) is -> <class 'int'>\n",
      "type(c) is -> <class 'int'>\n",
      "type(d) is -> <class 'int'>\n"
     ]
    }
   ],
   "source": [
    "print('type(a) is ->', type(a))\n",
    "print('type(b) is ->', type(b))\n",
    "print('type(c) is ->', type(c))\n",
    "print('type(d) is ->', type(d))"
   ]
  },
  {
   "cell_type": "markdown",
   "id": "ecec7671",
   "metadata": {},
   "source": [
    "## `Float`"
   ]
  },
  {
   "cell_type": "code",
   "execution_count": 8,
   "id": "80be1edc",
   "metadata": {},
   "outputs": [],
   "source": [
    "e = 300.26\n",
    "f = 12.0\n",
    "g = -53.4536\n",
    "\n",
    "h = 21e3\n",
    "i = 5E2\n",
    "j = 324.6e10"
   ]
  },
  {
   "cell_type": "code",
   "execution_count": 9,
   "id": "3bed65cb",
   "metadata": {},
   "outputs": [
    {
     "name": "stdout",
     "output_type": "stream",
     "text": [
      "e is -> 300.26\n",
      "f is -> 12.0\n",
      "g is -> -53.4536\n",
      "\n",
      "\n",
      "h is -> 21000.0\n",
      "i is -> 500.0\n",
      "j is -> 3246000000000.0\n"
     ]
    }
   ],
   "source": [
    "print('e is ->', e)\n",
    "print('f is ->', f)\n",
    "print('g is ->', g)\n",
    "print(\"\\n\")\n",
    "print('h is ->', h)\n",
    "print('i is ->', i)\n",
    "print('j is ->', j)"
   ]
  },
  {
   "cell_type": "code",
   "execution_count": 10,
   "id": "99c1c5a5",
   "metadata": {},
   "outputs": [
    {
     "name": "stdout",
     "output_type": "stream",
     "text": [
      "type(e) is -> <class 'float'>\n",
      "type(f) is -> <class 'float'>\n",
      "type(g) is -> <class 'float'>\n",
      "type(h) is -> <class 'float'>\n",
      "type(i) is -> <class 'float'>\n",
      "type(j) is -> <class 'float'>\n"
     ]
    }
   ],
   "source": [
    "print('type(e) is ->', type(e))\n",
    "print('type(f) is ->', type(f))\n",
    "print('type(g) is ->', type(g))\n",
    "print('type(h) is ->', type(h))\n",
    "print('type(i) is ->', type(i))\n",
    "print('type(j) is ->', type(j))"
   ]
  },
  {
   "cell_type": "markdown",
   "id": "feab23e0",
   "metadata": {},
   "source": [
    "## `Complex`"
   ]
  },
  {
   "cell_type": "code",
   "execution_count": 11,
   "id": "6f1d36e0",
   "metadata": {},
   "outputs": [],
   "source": [
    "k = 78+3j\n",
    "l = 9j\n",
    "m = -4j"
   ]
  },
  {
   "cell_type": "code",
   "execution_count": 12,
   "id": "7e66bf84",
   "metadata": {},
   "outputs": [
    {
     "name": "stdout",
     "output_type": "stream",
     "text": [
      "k is -> (78+3j)\n",
      "l is -> 9j\n",
      "m is -> (-0-4j)\n"
     ]
    }
   ],
   "source": [
    "print('k is ->', k)\n",
    "print('l is ->', l)\n",
    "print('m is ->', m)"
   ]
  },
  {
   "cell_type": "code",
   "execution_count": 13,
   "id": "f2c7fb7d",
   "metadata": {},
   "outputs": [
    {
     "name": "stdout",
     "output_type": "stream",
     "text": [
      "type(k) is -> <class 'complex'>\n",
      "type(l) is -> <class 'complex'>\n",
      "type(m) is -> <class 'complex'>\n"
     ]
    }
   ],
   "source": [
    "print('type(k) is ->', type(k))\n",
    "print('type(l) is ->', type(l))\n",
    "print('type(m) is ->', type(m))"
   ]
  },
  {
   "cell_type": "code",
   "execution_count": 14,
   "id": "bb36a849",
   "metadata": {},
   "outputs": [],
   "source": [
    "num_1 = 97\n",
    "num_2 = 24.21\n",
    "num_3 = 4+5j"
   ]
  },
  {
   "cell_type": "code",
   "execution_count": 15,
   "id": "bf1f1255",
   "metadata": {},
   "outputs": [
    {
     "name": "stdout",
     "output_type": "stream",
     "text": [
      "num_1 is -> 97\n",
      "num_2 is -> 24.21\n",
      "num_3 is -> (4+5j)\n"
     ]
    }
   ],
   "source": [
    "print('num_1 is ->', num_1)\n",
    "print('num_2 is ->', num_2)\n",
    "print('num_3 is ->', num_3)"
   ]
  },
  {
   "cell_type": "code",
   "execution_count": 17,
   "id": "b1e955a4",
   "metadata": {},
   "outputs": [
    {
     "name": "stdout",
     "output_type": "stream",
     "text": [
      "x is -> 24\n",
      "type(x) is -> <class 'int'>\n"
     ]
    }
   ],
   "source": [
    "x = int(num_2)\n",
    "print('x is ->', x)\n",
    "print('type(x) is ->', type(x))"
   ]
  },
  {
   "cell_type": "code",
   "execution_count": 19,
   "id": "4d94e518",
   "metadata": {},
   "outputs": [
    {
     "name": "stdout",
     "output_type": "stream",
     "text": [
      "y is -> 97.0\n",
      "type(y) is -> <class 'float'>\n"
     ]
    }
   ],
   "source": [
    "y = float(num_1)\n",
    "print('y is ->', y)\n",
    "print('type(y) is ->', type(y))"
   ]
  },
  {
   "cell_type": "code",
   "execution_count": 20,
   "id": "9b94e93c",
   "metadata": {},
   "outputs": [
    {
     "name": "stdout",
     "output_type": "stream",
     "text": [
      "z is -> (97+0j)\n",
      "type(z) is -> <class 'complex'>\n"
     ]
    }
   ],
   "source": [
    "z = complex(num_1)\n",
    "print('z is ->', z)\n",
    "print('type(z) is ->', type(z))"
   ]
  },
  {
   "cell_type": "markdown",
   "id": "734b2724",
   "metadata": {},
   "source": [
    "-----------------------------------------------------------------------------"
   ]
  },
  {
   "cell_type": "markdown",
   "id": "b6665980",
   "metadata": {},
   "source": [
    "نمی توان اعداد مختلط را به عدد صحیح یا اعشاری تبدیل کرد"
   ]
  },
  {
   "cell_type": "code",
   "execution_count": 23,
   "id": "0c7597aa",
   "metadata": {},
   "outputs": [
    {
     "ename": "TypeError",
     "evalue": "can't convert complex to int",
     "output_type": "error",
     "traceback": [
      "\u001b[1;31m---------------------------------------------------------------------------\u001b[0m",
      "\u001b[1;31mTypeError\u001b[0m                                 Traceback (most recent call last)",
      "Input \u001b[1;32mIn [23]\u001b[0m, in \u001b[0;36m<cell line: 1>\u001b[1;34m()\u001b[0m\n\u001b[1;32m----> 1\u001b[0m z2 \u001b[38;5;241m=\u001b[39m \u001b[38;5;28;43mint\u001b[39;49m\u001b[43m(\u001b[49m\u001b[43mnum_3\u001b[49m\u001b[43m)\u001b[49m\n",
      "\u001b[1;31mTypeError\u001b[0m: can't convert complex to int"
     ]
    }
   ],
   "source": [
    "error_1 = int(num_3)"
   ]
  },
  {
   "cell_type": "code",
   "execution_count": 24,
   "id": "349db64f",
   "metadata": {},
   "outputs": [
    {
     "ename": "TypeError",
     "evalue": "can't convert complex to float",
     "output_type": "error",
     "traceback": [
      "\u001b[1;31m---------------------------------------------------------------------------\u001b[0m",
      "\u001b[1;31mTypeError\u001b[0m                                 Traceback (most recent call last)",
      "Input \u001b[1;32mIn [24]\u001b[0m, in \u001b[0;36m<cell line: 1>\u001b[1;34m()\u001b[0m\n\u001b[1;32m----> 1\u001b[0m error_2 \u001b[38;5;241m=\u001b[39m \u001b[38;5;28;43mfloat\u001b[39;49m\u001b[43m(\u001b[49m\u001b[43mnum_3\u001b[49m\u001b[43m)\u001b[49m\n",
      "\u001b[1;31mTypeError\u001b[0m: can't convert complex to float"
     ]
    }
   ],
   "source": [
    "error_2 = float(num_3)"
   ]
  },
  {
   "cell_type": "code",
   "execution_count": null,
   "id": "3a6ceb9f",
   "metadata": {},
   "outputs": [],
   "source": []
  }
 ],
 "metadata": {
  "kernelspec": {
   "display_name": "Python 3 (ipykernel)",
   "language": "python",
   "name": "python3"
  },
  "language_info": {
   "codemirror_mode": {
    "name": "ipython",
    "version": 3
   },
   "file_extension": ".py",
   "mimetype": "text/x-python",
   "name": "python",
   "nbconvert_exporter": "python",
   "pygments_lexer": "ipython3",
   "version": "3.9.13"
  }
 },
 "nbformat": 4,
 "nbformat_minor": 5
}
